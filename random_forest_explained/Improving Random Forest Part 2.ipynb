{
 "cells": [
  {
   "cell_type": "markdown",
   "metadata": {},
   "source": [
    "# Load in Data"
   ]
  },
  {
   "cell_type": "code",
   "execution_count": 1,
   "metadata": {
    "collapsed": true
   },
   "outputs": [],
   "source": [
    "# Pandas is used for data manipulation\n",
    "import pandas as pd\n",
    "\n",
    "# Read in data as a dataframe\n",
    "features = pd.read_csv('data/temps_extended.csv')"
   ]
  },
  {
   "cell_type": "markdown",
   "metadata": {},
   "source": [
    "# Data Preparation"
   ]
  },
  {
   "cell_type": "code",
   "execution_count": 2,
   "metadata": {
    "collapsed": true
   },
   "outputs": [],
   "source": [
    "# One Hot Encoding\n",
    "features = pd.get_dummies(features)\n",
    "\n",
    "# Extract features and labels\n",
    "labels = features['actual']\n",
    "features = features.drop('actual', axis = 1)"
   ]
  },
  {
   "cell_type": "markdown",
   "metadata": {},
   "source": [
    "### Restrict to the Most Important Features\n",
    "\n",
    "These were the six features required to reach a total feature importance of 95% in the first improving random forest notebook.\n",
    "We will use only these features in order to speed up the model."
   ]
  },
  {
   "cell_type": "code",
   "execution_count": 3,
   "metadata": {
    "collapsed": false
   },
   "outputs": [
    {
     "data": {
      "text/html": [
       "<div>\n",
       "<style>\n",
       "    .dataframe thead tr:only-child th {\n",
       "        text-align: right;\n",
       "    }\n",
       "\n",
       "    .dataframe thead th {\n",
       "        text-align: left;\n",
       "    }\n",
       "\n",
       "    .dataframe tbody tr th {\n",
       "        vertical-align: top;\n",
       "    }\n",
       "</style>\n",
       "<table border=\"1\" class=\"dataframe\">\n",
       "  <thead>\n",
       "    <tr style=\"text-align: right;\">\n",
       "      <th></th>\n",
       "      <th>temp_1</th>\n",
       "      <th>average</th>\n",
       "      <th>ws_1</th>\n",
       "      <th>temp_2</th>\n",
       "      <th>friend</th>\n",
       "      <th>year</th>\n",
       "    </tr>\n",
       "  </thead>\n",
       "  <tbody>\n",
       "    <tr>\n",
       "      <th>0</th>\n",
       "      <td>37</td>\n",
       "      <td>45.6</td>\n",
       "      <td>4.92</td>\n",
       "      <td>36</td>\n",
       "      <td>40</td>\n",
       "      <td>2011</td>\n",
       "    </tr>\n",
       "    <tr>\n",
       "      <th>1</th>\n",
       "      <td>40</td>\n",
       "      <td>45.7</td>\n",
       "      <td>5.37</td>\n",
       "      <td>37</td>\n",
       "      <td>50</td>\n",
       "      <td>2011</td>\n",
       "    </tr>\n",
       "    <tr>\n",
       "      <th>2</th>\n",
       "      <td>39</td>\n",
       "      <td>45.8</td>\n",
       "      <td>6.26</td>\n",
       "      <td>40</td>\n",
       "      <td>42</td>\n",
       "      <td>2011</td>\n",
       "    </tr>\n",
       "    <tr>\n",
       "      <th>3</th>\n",
       "      <td>42</td>\n",
       "      <td>45.9</td>\n",
       "      <td>5.59</td>\n",
       "      <td>39</td>\n",
       "      <td>59</td>\n",
       "      <td>2011</td>\n",
       "    </tr>\n",
       "    <tr>\n",
       "      <th>4</th>\n",
       "      <td>38</td>\n",
       "      <td>46.0</td>\n",
       "      <td>3.80</td>\n",
       "      <td>42</td>\n",
       "      <td>39</td>\n",
       "      <td>2011</td>\n",
       "    </tr>\n",
       "  </tbody>\n",
       "</table>\n",
       "</div>"
      ],
      "text/plain": [
       "   temp_1  average  ws_1  temp_2  friend  year\n",
       "0      37     45.6  4.92      36      40  2011\n",
       "1      40     45.7  5.37      37      50  2011\n",
       "2      39     45.8  6.26      40      42  2011\n",
       "3      42     45.9  5.59      39      59  2011\n",
       "4      38     46.0  3.80      42      39  2011"
      ]
     },
     "execution_count": 3,
     "metadata": {},
     "output_type": "execute_result"
    }
   ],
   "source": [
    "# Names of six features accounting for 95% of total importance\n",
    "important_feature_names = ['temp_1', 'average', 'ws_1', 'temp_2', 'friend', 'year']\n",
    "\n",
    "# Update feature list for visualizations\n",
    "feature_list = important_feature_names[:]\n",
    "\n",
    "features = features[important_feature_names]\n",
    "features.head(5)"
   ]
  },
  {
   "cell_type": "code",
   "execution_count": 4,
   "metadata": {
    "collapsed": false
   },
   "outputs": [
    {
     "data": {
      "text/plain": [
       "1    39\n",
       "2    42\n",
       "3    38\n",
       "4    45\n",
       "5    49\n",
       "Name: actual, dtype: int64"
      ]
     },
     "execution_count": 4,
     "metadata": {},
     "output_type": "execute_result"
    }
   ],
   "source": [
    "labels[1:6]"
   ]
  },
  {
   "cell_type": "code",
   "execution_count": 5,
   "metadata": {
    "collapsed": true
   },
   "outputs": [],
   "source": [
    "# Convert to numpy arrays\n",
    "import numpy as np\n",
    "\n",
    "features = np.array(features)\n",
    "labels = np.array(labels)\n",
    "\n",
    "# Training and Testing Sets\n",
    "from sklearn.model_selection import train_test_split\n",
    "\n",
    "train_features, test_features, train_labels, test_labels = train_test_split(features, labels, \n",
    "                                                                            test_size = 0.25, random_state = 42)"
   ]
  },
  {
   "cell_type": "code",
   "execution_count": 6,
   "metadata": {
    "collapsed": false
   },
   "outputs": [
    {
     "name": "stdout",
     "output_type": "stream",
     "text": [
      "Training Features Shape: (1643, 6)\n",
      "Training Labels Shape: (1643,)\n",
      "Testing Features Shape: (548, 6)\n",
      "Testing Labels Shape: (548,)\n"
     ]
    }
   ],
   "source": [
    "print('Training Features Shape:', train_features.shape)\n",
    "print('Training Labels Shape:', train_labels.shape)\n",
    "print('Testing Features Shape:', test_features.shape)\n",
    "print('Testing Labels Shape:', test_labels.shape)"
   ]
  },
  {
   "cell_type": "code",
   "execution_count": 7,
   "metadata": {
    "collapsed": false
   },
   "outputs": [
    {
     "name": "stdout",
     "output_type": "stream",
     "text": [
      "4.5 years of data in the training set\n",
      "1.5 years of data in the test set\n"
     ]
    }
   ],
   "source": [
    "print('{:0.1f} years of data in the training set'.format(train_features.shape[0] / 365.))\n",
    "print('{:0.1f} years of data in the test set'.format(test_features.shape[0] / 365.))"
   ]
  },
  {
   "cell_type": "markdown",
   "metadata": {},
   "source": [
    "### Examine the Default Random Forest to Determine Parameters\n",
    "\n",
    "We will use these parameters as a starting point. I relied on the [sklearn random forest documentation](http://scikit-learn.org/stable/modules/generated/sklearn.ensemble.RandomForestClassifier.html) to determine which features to change and the available options."
   ]
  },
  {
   "cell_type": "code",
   "execution_count": 8,
   "metadata": {
    "collapsed": false
   },
   "outputs": [
    {
     "name": "stdout",
     "output_type": "stream",
     "text": [
      "Parameters currently in use:\n",
      "\n",
      "{'bootstrap': True,\n",
      " 'criterion': 'mse',\n",
      " 'max_depth': None,\n",
      " 'max_features': 'auto',\n",
      " 'max_leaf_nodes': None,\n",
      " 'min_impurity_decrease': 0.0,\n",
      " 'min_impurity_split': None,\n",
      " 'min_samples_leaf': 1,\n",
      " 'min_samples_split': 2,\n",
      " 'min_weight_fraction_leaf': 0.0,\n",
      " 'n_estimators': 10,\n",
      " 'n_jobs': 1,\n",
      " 'oob_score': False,\n",
      " 'random_state': 42,\n",
      " 'verbose': 0,\n",
      " 'warm_start': False}\n"
     ]
    }
   ],
   "source": [
    "from sklearn.ensemble import RandomForestRegressor\n",
    "\n",
    "rf = RandomForestRegressor(random_state = 42)\n",
    "\n",
    "from pprint import pprint\n",
    "\n",
    "# Look at parameters used by our current forest\n",
    "print('Parameters currently in use:\\n')\n",
    "pprint(rf.get_params())"
   ]
  },
  {
   "cell_type": "markdown",
   "metadata": {},
   "source": [
    "# Random Search with Cross Validation"
   ]
  },
  {
   "cell_type": "code",
   "execution_count": 9,
   "metadata": {
    "collapsed": false
   },
   "outputs": [
    {
     "name": "stdout",
     "output_type": "stream",
     "text": [
      "{'bootstrap': [True, False],\n",
      " 'max_depth': [10, 20, 30, 40, 50, 60, 70, 80, 90, 100, 110, None],\n",
      " 'max_features': ['auto', 'sqrt'],\n",
      " 'min_samples_leaf': [1, 2, 4],\n",
      " 'min_samples_split': [2, 5, 10],\n",
      " 'n_estimators': [200, 400, 600, 800, 1000, 1200, 1400, 1600, 1800, 2000]}\n"
     ]
    }
   ],
   "source": [
    "from sklearn.model_selection import RandomizedSearchCV\n",
    "\n",
    "# Number of trees in random forest\n",
    "n_estimators = [int(x) for x in np.linspace(start = 200, stop = 2000, num = 10)]\n",
    "# Number of features to consider at every split\n",
    "max_features = ['auto', 'sqrt']\n",
    "# Maximum number of levels in tree\n",
    "max_depth = [int(x) for x in np.linspace(10, 110, num = 11)]\n",
    "max_depth.append(None)\n",
    "# Minimum number of samples required to split a node\n",
    "min_samples_split = [2, 5, 10]\n",
    "# Minimum number of samples required at each leaf node\n",
    "min_samples_leaf = [1, 2, 4]\n",
    "# Method of selecting samples for training each tree\n",
    "bootstrap = [True, False]\n",
    "\n",
    "# Create the random grid\n",
    "random_grid = {'n_estimators': n_estimators,\n",
    "               'max_features': max_features,\n",
    "               'max_depth': max_depth,\n",
    "               'min_samples_split': min_samples_split,\n",
    "               'min_samples_leaf': min_samples_leaf,\n",
    "               'bootstrap': bootstrap}\n",
    "\n",
    "pprint(random_grid)"
   ]
  },
  {
   "cell_type": "code",
   "execution_count": 10,
   "metadata": {
    "collapsed": false
   },
   "outputs": [
    {
     "name": "stdout",
     "output_type": "stream",
     "text": [
      "Fitting 3 folds for each of 100 candidates, totalling 300 fits\n"
     ]
    },
    {
     "name": "stderr",
     "output_type": "stream",
     "text": [
      "[Parallel(n_jobs=-1)]: Done  33 tasks      | elapsed:   59.4s\n",
      "[Parallel(n_jobs=-1)]: Done 154 tasks      | elapsed:  4.1min\n",
      "[Parallel(n_jobs=-1)]: Done 300 out of 300 | elapsed:  8.0min finished\n"
     ]
    },
    {
     "data": {
      "text/plain": [
       "RandomizedSearchCV(cv=3, error_score='raise',\n",
       "          estimator=RandomForestRegressor(bootstrap=True, criterion='mse', max_depth=None,\n",
       "           max_features='auto', max_leaf_nodes=None,\n",
       "           min_impurity_decrease=0.0, min_impurity_split=None,\n",
       "           min_samples_leaf=1, min_samples_split=2,\n",
       "           min_weight_fraction_leaf=0.0, n_estimators=10, n_jobs=1,\n",
       "           oob_score=False, random_state=42, verbose=0, warm_start=False),\n",
       "          fit_params=None, iid=True, n_iter=100, n_jobs=-1,\n",
       "          param_distributions={'n_estimators': [200, 400, 600, 800, 1000, 1200, 1400, 1600, 1800, 2000], 'max_features': ['auto', 'sqrt'], 'max_depth': [10, 20, 30, 40, 50, 60, 70, 80, 90, 100, 110, None], 'min_samples_split': [2, 5, 10], 'min_samples_leaf': [1, 2, 4], 'bootstrap': [True, False]},\n",
       "          pre_dispatch='2*n_jobs', random_state=42, refit=True,\n",
       "          return_train_score=True, scoring='neg_mean_absolute_error',\n",
       "          verbose=2)"
      ]
     },
     "execution_count": 10,
     "metadata": {},
     "output_type": "execute_result"
    }
   ],
   "source": [
    "# Use the random grid to search for best hyperparameters\n",
    "# First create the base model to tune\n",
    "rf = RandomForestRegressor(random_state = 42)\n",
    "# Random search of parameters, using 3 fold cross validation, \n",
    "# search across 100 different combinations, and use all available cores\n",
    "rf_random = RandomizedSearchCV(estimator=rf, param_distributions=random_grid,\n",
    "                              n_iter = 100, scoring='neg_mean_absolute_error', \n",
    "                              cv = 3, verbose=2, random_state=42, n_jobs=-1)\n",
    "\n",
    "# Fit the random search model\n",
    "rf_random.fit(train_features, train_labels)"
   ]
  },
  {
   "cell_type": "code",
   "execution_count": 11,
   "metadata": {
    "collapsed": false
   },
   "outputs": [
    {
     "data": {
      "text/plain": [
       "{'bootstrap': True,\n",
       " 'max_depth': 70,\n",
       " 'max_features': 'auto',\n",
       " 'min_samples_leaf': 4,\n",
       " 'min_samples_split': 10,\n",
       " 'n_estimators': 400}"
      ]
     },
     "execution_count": 11,
     "metadata": {},
     "output_type": "execute_result"
    }
   ],
   "source": [
    "rf_random.best_params_"
   ]
  },
  {
   "cell_type": "code",
   "execution_count": 12,
   "metadata": {
    "collapsed": false
   },
   "outputs": [
    {
     "data": {
      "text/plain": [
       "{'mean_fit_time': array([  1.53441493,   7.46285431,   5.13098391,  13.95746565,\n",
       "          5.32383037,   3.23226547,   4.46822047,   2.88433989,\n",
       "          9.9447906 ,  12.31977534,   2.0407625 ,   3.73894739,\n",
       "          7.85723662,   6.56312728,   3.21956515,  12.37425407,\n",
       "          4.75130693,   4.34756645,  12.97919631,   3.63032436,\n",
       "          7.43444562,   7.59754594,   4.72456956,  10.77566783,\n",
       "          6.8338472 ,   2.27104171,  13.59617146,   3.61194317,\n",
       "         13.39363233,   4.46888979,   4.68813896,   3.73994931,\n",
       "          3.82116604,   2.68380713,   6.1229562 ,   3.29075472,\n",
       "          4.40572135,   5.51233236,   4.60625498,   3.80779624,\n",
       "          1.00968639,   2.02471908,   2.65138642,   1.31115413,\n",
       "          1.6383582 ,   4.32049362,  11.99524546,   1.58822536,\n",
       "          4.8976961 ,   2.79610538,  17.33612148,  14.27831944,\n",
       "          6.71987788,   6.84153446,   6.38398377,   2.33855526,\n",
       "          9.30441991,  10.67473245,   9.67841585,   4.74863331,\n",
       "          0.89270798,   1.36563253,   6.66105461,   8.59319488,\n",
       "          5.54307946,   8.52434564,  12.15834594,   8.33617767,\n",
       "          4.22323585,  14.520631  ,   5.60457691,   3.20686452,\n",
       "          6.54608107,   3.46856085,   9.84285235,   1.57853198,\n",
       "          5.58218368,   7.67308044,   3.51301273,   1.01403054,\n",
       "         13.72250708,   3.1627473 ,   5.11059634,   5.8161401 ,\n",
       "          3.36294659,   2.55847295,   1.50266385,   5.32249268,\n",
       "          2.65472929,   3.3723042 ,   2.11395709,   7.98524412,\n",
       "          3.03741376,   3.17979312,   2.37164179,   2.83654531,\n",
       "          7.74961742,   1.36763755,   7.57047439,  10.26631244]),\n",
       " 'mean_score_time': array([ 0.07753984,  0.33388845,  0.20454439,  0.31316686,  0.24699004,\n",
       "         0.13536032,  0.17780638,  0.10828797,  0.19886223,  0.32620128,\n",
       "         0.05915689,  0.15641586,  0.31851427,  0.28743148,  0.13836861,\n",
       "         0.29678988,  0.09792733,  0.21356805,  0.30314032,  0.10126901,\n",
       "         0.32085363,  0.30781921,  0.22727116,  0.35995738,  0.2657071 ,\n",
       "         0.09358223,  0.29612128,  0.16343458,  0.34291228,  0.20788566,\n",
       "         0.19919682,  0.15307387,  0.15273984,  0.13268598,  0.29244407,\n",
       "         0.14304717,  0.19752526,  0.15942327,  0.13134893,  0.18582845,\n",
       "         0.03208518,  0.10394335,  0.12867634,  0.05915737,  0.03509323,\n",
       "         0.19752518,  0.3870302 ,  0.06483881,  0.19752558,  0.11664367,\n",
       "         0.36898216,  0.32686949,  0.15675116,  0.16811442,  0.26503825,\n",
       "         0.12031968,  0.25133538,  0.319851  ,  0.27005156,  0.22259275,\n",
       "         0.03776805,  0.05848932,  0.15641586,  0.19819331,  0.24398224,\n",
       "         0.25233722,  0.2901051 ,  0.27138877,  0.18683004,  0.33087969,\n",
       "         0.24331379,  0.13803411,  0.30781857,  0.07887657,  0.28910311,\n",
       "         0.06617626,  0.25534638,  0.3749973 ,  0.16677737,  0.03609633,\n",
       "         0.32152359,  0.09324805,  0.15474478,  0.12867498,  0.13870215,\n",
       "         0.11463801,  0.07018677,  0.27506518,  0.12900949,  0.1520714 ,\n",
       "         0.0989298 ,  0.33088001,  0.15106861,  0.09057347,  0.1022718 ,\n",
       "         0.06884988,  0.17112168,  0.03141697,  0.38669491,  0.28943777]),\n",
       " 'mean_test_score': array([-3.88281609, -3.87356245, -3.90181133, -4.56602949, -3.86745569,\n",
       "        -3.88748326, -3.91510367, -3.93856157, -5.00819355, -4.50546164,\n",
       "        -3.84201927, -3.94060091, -3.90616181, -3.89979051, -3.90117468,\n",
       "        -4.56608042, -4.96205865, -3.88247725, -4.6176794 , -3.88947073,\n",
       "        -3.9127733 , -3.9384374 , -3.86775433, -3.88115634, -3.93903153,\n",
       "        -3.95812462, -5.0077215 , -3.86478359, -4.50636276, -3.86805655,\n",
       "        -3.88622983, -3.92090387, -3.94060091, -3.86879862, -3.86779582,\n",
       "        -3.90116102, -3.86628503, -3.90473752, -3.87788805, -3.86741272,\n",
       "        -3.85049346, -3.86649348, -3.87093953, -3.86280351, -4.96104382,\n",
       "        -3.88281457, -3.88156852, -3.88775021, -3.8856383 , -3.91974448,\n",
       "        -5.00825015, -4.61772761, -4.50636905, -4.56579656, -3.91456987,\n",
       "        -3.88877058, -3.8821976 , -3.88115634, -3.9026063 , -3.87052809,\n",
       "        -3.89729458, -3.86561341, -4.50636905, -4.61786769, -3.86690707,\n",
       "        -3.86291022, -4.50546164, -3.88201049, -3.9091292 , -4.61772761,\n",
       "        -3.88614038, -3.88748326, -3.8670007 , -4.93713456, -3.89227045,\n",
       "        -3.90508453, -3.86693085, -3.87604132, -3.86626261, -3.85204545,\n",
       "        -4.56602949, -3.85998487, -3.84542991, -4.61783786, -3.88748326,\n",
       "        -3.9115551 , -3.88281609, -3.86706366, -3.86879862, -3.86718336,\n",
       "        -3.86119828, -3.88516736, -3.87783234, -3.84439436, -3.88877058,\n",
       "        -4.61802445, -4.78749221, -4.56616433, -3.86831119, -3.86334324]),\n",
       " 'mean_train_score': array([ -1.95255988e+00,  -2.28500867e+00,  -1.72625521e+00,\n",
       "         -2.35781428e+00,  -2.82996477e+00,  -2.15431671e+00,\n",
       "         -1.19527871e+00,  -8.23037825e-01,   0.00000000e+00,\n",
       "         -2.45219425e+00,  -2.57254221e+00,  -8.22423937e-01,\n",
       "         -2.09022661e+00,  -1.72701310e+00,  -1.92674412e+00,\n",
       "         -2.35782006e+00,  -1.43281072e+00,  -1.43308862e+00,\n",
       "         -2.21587423e+00,  -1.74092144e+00,  -1.75049516e+00,\n",
       "         -8.21533961e-01,  -2.79181888e+00,  -1.77876970e+00,\n",
       "         -8.21638912e-01,  -8.85619771e-04,   0.00000000e+00,\n",
       "         -2.19267486e+00,  -2.50103640e+00,  -2.08854802e+00,\n",
       "         -2.27055235e+00,  -1.03441431e+00,  -8.22423937e-01,\n",
       "         -2.86716209e+00,  -2.79219863e+00,  -1.92674362e+00,\n",
       "         -2.19158535e+00,  -1.43161290e+00,  -1.88542816e+00,\n",
       "         -2.08764304e+00,  -2.51116867e+00,  -2.65618052e+00,\n",
       "         -2.79516251e+00,  -2.86810527e+00,  -1.43229508e+00,\n",
       "         -1.43297966e+00,  -1.77765513e+00,  -2.27193477e+00,\n",
       "         -2.15421328e+00,  -1.03408881e+00,  -3.69017419e-04,\n",
       "         -2.21589629e+00,  -2.50105966e+00,  -2.35784595e+00,\n",
       "         -1.19479465e+00,  -2.15459931e+00,  -2.03155328e+00,\n",
       "         -1.77876970e+00,  -1.42887594e+00,  -2.65190065e+00,\n",
       "         -1.44526472e+00,  -2.83460330e+00,  -2.50105966e+00,\n",
       "         -2.21584594e+00,  -2.54672178e+00,  -2.37027409e+00,\n",
       "         -2.45219425e+00,  -1.77887239e+00,  -1.75165456e+00,\n",
       "         -2.21589629e+00,  -2.15382507e+00,  -2.15431671e+00,\n",
       "         -2.19044304e+00,  -1.04524137e+00,  -1.73447634e+00,\n",
       "         -1.92764522e+00,  -2.54682473e+00,  -1.94869808e+00,\n",
       "         -2.39377201e+00,  -2.47038285e+00,  -2.35781428e+00,\n",
       "         -2.37602835e+00,  -2.46424169e+00,  -2.21577693e+00,\n",
       "         -2.15431671e+00,  -1.75148932e+00,  -1.95255988e+00,\n",
       "         -2.79179155e+00,  -2.86716209e+00,  -2.73191188e+00,\n",
       "         -2.54835879e+00,  -2.15363626e+00,  -1.94980791e+00,\n",
       "         -2.46667658e+00,  -2.15459931e+00,  -2.21588739e+00,\n",
       "         -1.35156133e+00,  -2.35774722e+00,  -2.08717773e+00,\n",
       "         -2.36867937e+00]),\n",
       " 'param_bootstrap': masked_array(data = [True True False False True False False False False False True False False\n",
       "  False False False False True False True False False True True False False\n",
       "  False True False True False False False True True False True True True\n",
       "  True True True True True False True True False False False False False\n",
       "  False False False False True True True True True True False False True\n",
       "  True False True False False False False True False True False True True\n",
       "  True True False True True False False False True True True True True False\n",
       "  True True False False False False True True],\n",
       "              mask = [False False False False False False False False False False False False\n",
       "  False False False False False False False False False False False False\n",
       "  False False False False False False False False False False False False\n",
       "  False False False False False False False False False False False False\n",
       "  False False False False False False False False False False False False\n",
       "  False False False False False False False False False False False False\n",
       "  False False False False False False False False False False False False\n",
       "  False False False False False False False False False False False False\n",
       "  False False False False],\n",
       "        fill_value = ?),\n",
       " 'param_max_depth': masked_array(data = [30 10 10 30 10 30 100 60 50 10 70 90 10 10 30 50 70 20 110 80 30 70 80\n",
       "  None 80 None 40 20 100 20 20 50 100 50 90 20 20 100 None 60 10 60 90 90 90\n",
       "  110 90 80 70 110 20 50 50 30 None 60 10 80 100 80 50 10 80 None 20 None 10\n",
       "  70 80 60 80 20 60 90 90 90 None 100 10 80 60 100 100 None 70 40 100 80 100\n",
       "  10 110 None 40 40 30 40 10 100 20 40],\n",
       "              mask = [False False False False False False False False False False False False\n",
       "  False False False False False False False False False False False False\n",
       "  False False False False False False False False False False False False\n",
       "  False False False False False False False False False False False False\n",
       "  False False False False False False False False False False False False\n",
       "  False False False False False False False False False False False False\n",
       "  False False False False False False False False False False False False\n",
       "  False False False False False False False False False False False False\n",
       "  False False False False],\n",
       "        fill_value = ?),\n",
       " 'param_max_features': masked_array(data = ['sqrt' 'sqrt' 'sqrt' 'auto' 'sqrt' 'sqrt' 'sqrt' 'sqrt' 'auto' 'auto'\n",
       "  'auto' 'sqrt' 'sqrt' 'sqrt' 'sqrt' 'auto' 'auto' 'sqrt' 'auto' 'auto'\n",
       "  'sqrt' 'sqrt' 'sqrt' 'auto' 'sqrt' 'sqrt' 'auto' 'sqrt' 'auto' 'sqrt'\n",
       "  'sqrt' 'sqrt' 'sqrt' 'sqrt' 'sqrt' 'sqrt' 'sqrt' 'auto' 'auto' 'sqrt'\n",
       "  'auto' 'sqrt' 'sqrt' 'sqrt' 'auto' 'sqrt' 'auto' 'sqrt' 'sqrt' 'sqrt'\n",
       "  'auto' 'auto' 'auto' 'auto' 'sqrt' 'sqrt' 'auto' 'auto' 'auto' 'sqrt'\n",
       "  'sqrt' 'sqrt' 'auto' 'auto' 'sqrt' 'auto' 'auto' 'auto' 'sqrt' 'auto'\n",
       "  'sqrt' 'sqrt' 'sqrt' 'auto' 'auto' 'sqrt' 'sqrt' 'sqrt' 'sqrt' 'auto'\n",
       "  'auto' 'auto' 'auto' 'auto' 'sqrt' 'sqrt' 'sqrt' 'sqrt' 'sqrt' 'sqrt'\n",
       "  'sqrt' 'sqrt' 'sqrt' 'auto' 'sqrt' 'auto' 'auto' 'auto' 'sqrt' 'auto'],\n",
       "              mask = [False False False False False False False False False False False False\n",
       "  False False False False False False False False False False False False\n",
       "  False False False False False False False False False False False False\n",
       "  False False False False False False False False False False False False\n",
       "  False False False False False False False False False False False False\n",
       "  False False False False False False False False False False False False\n",
       "  False False False False False False False False False False False False\n",
       "  False False False False False False False False False False False False\n",
       "  False False False False],\n",
       "        fill_value = ?),\n",
       " 'param_min_samples_leaf': masked_array(data = [1 1 2 4 4 4 2 1 1 4 4 1 1 2 2 4 2 1 2 1 1 1 4 2 1 1 1 2 4 2 4 2 1 4 4 2 2\n",
       "  1 2 2 4 2 4 4 2 1 2 4 4 2 1 2 4 4 2 4 1 2 1 2 1 4 4 2 1 2 4 2 1 2 4 4 2 1\n",
       "  1 2 1 1 2 4 4 2 4 2 4 1 1 4 4 2 1 4 1 4 4 2 1 4 2 2],\n",
       "              mask = [False False False False False False False False False False False False\n",
       "  False False False False False False False False False False False False\n",
       "  False False False False False False False False False False False False\n",
       "  False False False False False False False False False False False False\n",
       "  False False False False False False False False False False False False\n",
       "  False False False False False False False False False False False False\n",
       "  False False False False False False False False False False False False\n",
       "  False False False False False False False False False False False False\n",
       "  False False False False],\n",
       "        fill_value = ?),\n",
       " 'param_min_samples_split': masked_array(data = [5 5 5 2 2 5 5 5 2 5 10 5 10 5 10 2 5 2 10 5 10 5 5 2 5 2 2 5 10 2 10 2 5\n",
       "  10 2 10 5 2 5 2 5 10 2 10 5 2 2 10 2 2 2 10 10 5 5 2 5 2 2 10 2 2 10 10 10\n",
       "  10 2 2 10 10 2 2 5 5 5 10 10 5 5 5 2 10 5 10 5 10 5 2 10 10 10 5 5 2 2 10\n",
       "  2 5 2 10],\n",
       "              mask = [False False False False False False False False False False False False\n",
       "  False False False False False False False False False False False False\n",
       "  False False False False False False False False False False False False\n",
       "  False False False False False False False False False False False False\n",
       "  False False False False False False False False False False False False\n",
       "  False False False False False False False False False False False False\n",
       "  False False False False False False False False False False False False\n",
       "  False False False False False False False False False False False False\n",
       "  False False False False],\n",
       "        fill_value = ?),\n",
       " 'param_n_estimators': masked_array(data = [400 2000 1200 2000 1600 800 1000 600 1000 1800 400 800 2000 1600 800 1800\n",
       "  600 1000 1800 600 1800 1600 1400 1800 1400 400 1400 1000 2000 1200 1200\n",
       "  800 800 800 1800 800 1200 800 800 1000 200 600 800 400 200 1000 2000 400\n",
       "  1200 600 1800 2000 1000 1000 1400 600 1600 1800 1400 1400 200 400 1000\n",
       "  1200 1600 1600 1800 1400 1000 2000 1400 800 1800 400 1600 400 1600 2000\n",
       "  1000 200 2000 600 1000 800 800 600 400 1600 800 1000 600 2000 800 600 600\n",
       "  400 1000 200 2000 2000],\n",
       "              mask = [False False False False False False False False False False False False\n",
       "  False False False False False False False False False False False False\n",
       "  False False False False False False False False False False False False\n",
       "  False False False False False False False False False False False False\n",
       "  False False False False False False False False False False False False\n",
       "  False False False False False False False False False False False False\n",
       "  False False False False False False False False False False False False\n",
       "  False False False False False False False False False False False False\n",
       "  False False False False],\n",
       "        fill_value = ?),\n",
       " 'params': [{'bootstrap': True,\n",
       "   'max_depth': 30,\n",
       "   'max_features': 'sqrt',\n",
       "   'min_samples_leaf': 1,\n",
       "   'min_samples_split': 5,\n",
       "   'n_estimators': 400},\n",
       "  {'bootstrap': True,\n",
       "   'max_depth': 10,\n",
       "   'max_features': 'sqrt',\n",
       "   'min_samples_leaf': 1,\n",
       "   'min_samples_split': 5,\n",
       "   'n_estimators': 2000},\n",
       "  {'bootstrap': False,\n",
       "   'max_depth': 10,\n",
       "   'max_features': 'sqrt',\n",
       "   'min_samples_leaf': 2,\n",
       "   'min_samples_split': 5,\n",
       "   'n_estimators': 1200},\n",
       "  {'bootstrap': False,\n",
       "   'max_depth': 30,\n",
       "   'max_features': 'auto',\n",
       "   'min_samples_leaf': 4,\n",
       "   'min_samples_split': 2,\n",
       "   'n_estimators': 2000},\n",
       "  {'bootstrap': True,\n",
       "   'max_depth': 10,\n",
       "   'max_features': 'sqrt',\n",
       "   'min_samples_leaf': 4,\n",
       "   'min_samples_split': 2,\n",
       "   'n_estimators': 1600},\n",
       "  {'bootstrap': False,\n",
       "   'max_depth': 30,\n",
       "   'max_features': 'sqrt',\n",
       "   'min_samples_leaf': 4,\n",
       "   'min_samples_split': 5,\n",
       "   'n_estimators': 800},\n",
       "  {'bootstrap': False,\n",
       "   'max_depth': 100,\n",
       "   'max_features': 'sqrt',\n",
       "   'min_samples_leaf': 2,\n",
       "   'min_samples_split': 5,\n",
       "   'n_estimators': 1000},\n",
       "  {'bootstrap': False,\n",
       "   'max_depth': 60,\n",
       "   'max_features': 'sqrt',\n",
       "   'min_samples_leaf': 1,\n",
       "   'min_samples_split': 5,\n",
       "   'n_estimators': 600},\n",
       "  {'bootstrap': False,\n",
       "   'max_depth': 50,\n",
       "   'max_features': 'auto',\n",
       "   'min_samples_leaf': 1,\n",
       "   'min_samples_split': 2,\n",
       "   'n_estimators': 1000},\n",
       "  {'bootstrap': False,\n",
       "   'max_depth': 10,\n",
       "   'max_features': 'auto',\n",
       "   'min_samples_leaf': 4,\n",
       "   'min_samples_split': 5,\n",
       "   'n_estimators': 1800},\n",
       "  {'bootstrap': True,\n",
       "   'max_depth': 70,\n",
       "   'max_features': 'auto',\n",
       "   'min_samples_leaf': 4,\n",
       "   'min_samples_split': 10,\n",
       "   'n_estimators': 400},\n",
       "  {'bootstrap': False,\n",
       "   'max_depth': 90,\n",
       "   'max_features': 'sqrt',\n",
       "   'min_samples_leaf': 1,\n",
       "   'min_samples_split': 5,\n",
       "   'n_estimators': 800},\n",
       "  {'bootstrap': False,\n",
       "   'max_depth': 10,\n",
       "   'max_features': 'sqrt',\n",
       "   'min_samples_leaf': 1,\n",
       "   'min_samples_split': 10,\n",
       "   'n_estimators': 2000},\n",
       "  {'bootstrap': False,\n",
       "   'max_depth': 10,\n",
       "   'max_features': 'sqrt',\n",
       "   'min_samples_leaf': 2,\n",
       "   'min_samples_split': 5,\n",
       "   'n_estimators': 1600},\n",
       "  {'bootstrap': False,\n",
       "   'max_depth': 30,\n",
       "   'max_features': 'sqrt',\n",
       "   'min_samples_leaf': 2,\n",
       "   'min_samples_split': 10,\n",
       "   'n_estimators': 800},\n",
       "  {'bootstrap': False,\n",
       "   'max_depth': 50,\n",
       "   'max_features': 'auto',\n",
       "   'min_samples_leaf': 4,\n",
       "   'min_samples_split': 2,\n",
       "   'n_estimators': 1800},\n",
       "  {'bootstrap': False,\n",
       "   'max_depth': 70,\n",
       "   'max_features': 'auto',\n",
       "   'min_samples_leaf': 2,\n",
       "   'min_samples_split': 5,\n",
       "   'n_estimators': 600},\n",
       "  {'bootstrap': True,\n",
       "   'max_depth': 20,\n",
       "   'max_features': 'sqrt',\n",
       "   'min_samples_leaf': 1,\n",
       "   'min_samples_split': 2,\n",
       "   'n_estimators': 1000},\n",
       "  {'bootstrap': False,\n",
       "   'max_depth': 110,\n",
       "   'max_features': 'auto',\n",
       "   'min_samples_leaf': 2,\n",
       "   'min_samples_split': 10,\n",
       "   'n_estimators': 1800},\n",
       "  {'bootstrap': True,\n",
       "   'max_depth': 80,\n",
       "   'max_features': 'auto',\n",
       "   'min_samples_leaf': 1,\n",
       "   'min_samples_split': 5,\n",
       "   'n_estimators': 600},\n",
       "  {'bootstrap': False,\n",
       "   'max_depth': 30,\n",
       "   'max_features': 'sqrt',\n",
       "   'min_samples_leaf': 1,\n",
       "   'min_samples_split': 10,\n",
       "   'n_estimators': 1800},\n",
       "  {'bootstrap': False,\n",
       "   'max_depth': 70,\n",
       "   'max_features': 'sqrt',\n",
       "   'min_samples_leaf': 1,\n",
       "   'min_samples_split': 5,\n",
       "   'n_estimators': 1600},\n",
       "  {'bootstrap': True,\n",
       "   'max_depth': 80,\n",
       "   'max_features': 'sqrt',\n",
       "   'min_samples_leaf': 4,\n",
       "   'min_samples_split': 5,\n",
       "   'n_estimators': 1400},\n",
       "  {'bootstrap': True,\n",
       "   'max_depth': None,\n",
       "   'max_features': 'auto',\n",
       "   'min_samples_leaf': 2,\n",
       "   'min_samples_split': 2,\n",
       "   'n_estimators': 1800},\n",
       "  {'bootstrap': False,\n",
       "   'max_depth': 80,\n",
       "   'max_features': 'sqrt',\n",
       "   'min_samples_leaf': 1,\n",
       "   'min_samples_split': 5,\n",
       "   'n_estimators': 1400},\n",
       "  {'bootstrap': False,\n",
       "   'max_depth': None,\n",
       "   'max_features': 'sqrt',\n",
       "   'min_samples_leaf': 1,\n",
       "   'min_samples_split': 2,\n",
       "   'n_estimators': 400},\n",
       "  {'bootstrap': False,\n",
       "   'max_depth': 40,\n",
       "   'max_features': 'auto',\n",
       "   'min_samples_leaf': 1,\n",
       "   'min_samples_split': 2,\n",
       "   'n_estimators': 1400},\n",
       "  {'bootstrap': True,\n",
       "   'max_depth': 20,\n",
       "   'max_features': 'sqrt',\n",
       "   'min_samples_leaf': 2,\n",
       "   'min_samples_split': 5,\n",
       "   'n_estimators': 1000},\n",
       "  {'bootstrap': False,\n",
       "   'max_depth': 100,\n",
       "   'max_features': 'auto',\n",
       "   'min_samples_leaf': 4,\n",
       "   'min_samples_split': 10,\n",
       "   'n_estimators': 2000},\n",
       "  {'bootstrap': True,\n",
       "   'max_depth': 20,\n",
       "   'max_features': 'sqrt',\n",
       "   'min_samples_leaf': 2,\n",
       "   'min_samples_split': 2,\n",
       "   'n_estimators': 1200},\n",
       "  {'bootstrap': False,\n",
       "   'max_depth': 20,\n",
       "   'max_features': 'sqrt',\n",
       "   'min_samples_leaf': 4,\n",
       "   'min_samples_split': 10,\n",
       "   'n_estimators': 1200},\n",
       "  {'bootstrap': False,\n",
       "   'max_depth': 50,\n",
       "   'max_features': 'sqrt',\n",
       "   'min_samples_leaf': 2,\n",
       "   'min_samples_split': 2,\n",
       "   'n_estimators': 800},\n",
       "  {'bootstrap': False,\n",
       "   'max_depth': 100,\n",
       "   'max_features': 'sqrt',\n",
       "   'min_samples_leaf': 1,\n",
       "   'min_samples_split': 5,\n",
       "   'n_estimators': 800},\n",
       "  {'bootstrap': True,\n",
       "   'max_depth': 50,\n",
       "   'max_features': 'sqrt',\n",
       "   'min_samples_leaf': 4,\n",
       "   'min_samples_split': 10,\n",
       "   'n_estimators': 800},\n",
       "  {'bootstrap': True,\n",
       "   'max_depth': 90,\n",
       "   'max_features': 'sqrt',\n",
       "   'min_samples_leaf': 4,\n",
       "   'min_samples_split': 2,\n",
       "   'n_estimators': 1800},\n",
       "  {'bootstrap': False,\n",
       "   'max_depth': 20,\n",
       "   'max_features': 'sqrt',\n",
       "   'min_samples_leaf': 2,\n",
       "   'min_samples_split': 10,\n",
       "   'n_estimators': 800},\n",
       "  {'bootstrap': True,\n",
       "   'max_depth': 20,\n",
       "   'max_features': 'sqrt',\n",
       "   'min_samples_leaf': 2,\n",
       "   'min_samples_split': 5,\n",
       "   'n_estimators': 1200},\n",
       "  {'bootstrap': True,\n",
       "   'max_depth': 100,\n",
       "   'max_features': 'auto',\n",
       "   'min_samples_leaf': 1,\n",
       "   'min_samples_split': 2,\n",
       "   'n_estimators': 800},\n",
       "  {'bootstrap': True,\n",
       "   'max_depth': None,\n",
       "   'max_features': 'auto',\n",
       "   'min_samples_leaf': 2,\n",
       "   'min_samples_split': 5,\n",
       "   'n_estimators': 800},\n",
       "  {'bootstrap': True,\n",
       "   'max_depth': 60,\n",
       "   'max_features': 'sqrt',\n",
       "   'min_samples_leaf': 2,\n",
       "   'min_samples_split': 2,\n",
       "   'n_estimators': 1000},\n",
       "  {'bootstrap': True,\n",
       "   'max_depth': 10,\n",
       "   'max_features': 'auto',\n",
       "   'min_samples_leaf': 4,\n",
       "   'min_samples_split': 5,\n",
       "   'n_estimators': 200},\n",
       "  {'bootstrap': True,\n",
       "   'max_depth': 60,\n",
       "   'max_features': 'sqrt',\n",
       "   'min_samples_leaf': 2,\n",
       "   'min_samples_split': 10,\n",
       "   'n_estimators': 600},\n",
       "  {'bootstrap': True,\n",
       "   'max_depth': 90,\n",
       "   'max_features': 'sqrt',\n",
       "   'min_samples_leaf': 4,\n",
       "   'min_samples_split': 2,\n",
       "   'n_estimators': 800},\n",
       "  {'bootstrap': True,\n",
       "   'max_depth': 90,\n",
       "   'max_features': 'sqrt',\n",
       "   'min_samples_leaf': 4,\n",
       "   'min_samples_split': 10,\n",
       "   'n_estimators': 400},\n",
       "  {'bootstrap': False,\n",
       "   'max_depth': 90,\n",
       "   'max_features': 'auto',\n",
       "   'min_samples_leaf': 2,\n",
       "   'min_samples_split': 5,\n",
       "   'n_estimators': 200},\n",
       "  {'bootstrap': True,\n",
       "   'max_depth': 110,\n",
       "   'max_features': 'sqrt',\n",
       "   'min_samples_leaf': 1,\n",
       "   'min_samples_split': 2,\n",
       "   'n_estimators': 1000},\n",
       "  {'bootstrap': True,\n",
       "   'max_depth': 90,\n",
       "   'max_features': 'auto',\n",
       "   'min_samples_leaf': 2,\n",
       "   'min_samples_split': 2,\n",
       "   'n_estimators': 2000},\n",
       "  {'bootstrap': False,\n",
       "   'max_depth': 80,\n",
       "   'max_features': 'sqrt',\n",
       "   'min_samples_leaf': 4,\n",
       "   'min_samples_split': 10,\n",
       "   'n_estimators': 400},\n",
       "  {'bootstrap': False,\n",
       "   'max_depth': 70,\n",
       "   'max_features': 'sqrt',\n",
       "   'min_samples_leaf': 4,\n",
       "   'min_samples_split': 2,\n",
       "   'n_estimators': 1200},\n",
       "  {'bootstrap': False,\n",
       "   'max_depth': 110,\n",
       "   'max_features': 'sqrt',\n",
       "   'min_samples_leaf': 2,\n",
       "   'min_samples_split': 2,\n",
       "   'n_estimators': 600},\n",
       "  {'bootstrap': False,\n",
       "   'max_depth': 20,\n",
       "   'max_features': 'auto',\n",
       "   'min_samples_leaf': 1,\n",
       "   'min_samples_split': 2,\n",
       "   'n_estimators': 1800},\n",
       "  {'bootstrap': False,\n",
       "   'max_depth': 50,\n",
       "   'max_features': 'auto',\n",
       "   'min_samples_leaf': 2,\n",
       "   'min_samples_split': 10,\n",
       "   'n_estimators': 2000},\n",
       "  {'bootstrap': False,\n",
       "   'max_depth': 50,\n",
       "   'max_features': 'auto',\n",
       "   'min_samples_leaf': 4,\n",
       "   'min_samples_split': 10,\n",
       "   'n_estimators': 1000},\n",
       "  {'bootstrap': False,\n",
       "   'max_depth': 30,\n",
       "   'max_features': 'auto',\n",
       "   'min_samples_leaf': 4,\n",
       "   'min_samples_split': 5,\n",
       "   'n_estimators': 1000},\n",
       "  {'bootstrap': False,\n",
       "   'max_depth': None,\n",
       "   'max_features': 'sqrt',\n",
       "   'min_samples_leaf': 2,\n",
       "   'min_samples_split': 5,\n",
       "   'n_estimators': 1400},\n",
       "  {'bootstrap': False,\n",
       "   'max_depth': 60,\n",
       "   'max_features': 'sqrt',\n",
       "   'min_samples_leaf': 4,\n",
       "   'min_samples_split': 2,\n",
       "   'n_estimators': 600},\n",
       "  {'bootstrap': True,\n",
       "   'max_depth': 10,\n",
       "   'max_features': 'auto',\n",
       "   'min_samples_leaf': 1,\n",
       "   'min_samples_split': 5,\n",
       "   'n_estimators': 1600},\n",
       "  {'bootstrap': True,\n",
       "   'max_depth': 80,\n",
       "   'max_features': 'auto',\n",
       "   'min_samples_leaf': 2,\n",
       "   'min_samples_split': 2,\n",
       "   'n_estimators': 1800},\n",
       "  {'bootstrap': True,\n",
       "   'max_depth': 100,\n",
       "   'max_features': 'auto',\n",
       "   'min_samples_leaf': 1,\n",
       "   'min_samples_split': 2,\n",
       "   'n_estimators': 1400},\n",
       "  {'bootstrap': True,\n",
       "   'max_depth': 80,\n",
       "   'max_features': 'sqrt',\n",
       "   'min_samples_leaf': 2,\n",
       "   'min_samples_split': 10,\n",
       "   'n_estimators': 1400},\n",
       "  {'bootstrap': True,\n",
       "   'max_depth': 50,\n",
       "   'max_features': 'sqrt',\n",
       "   'min_samples_leaf': 1,\n",
       "   'min_samples_split': 2,\n",
       "   'n_estimators': 200},\n",
       "  {'bootstrap': True,\n",
       "   'max_depth': 10,\n",
       "   'max_features': 'sqrt',\n",
       "   'min_samples_leaf': 4,\n",
       "   'min_samples_split': 2,\n",
       "   'n_estimators': 400},\n",
       "  {'bootstrap': False,\n",
       "   'max_depth': 80,\n",
       "   'max_features': 'auto',\n",
       "   'min_samples_leaf': 4,\n",
       "   'min_samples_split': 10,\n",
       "   'n_estimators': 1000},\n",
       "  {'bootstrap': False,\n",
       "   'max_depth': None,\n",
       "   'max_features': 'auto',\n",
       "   'min_samples_leaf': 2,\n",
       "   'min_samples_split': 10,\n",
       "   'n_estimators': 1200},\n",
       "  {'bootstrap': True,\n",
       "   'max_depth': 20,\n",
       "   'max_features': 'sqrt',\n",
       "   'min_samples_leaf': 1,\n",
       "   'min_samples_split': 10,\n",
       "   'n_estimators': 1600},\n",
       "  {'bootstrap': True,\n",
       "   'max_depth': None,\n",
       "   'max_features': 'auto',\n",
       "   'min_samples_leaf': 2,\n",
       "   'min_samples_split': 10,\n",
       "   'n_estimators': 1600},\n",
       "  {'bootstrap': False,\n",
       "   'max_depth': 10,\n",
       "   'max_features': 'auto',\n",
       "   'min_samples_leaf': 4,\n",
       "   'min_samples_split': 2,\n",
       "   'n_estimators': 1800},\n",
       "  {'bootstrap': True,\n",
       "   'max_depth': 70,\n",
       "   'max_features': 'auto',\n",
       "   'min_samples_leaf': 2,\n",
       "   'min_samples_split': 2,\n",
       "   'n_estimators': 1400},\n",
       "  {'bootstrap': False,\n",
       "   'max_depth': 80,\n",
       "   'max_features': 'sqrt',\n",
       "   'min_samples_leaf': 1,\n",
       "   'min_samples_split': 10,\n",
       "   'n_estimators': 1000},\n",
       "  {'bootstrap': False,\n",
       "   'max_depth': 60,\n",
       "   'max_features': 'auto',\n",
       "   'min_samples_leaf': 2,\n",
       "   'min_samples_split': 10,\n",
       "   'n_estimators': 2000},\n",
       "  {'bootstrap': False,\n",
       "   'max_depth': 80,\n",
       "   'max_features': 'sqrt',\n",
       "   'min_samples_leaf': 4,\n",
       "   'min_samples_split': 2,\n",
       "   'n_estimators': 1400},\n",
       "  {'bootstrap': False,\n",
       "   'max_depth': 20,\n",
       "   'max_features': 'sqrt',\n",
       "   'min_samples_leaf': 4,\n",
       "   'min_samples_split': 2,\n",
       "   'n_estimators': 800},\n",
       "  {'bootstrap': True,\n",
       "   'max_depth': 60,\n",
       "   'max_features': 'sqrt',\n",
       "   'min_samples_leaf': 2,\n",
       "   'min_samples_split': 5,\n",
       "   'n_estimators': 1800},\n",
       "  {'bootstrap': False,\n",
       "   'max_depth': 90,\n",
       "   'max_features': 'auto',\n",
       "   'min_samples_leaf': 1,\n",
       "   'min_samples_split': 5,\n",
       "   'n_estimators': 400},\n",
       "  {'bootstrap': True,\n",
       "   'max_depth': 90,\n",
       "   'max_features': 'auto',\n",
       "   'min_samples_leaf': 1,\n",
       "   'min_samples_split': 5,\n",
       "   'n_estimators': 1600},\n",
       "  {'bootstrap': False,\n",
       "   'max_depth': 90,\n",
       "   'max_features': 'sqrt',\n",
       "   'min_samples_leaf': 2,\n",
       "   'min_samples_split': 10,\n",
       "   'n_estimators': 400},\n",
       "  {'bootstrap': True,\n",
       "   'max_depth': None,\n",
       "   'max_features': 'sqrt',\n",
       "   'min_samples_leaf': 1,\n",
       "   'min_samples_split': 10,\n",
       "   'n_estimators': 1600},\n",
       "  {'bootstrap': True,\n",
       "   'max_depth': 100,\n",
       "   'max_features': 'sqrt',\n",
       "   'min_samples_leaf': 1,\n",
       "   'min_samples_split': 5,\n",
       "   'n_estimators': 2000},\n",
       "  {'bootstrap': True,\n",
       "   'max_depth': 10,\n",
       "   'max_features': 'sqrt',\n",
       "   'min_samples_leaf': 2,\n",
       "   'min_samples_split': 5,\n",
       "   'n_estimators': 1000},\n",
       "  {'bootstrap': True,\n",
       "   'max_depth': 80,\n",
       "   'max_features': 'auto',\n",
       "   'min_samples_leaf': 4,\n",
       "   'min_samples_split': 5,\n",
       "   'n_estimators': 200},\n",
       "  {'bootstrap': False,\n",
       "   'max_depth': 60,\n",
       "   'max_features': 'auto',\n",
       "   'min_samples_leaf': 4,\n",
       "   'min_samples_split': 2,\n",
       "   'n_estimators': 2000},\n",
       "  {'bootstrap': True,\n",
       "   'max_depth': 100,\n",
       "   'max_features': 'auto',\n",
       "   'min_samples_leaf': 2,\n",
       "   'min_samples_split': 10,\n",
       "   'n_estimators': 600},\n",
       "  {'bootstrap': True,\n",
       "   'max_depth': 100,\n",
       "   'max_features': 'auto',\n",
       "   'min_samples_leaf': 4,\n",
       "   'min_samples_split': 5,\n",
       "   'n_estimators': 1000},\n",
       "  {'bootstrap': False,\n",
       "   'max_depth': None,\n",
       "   'max_features': 'auto',\n",
       "   'min_samples_leaf': 2,\n",
       "   'min_samples_split': 10,\n",
       "   'n_estimators': 800},\n",
       "  {'bootstrap': False,\n",
       "   'max_depth': 70,\n",
       "   'max_features': 'sqrt',\n",
       "   'min_samples_leaf': 4,\n",
       "   'min_samples_split': 5,\n",
       "   'n_estimators': 800},\n",
       "  {'bootstrap': False,\n",
       "   'max_depth': 40,\n",
       "   'max_features': 'sqrt',\n",
       "   'min_samples_leaf': 1,\n",
       "   'min_samples_split': 10,\n",
       "   'n_estimators': 600},\n",
       "  {'bootstrap': True,\n",
       "   'max_depth': 100,\n",
       "   'max_features': 'sqrt',\n",
       "   'min_samples_leaf': 1,\n",
       "   'min_samples_split': 5,\n",
       "   'n_estimators': 400},\n",
       "  {'bootstrap': True,\n",
       "   'max_depth': 80,\n",
       "   'max_features': 'sqrt',\n",
       "   'min_samples_leaf': 4,\n",
       "   'min_samples_split': 2,\n",
       "   'n_estimators': 1600},\n",
       "  {'bootstrap': True,\n",
       "   'max_depth': 100,\n",
       "   'max_features': 'sqrt',\n",
       "   'min_samples_leaf': 4,\n",
       "   'min_samples_split': 10,\n",
       "   'n_estimators': 800},\n",
       "  {'bootstrap': True,\n",
       "   'max_depth': 10,\n",
       "   'max_features': 'sqrt',\n",
       "   'min_samples_leaf': 2,\n",
       "   'min_samples_split': 10,\n",
       "   'n_estimators': 1000},\n",
       "  {'bootstrap': True,\n",
       "   'max_depth': 110,\n",
       "   'max_features': 'sqrt',\n",
       "   'min_samples_leaf': 1,\n",
       "   'min_samples_split': 10,\n",
       "   'n_estimators': 600},\n",
       "  {'bootstrap': False,\n",
       "   'max_depth': None,\n",
       "   'max_features': 'sqrt',\n",
       "   'min_samples_leaf': 4,\n",
       "   'min_samples_split': 5,\n",
       "   'n_estimators': 2000},\n",
       "  {'bootstrap': True,\n",
       "   'max_depth': 40,\n",
       "   'max_features': 'sqrt',\n",
       "   'min_samples_leaf': 1,\n",
       "   'min_samples_split': 5,\n",
       "   'n_estimators': 800},\n",
       "  {'bootstrap': True,\n",
       "   'max_depth': 40,\n",
       "   'max_features': 'auto',\n",
       "   'min_samples_leaf': 4,\n",
       "   'min_samples_split': 2,\n",
       "   'n_estimators': 600},\n",
       "  {'bootstrap': False,\n",
       "   'max_depth': 30,\n",
       "   'max_features': 'sqrt',\n",
       "   'min_samples_leaf': 4,\n",
       "   'min_samples_split': 2,\n",
       "   'n_estimators': 600},\n",
       "  {'bootstrap': False,\n",
       "   'max_depth': 40,\n",
       "   'max_features': 'auto',\n",
       "   'min_samples_leaf': 2,\n",
       "   'min_samples_split': 10,\n",
       "   'n_estimators': 400},\n",
       "  {'bootstrap': False,\n",
       "   'max_depth': 10,\n",
       "   'max_features': 'auto',\n",
       "   'min_samples_leaf': 1,\n",
       "   'min_samples_split': 2,\n",
       "   'n_estimators': 1000},\n",
       "  {'bootstrap': False,\n",
       "   'max_depth': 100,\n",
       "   'max_features': 'auto',\n",
       "   'min_samples_leaf': 4,\n",
       "   'min_samples_split': 5,\n",
       "   'n_estimators': 200},\n",
       "  {'bootstrap': True,\n",
       "   'max_depth': 20,\n",
       "   'max_features': 'sqrt',\n",
       "   'min_samples_leaf': 2,\n",
       "   'min_samples_split': 2,\n",
       "   'n_estimators': 2000},\n",
       "  {'bootstrap': True,\n",
       "   'max_depth': 40,\n",
       "   'max_features': 'auto',\n",
       "   'min_samples_leaf': 2,\n",
       "   'min_samples_split': 10,\n",
       "   'n_estimators': 2000}],\n",
       " 'rank_test_score': array([ 42,  31,  60,  84,  22,  48,  69,  73,  99,  78,   1,  75,  64,\n",
       "         57,  59,  86,  97,  40,  88,  54,  67,  72,  23,  35,  74,  77,\n",
       "         98,  11,  80,  25,  47,  71,  75,  27,  24,  58,  14,  62,  34,\n",
       "         21,   4,  15,  30,   8,  96,  41,  37,  51,  45,  70, 100,  89,\n",
       "         81,  83,  68,  52,  39,  35,  61,  29,  56,  12,  81,  92,  16,\n",
       "          9,  78,  38,  65,  89,  46,  48,  18,  95,  55,  63,  17,  32,\n",
       "         13,   5,  84,   6,   3,  91,  48,  66,  42,  19,  27,  20,   7,\n",
       "         44,  33,   2,  52,  93,  94,  87,  26,  10]),\n",
       " 'split0_test_score': array([-3.89281798, -3.88985476, -3.91873209, -4.37284862, -3.86812736,\n",
       "        -3.89602676, -3.9221471 , -3.95545316, -4.86388504, -4.32637388,\n",
       "        -3.86132541, -3.95438507, -3.90987893, -3.91933076, -3.9124493 ,\n",
       "        -4.37291654, -4.84937297, -3.90369884, -4.51735184, -3.89391117,\n",
       "        -3.91346025, -3.94952003, -3.86965397, -3.88808213, -3.95017216,\n",
       "        -3.98083257, -4.86467414, -3.87992735, -4.38267816, -3.88216315,\n",
       "        -3.88341833, -3.93885695, -3.95438507, -3.86485841, -3.86841308,\n",
       "        -3.9124493 , -3.88154314, -3.91106752, -3.88626177, -3.88086042,\n",
       "        -3.8697487 , -3.86833369, -3.86991027, -3.86600657, -4.84878269,\n",
       "        -3.89991515, -3.88970105, -3.89007046, -3.89032325, -3.93834369,\n",
       "        -4.86368917, -4.51741117, -4.38278717, -4.37286424, -3.92391358,\n",
       "        -3.89311418, -3.88735228, -3.88808213, -3.91023201, -3.87425167,\n",
       "        -3.9168385 , -3.86486523, -4.38278717, -4.51759236, -3.87487563,\n",
       "        -3.86839651, -4.32637388, -3.8883557 , -3.91011381, -4.51741117,\n",
       "        -3.89382989, -3.89602676, -3.87728232, -4.77703885, -3.89774956,\n",
       "        -3.91119142, -3.87471252, -3.88701073, -3.87813309, -3.87249764,\n",
       "        -4.37284862, -3.86170204, -3.86195509, -4.51733727, -3.89602676,\n",
       "        -3.91336338, -3.89281798, -3.86781331, -3.86485841, -3.8684663 ,\n",
       "        -3.87413041, -3.89124248, -3.88661965, -3.86270867, -3.89311418,\n",
       "        -4.51756119, -4.62851529, -4.37293077, -3.88115321, -3.86969819]),\n",
       " 'split0_train_score': array([ -1.96753881e+00,  -2.29462239e+00,  -1.73775813e+00,\n",
       "         -2.35410821e+00,  -2.84029390e+00,  -2.17419414e+00,\n",
       "         -1.21507209e+00,  -8.27688990e-01,  -0.00000000e+00,\n",
       "         -2.47214306e+00,  -2.58851523e+00,  -8.29063356e-01,\n",
       "         -2.10466346e+00,  -1.73753003e+00,  -1.95484357e+00,\n",
       "         -2.35413143e+00,  -1.42829046e+00,  -1.44368277e+00,\n",
       "         -2.15817352e+00,  -1.75680049e+00,  -1.77172709e+00,\n",
       "         -8.29198250e-01,  -2.80428468e+00,  -1.79031971e+00,\n",
       "         -8.28908023e-01,  -1.09132420e-03,  -0.00000000e+00,\n",
       "         -2.19967394e+00,  -2.53023483e+00,  -2.10067170e+00,\n",
       "         -2.29122676e+00,  -1.04830812e+00,  -8.29063356e-01,\n",
       "         -2.87347352e+00,  -2.80565877e+00,  -1.95484357e+00,\n",
       "         -2.19908339e+00,  -1.44086416e+00,  -1.89889429e+00,\n",
       "         -2.09868277e+00,  -2.52235869e+00,  -2.66702840e+00,\n",
       "         -2.80591779e+00,  -2.87667991e+00,  -1.42788965e+00,\n",
       "         -1.44323242e+00,  -1.78976122e+00,  -2.29445779e+00,\n",
       "         -2.17400557e+00,  -1.04766873e+00,  -0.00000000e+00,\n",
       "         -2.15817352e+00,  -2.53023483e+00,  -2.35408406e+00,\n",
       "         -1.21275366e+00,  -2.17227819e+00,  -2.04874420e+00,\n",
       "         -1.79031971e+00,  -1.43932877e+00,  -2.66631412e+00,\n",
       "         -1.45481507e+00,  -2.84297978e+00,  -2.53023483e+00,\n",
       "         -2.15817352e+00,  -2.56232026e+00,  -2.39324222e+00,\n",
       "         -2.47214306e+00,  -1.78894985e+00,  -1.77129382e+00,\n",
       "         -2.15817352e+00,  -2.17420400e+00,  -2.17419414e+00,\n",
       "         -2.19973870e+00,  -1.07290411e+00,  -1.74975113e+00,\n",
       "         -1.95488160e+00,  -2.56234190e+00,  -1.96176152e+00,\n",
       "         -2.40448143e+00,  -2.47996859e+00,  -2.35410821e+00,\n",
       "         -2.39828185e+00,  -2.47325252e+00,  -2.15817352e+00,\n",
       "         -2.17419414e+00,  -1.77515953e+00,  -1.96753881e+00,\n",
       "         -2.80406397e+00,  -2.87347352e+00,  -2.74184921e+00,\n",
       "         -2.56510810e+00,  -2.17505121e+00,  -1.96373926e+00,\n",
       "         -2.47844831e+00,  -2.17227819e+00,  -2.15817352e+00,\n",
       "         -1.39326253e+00,  -2.35414625e+00,  -2.10026995e+00,\n",
       "         -2.39232012e+00]),\n",
       " 'split1_test_score': array([-3.8284023 , -3.81723682, -3.83835001, -4.55581489, -3.82605058,\n",
       "        -3.82771924, -3.85804922, -3.88531275, -5.03586314, -4.5120196 ,\n",
       "        -3.75848472, -3.89189173, -3.85066874, -3.83513796, -3.85247092,\n",
       "        -4.55577622, -5.10480611, -3.8243486 , -4.69658271, -3.80390044,\n",
       "        -3.86420615, -3.88714777, -3.82396038, -3.80823093, -3.8890549 ,\n",
       "        -3.89731752, -5.03452294, -3.81521316, -4.45105283, -3.81993393,\n",
       "        -3.83525753, -3.86177453, -3.89189173, -3.82396287, -3.82524473,\n",
       "        -3.85244335, -3.81521986, -3.82469662, -3.80278129, -3.81696664,\n",
       "        -3.77051379, -3.81584178, -3.82960512, -3.81012722, -5.10266499,\n",
       "        -3.82407269, -3.8080114 , -3.8349917 , -3.82715993, -3.85758368,\n",
       "        -5.03550791, -4.69673346, -4.45099247, -4.55563519, -3.85815785,\n",
       "        -3.83477135, -3.80287521, -3.80823093, -3.82317518, -3.8262181 ,\n",
       "        -3.83790602, -3.83864013, -4.45099247, -4.6967201 , -3.8154746 ,\n",
       "        -3.79496005, -4.5120196 , -3.8127412 , -3.86290119, -4.69673346,\n",
       "        -3.8270157 , -3.82771924, -3.81971147, -4.97244031, -3.81611546,\n",
       "        -3.86056776, -3.81555199, -3.82341163, -3.81804298, -3.77233974,\n",
       "        -4.55581489, -3.78963126, -3.75625975, -4.69675028, -3.82771924,\n",
       "        -3.86755927, -3.8284023 , -3.82340991, -3.82396287, -3.82136223,\n",
       "        -3.80398181, -3.82575075, -3.82771326, -3.75187714, -3.83477135,\n",
       "        -4.69649131, -4.77201649, -4.55684791, -3.82246853, -3.79385793]),\n",
       " 'split1_train_score': array([ -1.97898271e+00,  -2.32315894e+00,  -1.75243643e+00,\n",
       "         -2.43699062e+00,  -2.86673860e+00,  -2.17541031e+00,\n",
       "         -1.20507320e+00,  -8.32345510e-01,  -0.00000000e+00,\n",
       "         -2.48770484e+00,  -2.60561370e+00,  -8.30215183e-01,\n",
       "         -2.11999353e+00,  -1.75393604e+00,  -1.94309480e+00,\n",
       "         -2.43699130e+00,  -1.42612126e+00,  -1.45501868e+00,\n",
       "         -2.27298457e+00,  -1.76260056e+00,  -1.76669298e+00,\n",
       "         -8.29776826e-01,  -2.81953628e+00,  -1.80180822e+00,\n",
       "         -8.29597521e-01,  -8.26484018e-04,  -0.00000000e+00,\n",
       "         -2.22106943e+00,  -2.58576365e+00,  -2.11345890e+00,\n",
       "         -2.29591812e+00,  -1.04332125e+00,  -8.30215183e-01,\n",
       "         -2.90352820e+00,  -2.81916936e+00,  -1.94309820e+00,\n",
       "         -2.22081937e+00,  -1.44860388e+00,  -1.90876374e+00,\n",
       "         -2.11192875e+00,  -2.55298917e+00,  -2.68711187e+00,\n",
       "         -2.82568320e+00,  -2.90341437e+00,  -1.42501370e+00,\n",
       "         -1.45540320e+00,  -1.80017612e+00,  -2.29172445e+00,\n",
       "         -2.17531034e+00,  -1.04414224e+00,  -1.10705226e-03,\n",
       "         -2.27306121e+00,  -2.58577186e+00,  -2.43717914e+00,\n",
       "         -1.20524055e+00,  -2.17534694e+00,  -2.05354458e+00,\n",
       "         -1.80180822e+00,  -1.44547684e+00,  -2.68316570e+00,\n",
       "         -1.47059132e+00,  -2.87762802e+00,  -2.58577186e+00,\n",
       "         -2.27290337e+00,  -2.57327387e+00,  -2.39386953e+00,\n",
       "         -2.48770484e+00,  -1.80253558e+00,  -1.77061381e+00,\n",
       "         -2.27306121e+00,  -2.17427551e+00,  -2.17541031e+00,\n",
       "         -2.21929478e+00,  -1.08446347e+00,  -1.75266488e+00,\n",
       "         -1.94500800e+00,  -2.57346040e+00,  -1.97253976e+00,\n",
       "         -2.42871930e+00,  -2.51214404e+00,  -2.43699062e+00,\n",
       "         -2.40112609e+00,  -2.50382165e+00,  -2.27266400e+00,\n",
       "         -2.17541031e+00,  -1.76647585e+00,  -1.97898271e+00,\n",
       "         -2.82012074e+00,  -2.90352820e+00,  -2.76596511e+00,\n",
       "         -2.57286184e+00,  -2.17515996e+00,  -1.97387230e+00,\n",
       "         -2.50458906e+00,  -2.17534694e+00,  -2.27292947e+00,\n",
       "         -1.41810252e+00,  -2.43737643e+00,  -2.11202717e+00,\n",
       "         -2.39219834e+00]),\n",
       " 'split2_test_score': array([-3.92730918, -3.91366897, -3.94843698, -4.76979681, -3.9082636 ,\n",
       "        -3.93879743, -3.96520612, -3.97498527, -5.1250457 , -4.67830686,\n",
       "        -3.9063651 , -3.97558977, -3.95803243, -3.94498528, -3.93867226,\n",
       "        -4.76992046, -4.93194191, -3.9194518 , -4.6391428 , -3.97074891,\n",
       "        -3.96074102, -3.97871791, -3.90972524, -3.94727661, -3.97793854,\n",
       "        -3.99629342, -5.12417994, -3.89927319, -4.6856845 , -3.90213475,\n",
       "        -3.94011194, -3.9621554 , -3.97558977, -3.91766374, -3.90980631,\n",
       "        -3.93865882, -3.90215754, -3.97858318, -3.9447431 , -3.90447873,\n",
       "        -3.9113289 , -3.9153942 , -3.91338065, -3.9123672 , -4.9316301 ,\n",
       "        -3.92453199, -3.9471127 , -3.93828069, -3.93953007, -3.96338569,\n",
       "        -5.12576782, -4.63907716, -4.68565468, -4.76926153, -3.96172422,\n",
       "        -3.93851701, -3.95650089, -3.94727661, -3.97454296, -3.91118871,\n",
       "        -3.93721207, -3.89338556, -4.68565468, -4.63932977, -3.91045045,\n",
       "        -3.92548829, -4.67830686, -3.94504959, -3.95445531, -4.63907716,\n",
       "        -3.93766959, -3.93879743, -3.90407597, -5.06215265, -3.96307555,\n",
       "        -3.94356465, -3.91060773, -3.91777775, -3.90267821, -3.91140729,\n",
       "        -4.76979681, -3.92874679, -3.91820771, -4.63946551, -3.93879743,\n",
       "        -3.95381977, -3.92730918, -3.91004619, -3.91766374, -3.91180298,\n",
       "        -3.90556359, -3.93860636, -3.91923967, -3.91873291, -3.93851701,\n",
       "        -4.64006105, -4.96226379, -4.7690846 , -3.90137218, -3.92658902]),\n",
       " 'split2_train_score': array([ -1.91115810e+00,  -2.23724469e+00,  -1.68857108e+00,\n",
       "         -2.28234402e+00,  -2.78286183e+00,  -2.11334570e+00,\n",
       "         -1.16569085e+00,  -8.09078974e-01,  -0.00000000e+00,\n",
       "         -2.39673486e+00,  -2.52349770e+00,  -8.07993271e-01,\n",
       "         -2.04602283e+00,  -1.68957322e+00,  -1.88229398e+00,\n",
       "         -2.28233744e+00,  -1.44402043e+00,  -1.40056441e+00,\n",
       "         -2.21646459e+00,  -1.70336328e+00,  -1.71306540e+00,\n",
       "         -8.05626806e-01,  -2.75163568e+00,  -1.74418116e+00,\n",
       "         -8.06411192e-01,  -7.39051095e-04,  -0.00000000e+00,\n",
       "         -2.15728122e+00,  -2.38711071e+00,  -2.05151346e+00,\n",
       "         -2.22451217e+00,  -1.01161357e+00,  -8.07993271e-01,\n",
       "         -2.82448456e+00,  -2.75176777e+00,  -1.88228908e+00,\n",
       "         -2.15485329e+00,  -1.40537067e+00,  -1.84862644e+00,\n",
       "         -2.05231760e+00,  -2.45815816e+00,  -2.61440130e+00,\n",
       "         -2.75388655e+00,  -2.82422154e+00,  -1.44398190e+00,\n",
       "         -1.40030338e+00,  -1.74302805e+00,  -2.22962207e+00,\n",
       "         -2.11332394e+00,  -1.01045546e+00,  -0.00000000e+00,\n",
       "         -2.21645415e+00,  -2.38717229e+00,  -2.28227464e+00,\n",
       "         -1.16638973e+00,  -2.11617281e+00,  -1.99237107e+00,\n",
       "         -1.74418116e+00,  -1.40182221e+00,  -2.60622214e+00,\n",
       "         -1.41038777e+00,  -2.78320210e+00,  -2.38717229e+00,\n",
       "         -2.21646094e+00,  -2.50457120e+00,  -2.32371051e+00,\n",
       "         -2.39673486e+00,  -1.74513175e+00,  -1.71305605e+00,\n",
       "         -2.21645415e+00,  -2.11299570e+00,  -2.11334570e+00,\n",
       "         -2.15229565e+00,  -9.78356524e-01,  -1.70101302e+00,\n",
       "         -1.88304607e+00,  -2.50467188e+00,  -1.91179295e+00,\n",
       "         -2.34811530e+00,  -2.41903592e+00,  -2.28234402e+00,\n",
       "         -2.32867712e+00,  -2.41565089e+00,  -2.21649328e+00,\n",
       "         -2.11334570e+00,  -1.71283258e+00,  -1.91115810e+00,\n",
       "         -2.75118995e+00,  -2.82448456e+00,  -2.68792131e+00,\n",
       "         -2.50710642e+00,  -2.11069761e+00,  -1.91181219e+00,\n",
       "         -2.41699236e+00,  -2.11617281e+00,  -2.21655919e+00,\n",
       "         -1.24331894e+00,  -2.28171898e+00,  -2.04923607e+00,\n",
       "         -2.32151964e+00]),\n",
       " 'std_fit_time': array([ 0.09231154,  0.07850729,  0.17945654,  0.1082671 ,  0.12068256,\n",
       "         0.04508943,  0.05610943,  0.02157188,  0.03276048,  0.19057203,\n",
       "         0.06617198,  0.03952625,  0.04804637,  0.03421161,  0.03162201,\n",
       "         0.14761204,  0.08918041,  0.00618065,  0.2899786 ,  0.0025005 ,\n",
       "         0.01885337,  0.05800658,  0.01299597,  0.0975151 ,  0.1770541 ,\n",
       "         0.04235785,  0.14138939,  0.05438081,  0.14349224,  0.04021505,\n",
       "         0.0515594 ,  0.0724325 ,  0.05262483,  0.04095339,  0.02235063,\n",
       "         0.05677223,  0.02971013,  0.03198422,  0.03484965,  0.05538193,\n",
       "         0.00216576,  0.04792109,  0.02029195,  0.01519129,  0.01559742,\n",
       "         0.02374131,  0.10789585,  0.01073641,  0.09007015,  0.04283289,\n",
       "         0.05279636,  0.12532223,  0.12391237,  0.10603143,  0.20821418,\n",
       "         0.0114715 ,  0.075506  ,  0.03324779,  0.02539686,  0.08672091,\n",
       "         0.02130655,  0.03676762,  0.14799774,  0.10917646,  0.07244338,\n",
       "         0.01796113,  0.08389375,  0.02368498,  0.10214701,  0.11388978,\n",
       "         0.05541246,  0.03558455,  0.04948953,  0.04372309,  0.03806922,\n",
       "         0.01842158,  0.09548057,  0.09304234,  0.02295752,  0.014093  ,\n",
       "         0.20022747,  0.04514829,  0.02391039,  0.1204881 ,  0.05936864,\n",
       "         0.06631339,  0.01654331,  0.02445542,  0.07791349,  0.03287253,\n",
       "         0.02961207,  0.00433199,  0.0085995 ,  0.03280202,  0.03214113,\n",
       "         0.04115396,  0.06036547,  0.01439081,  0.09451778,  0.18908952]),\n",
       " 'std_score_time': array([ 0.00420132,  0.00900505,  0.0069945 ,  0.00124993,  0.0030992 ,\n",
       "         0.00295164,  0.00263162,  0.00639324,  0.00898088,  0.03072309,\n",
       "         0.00163745,  0.01493948,  0.01036607,  0.00912773,  0.00736857,\n",
       "         0.01045213,  0.00472668,  0.0049796 ,  0.00948891,  0.00081848,\n",
       "         0.00911637,  0.01045242,  0.00941759,  0.06171575,  0.01377237,\n",
       "         0.01206967,  0.01068487,  0.01317526,  0.02128553,  0.00330829,\n",
       "         0.00340845,  0.00450888,  0.00666772,  0.00545017,  0.00807677,\n",
       "         0.00236354,  0.00573054,  0.01918184,  0.00511255,  0.0125324 ,\n",
       "         0.00356891,  0.00263147,  0.00047311,  0.00081868,  0.00295216,\n",
       "         0.00409367,  0.05191351,  0.00386842,  0.00163706,  0.00493475,\n",
       "         0.00245564,  0.0134772 ,  0.00603416,  0.01725656,  0.00526325,\n",
       "         0.02553686,  0.00976748,  0.00639405,  0.00742753,  0.00511369,\n",
       "         0.00047233,  0.00369145,  0.0057305 ,  0.00696237,  0.00532689,\n",
       "         0.01456079,  0.01411667,  0.03258618,  0.01284987,  0.00141883,\n",
       "         0.01068454,  0.00330848,  0.00511294,  0.00403862,  0.01055856,\n",
       "         0.00409348,  0.00287517,  0.01679769,  0.01842162,  0.00567246,\n",
       "         0.00778092,  0.003275  ,  0.0018906 ,  0.00635927,  0.00526277,\n",
       "         0.00545092,  0.00922598,  0.01305593,  0.00635833,  0.00263168,\n",
       "         0.00250116,  0.01134352,  0.02181903,  0.00386893,  0.00141782,\n",
       "         0.00206043,  0.00465556,  0.0012508 ,  0.02333342,  0.00450806]),\n",
       " 'std_test_score': array([ 0.04098775,  0.04101497,  0.04650298,  0.16218974,  0.03356157,\n",
       "         0.04574162,  0.04402284,  0.03850426,  0.10838434,  0.14372901,\n",
       "         0.06188852,  0.03552876,  0.04390317,  0.04692061,  0.03607886,\n",
       "         0.16221531,  0.10645961,  0.04162163,  0.07474709,  0.06817762,\n",
       "         0.03940718,  0.03819106,  0.0350338 ,  0.05696758,  0.0371272 ,\n",
       "         0.04347721,  0.10761012,  0.0359457 ,  0.12972456,  0.03500583,\n",
       "         0.04284629,  0.04289729,  0.03552876,  0.03834882,  0.03451961,\n",
       "         0.03608662,  0.03709205,  0.06297375,  0.05824883,  0.03696631,\n",
       "         0.0590708 ,  0.04065675,  0.03420375,  0.0417944 ,  0.10574042,\n",
       "         0.04275333,  0.05706993,  0.04219306,  0.0459875 ,  0.04514678,\n",
       "         0.10870085,  0.07476738,  0.12968477,  0.16196342,  0.04278799,\n",
       "         0.04245886,  0.06281379,  0.05696758,  0.06202127,  0.0347837 ,\n",
       "         0.04282838,  0.02235259,  0.12968477,  0.07470566,  0.03917552,\n",
       "         0.05342098,  0.14372901,  0.05419266,  0.0373776 ,  0.07476738,\n",
       "         0.04549377,  0.04574162,  0.03519617,  0.11902939,  0.06011215,\n",
       "         0.03415252,  0.039189  ,  0.03929284,  0.03555289,  0.05858029,\n",
       "         0.16218974,  0.056798  ,  0.06713063,  0.07484353,  0.04574162,\n",
       "         0.03523356,  0.04098775,  0.03536769,  0.03834882,  0.0369278 ,\n",
       "         0.04246153,  0.04626612,  0.03787345,  0.06932954,  0.04245886,\n",
       "         0.07471017,  0.13667066,  0.1618387 ,  0.03346414,  0.05436517]),\n",
       " 'std_train_score': array([ 0.02964592,  0.03572704,  0.02731219,  0.06318857,  0.03501282,\n",
       "         0.02897514,  0.02131628,  0.0100518 ,  0.        ,  0.03972699,\n",
       "         0.03537525,  0.01021485,  0.03187719,  0.02730809,  0.03179486,\n",
       "         0.06319102,  0.00797578,  0.0234591 ,  0.04687328,  0.02666298,\n",
       "         0.02654651,  0.01125054,  0.02908803,  0.02490344,  0.0107713 ,\n",
       "         0.00014977,  0.        ,  0.02650754,  0.08368656,  0.02670265,\n",
       "         0.03261161,  0.01625059,  0.01021485,  0.03257657,  0.02911615,\n",
       "         0.03179772,  0.02744748,  0.01882316,  0.02633282,  0.0255575 ,\n",
       "         0.03951491,  0.03065903,  0.03028142,  0.03289396,  0.00834682,\n",
       "         0.02363383,  0.02485147,  0.0299404 ,  0.02891804,  0.0167732 ,\n",
       "         0.00052187,  0.04690437,  0.08366138,  0.06329542,  0.02031816,\n",
       "         0.02720051,  0.02777523,  0.02490344,  0.01929383,  0.03302412,\n",
       "         0.02548887,  0.03900161,  0.08366138,  0.04684028,  0.03013856,\n",
       "         0.03292642,  0.03972699,  0.02449444,  0.02729468,  0.04690437,\n",
       "         0.02887074,  0.02897514,  0.02813097,  0.04752958,  0.02369202,\n",
       "         0.03179293,  0.0301502 ,  0.02646424,  0.03376655,  0.03861084,\n",
       "         0.06318857,  0.03350251,  0.03655514,  0.04674329,  0.02897514,\n",
       "         0.02756337,  0.02964592,  0.02944851,  0.03257657,  0.03262689,\n",
       "         0.02934108,  0.03036224,  0.02718365,  0.03671717,  0.02720051,\n",
       "         0.04685133,  0.0772078 ,  0.06359788,  0.02725479,  0.033347  ])}"
      ]
     },
     "execution_count": 12,
     "metadata": {},
     "output_type": "execute_result"
    }
   ],
   "source": [
    "rf_random.cv_results_"
   ]
  },
  {
   "cell_type": "markdown",
   "metadata": {},
   "source": [
    "## Evaluation Function"
   ]
  },
  {
   "cell_type": "code",
   "execution_count": 13,
   "metadata": {
    "collapsed": true
   },
   "outputs": [],
   "source": [
    "def evaluate(model, test_features, test_labels):\n",
    "    predictions = model.predict(test_features)\n",
    "    errors = abs(predictions - test_labels)\n",
    "    mape = 100 * np.mean(errors / test_labels)\n",
    "    accuracy = 100 - mape\n",
    "    print('Model Performance')\n",
    "    print('Average Error: {:0.4f} degrees.'.format(np.mean(errors)))\n",
    "    print('Accuracy = {:0.2f}%.'.format(accuracy))\n",
    "    \n",
    "    return accuracy"
   ]
  },
  {
   "cell_type": "markdown",
   "metadata": {},
   "source": [
    "#### Evaluate the Default Model"
   ]
  },
  {
   "cell_type": "code",
   "execution_count": 14,
   "metadata": {
    "collapsed": false
   },
   "outputs": [
    {
     "name": "stdout",
     "output_type": "stream",
     "text": [
      "Model Performance\n",
      "Average Error: 3.9199 degrees.\n",
      "Accuracy = 93.36%.\n"
     ]
    }
   ],
   "source": [
    "base_model = RandomForestRegressor(n_estimators = 10, random_state = 42)\n",
    "base_model.fit(train_features, train_labels)\n",
    "base_accuracy = evaluate(base_model, test_features, test_labels)"
   ]
  },
  {
   "cell_type": "markdown",
   "metadata": {},
   "source": [
    "#### Evaluate the Best Random Search Model"
   ]
  },
  {
   "cell_type": "code",
   "execution_count": 15,
   "metadata": {
    "collapsed": false
   },
   "outputs": [
    {
     "name": "stdout",
     "output_type": "stream",
     "text": [
      "Model Performance\n",
      "Average Error: 3.7152 degrees.\n",
      "Accuracy = 93.73%.\n"
     ]
    }
   ],
   "source": [
    "best_random = rf_random.best_estimator_\n",
    "random_accuracy = evaluate(best_random, test_features, test_labels)"
   ]
  },
  {
   "cell_type": "code",
   "execution_count": 16,
   "metadata": {
    "collapsed": false
   },
   "outputs": [
    {
     "name": "stdout",
     "output_type": "stream",
     "text": [
      "Improvement of 0.40%.\n"
     ]
    }
   ],
   "source": [
    "print('Improvement of {:0.2f}%.'.format( 100 * (random_accuracy - base_accuracy) / base_accuracy))"
   ]
  },
  {
   "cell_type": "markdown",
   "metadata": {},
   "source": [
    "# Grid Search \n",
    "\n",
    "We can now perform grid search building on the result from the random search. \n",
    "We will test a range of hyperparameters around the best values returend by random search. "
   ]
  },
  {
   "cell_type": "code",
   "execution_count": 17,
   "metadata": {
    "collapsed": false
   },
   "outputs": [],
   "source": [
    "from sklearn.model_selection import GridSearchCV\n",
    "\n",
    "# Create the parameter grid based on the results of random search \n",
    "param_grid = {\n",
    "    'bootstrap': [True],\n",
    "    'max_depth': [80, 90, 100, 110],\n",
    "    'max_features': [2, 3],\n",
    "    'min_samples_leaf': [3, 4, 5],\n",
    "    'min_samples_split': [8, 10, 12],\n",
    "    'n_estimators': [100, 200, 300, 1000]\n",
    "}\n",
    "\n",
    "# Create a base model\n",
    "rf = RandomForestRegressor(random_state = 42)\n",
    "\n",
    "# Instantiate the grid search model\n",
    "grid_search = GridSearchCV(estimator = rf, param_grid = param_grid, \n",
    "                          cv = 3, n_jobs = -1, verbose = 2)"
   ]
  },
  {
   "cell_type": "code",
   "execution_count": 18,
   "metadata": {
    "collapsed": false
   },
   "outputs": [
    {
     "name": "stdout",
     "output_type": "stream",
     "text": [
      "Fitting 3 folds for each of 288 candidates, totalling 864 fits\n"
     ]
    },
    {
     "name": "stderr",
     "output_type": "stream",
     "text": [
      "[Parallel(n_jobs=-1)]: Done  33 tasks      | elapsed:   13.5s\n",
      "[Parallel(n_jobs=-1)]: Done 154 tasks      | elapsed:  1.0min\n",
      "[Parallel(n_jobs=-1)]: Done 357 tasks      | elapsed:  2.3min\n",
      "[Parallel(n_jobs=-1)]: Done 640 tasks      | elapsed:  4.2min\n",
      "[Parallel(n_jobs=-1)]: Done 864 out of 864 | elapsed:  5.7min finished\n"
     ]
    },
    {
     "data": {
      "text/plain": [
       "GridSearchCV(cv=3, error_score='raise',\n",
       "       estimator=RandomForestRegressor(bootstrap=True, criterion='mse', max_depth=None,\n",
       "           max_features='auto', max_leaf_nodes=None,\n",
       "           min_impurity_decrease=0.0, min_impurity_split=None,\n",
       "           min_samples_leaf=1, min_samples_split=2,\n",
       "           min_weight_fraction_leaf=0.0, n_estimators=10, n_jobs=1,\n",
       "           oob_score=False, random_state=42, verbose=0, warm_start=False),\n",
       "       fit_params=None, iid=True, n_jobs=-1,\n",
       "       param_grid={'bootstrap': [True], 'max_depth': [80, 90, 100, 110], 'max_features': [2, 3], 'min_samples_leaf': [3, 4, 5], 'min_samples_split': [8, 10, 12], 'n_estimators': [100, 200, 300, 1000]},\n",
       "       pre_dispatch='2*n_jobs', refit=True, return_train_score=True,\n",
       "       scoring=None, verbose=2)"
      ]
     },
     "execution_count": 18,
     "metadata": {},
     "output_type": "execute_result"
    }
   ],
   "source": [
    "# Fit the grid search to the data\n",
    "grid_search.fit(train_features, train_labels)"
   ]
  },
  {
   "cell_type": "code",
   "execution_count": 19,
   "metadata": {
    "collapsed": false
   },
   "outputs": [
    {
     "data": {
      "text/plain": [
       "{'bootstrap': True,\n",
       " 'max_depth': 80,\n",
       " 'max_features': 3,\n",
       " 'min_samples_leaf': 5,\n",
       " 'min_samples_split': 12,\n",
       " 'n_estimators': 100}"
      ]
     },
     "execution_count": 19,
     "metadata": {},
     "output_type": "execute_result"
    }
   ],
   "source": [
    "grid_search.best_params_"
   ]
  },
  {
   "cell_type": "markdown",
   "metadata": {},
   "source": [
    "#### Evaluate the Best Model from Grid Search"
   ]
  },
  {
   "cell_type": "code",
   "execution_count": 20,
   "metadata": {
    "collapsed": false
   },
   "outputs": [
    {
     "name": "stdout",
     "output_type": "stream",
     "text": [
      "Model Performance\n",
      "Average Error: 3.6561 degrees.\n",
      "Accuracy = 93.83%.\n"
     ]
    }
   ],
   "source": [
    "best_grid = grid_search.best_estimator_\n",
    "grid_accuracy = evaluate(best_grid, test_features, test_labels)"
   ]
  },
  {
   "cell_type": "code",
   "execution_count": 21,
   "metadata": {
    "collapsed": false
   },
   "outputs": [
    {
     "name": "stdout",
     "output_type": "stream",
     "text": [
      "Improvement of 0.50%.\n"
     ]
    }
   ],
   "source": [
    "print('Improvement of {:0.2f}%.'.format( 100 * (grid_accuracy - base_accuracy) / base_accuracy))"
   ]
  },
  {
   "cell_type": "markdown",
   "metadata": {},
   "source": [
    "## Another Round of Grid Search"
   ]
  },
  {
   "cell_type": "code",
   "execution_count": 22,
   "metadata": {
    "collapsed": false
   },
   "outputs": [
    {
     "name": "stdout",
     "output_type": "stream",
     "text": [
      "Fitting 3 folds for each of 54 candidates, totalling 162 fits\n"
     ]
    },
    {
     "name": "stderr",
     "output_type": "stream",
     "text": [
      "[Parallel(n_jobs=-1)]: Done  33 tasks      | elapsed:    5.7s\n",
      "[Parallel(n_jobs=-1)]: Done 154 tasks      | elapsed:   19.0s\n",
      "[Parallel(n_jobs=-1)]: Done 162 out of 162 | elapsed:   20.0s finished\n"
     ]
    },
    {
     "data": {
      "text/plain": [
       "GridSearchCV(cv=3, error_score='raise',\n",
       "       estimator=RandomForestRegressor(bootstrap=True, criterion='mse', max_depth=None,\n",
       "           max_features='auto', max_leaf_nodes=None,\n",
       "           min_impurity_decrease=0.0, min_impurity_split=None,\n",
       "           min_samples_leaf=1, min_samples_split=2,\n",
       "           min_weight_fraction_leaf=0.0, n_estimators=10, n_jobs=1,\n",
       "           oob_score=False, random_state=42, verbose=0, warm_start=False),\n",
       "       fit_params=None, iid=True, n_jobs=-1,\n",
       "       param_grid={'bootstrap': [True], 'max_depth': [110, 120, None], 'max_features': [3, 4], 'min_samples_leaf': [5, 6, 7], 'min_samples_split': [10], 'n_estimators': [75, 100, 125]},\n",
       "       pre_dispatch='2*n_jobs', refit=True, return_train_score=True,\n",
       "       scoring=None, verbose=2)"
      ]
     },
     "execution_count": 22,
     "metadata": {},
     "output_type": "execute_result"
    }
   ],
   "source": [
    "param_grid = {\n",
    "    'bootstrap': [True],\n",
    "    'max_depth': [110, 120, None],\n",
    "    'max_features': [3, 4],\n",
    "    'min_samples_leaf': [5, 6, 7],\n",
    "    'min_samples_split': [10],\n",
    "    'n_estimators': [75, 100, 125]\n",
    "}\n",
    "\n",
    "# Create a base model\n",
    "rf = RandomForestRegressor(random_state = 42)\n",
    "\n",
    "# Instantiate the grid search model\n",
    "grid_search_final = GridSearchCV(estimator = rf, param_grid = param_grid, \n",
    "                                 cv = 3, n_jobs = -1, verbose = 2)\n",
    "\n",
    "grid_search_final.fit(train_features, train_labels)"
   ]
  },
  {
   "cell_type": "code",
   "execution_count": 23,
   "metadata": {
    "collapsed": false
   },
   "outputs": [
    {
     "data": {
      "text/plain": [
       "{'bootstrap': True,\n",
       " 'max_depth': 110,\n",
       " 'max_features': 3,\n",
       " 'min_samples_leaf': 6,\n",
       " 'min_samples_split': 10,\n",
       " 'n_estimators': 100}"
      ]
     },
     "execution_count": 23,
     "metadata": {},
     "output_type": "execute_result"
    }
   ],
   "source": [
    "grid_search_final.best_params_"
   ]
  },
  {
   "cell_type": "code",
   "execution_count": 24,
   "metadata": {
    "collapsed": false
   },
   "outputs": [
    {
     "name": "stdout",
     "output_type": "stream",
     "text": [
      "Model Performance\n",
      "Average Error: 3.6602 degrees.\n",
      "Accuracy = 93.82%.\n"
     ]
    }
   ],
   "source": [
    "best_grid_final = grid_search_final.best_estimator_\n",
    "grid_final_accuracy = evaluate(best_grid_final, test_features, test_labels)"
   ]
  },
  {
   "cell_type": "code",
   "execution_count": 25,
   "metadata": {
    "collapsed": false
   },
   "outputs": [
    {
     "name": "stdout",
     "output_type": "stream",
     "text": [
      "Improvement of 0.49%.\n"
     ]
    }
   ],
   "source": [
    "print('Improvement of {:0.2f}%.'.format( 100 * (grid_final_accuracy - base_accuracy) / base_accuracy))"
   ]
  },
  {
   "cell_type": "markdown",
   "metadata": {},
   "source": [
    "A very slight improvement in accuracy means we have reached the point of diminishing returns from tuning. We will stop here and use this as our final model."
   ]
  },
  {
   "cell_type": "markdown",
   "metadata": {},
   "source": [
    "## Final Model\n",
    "\n",
    "The final model from hyperparameter tuning is as follows."
   ]
  },
  {
   "cell_type": "code",
   "execution_count": 26,
   "metadata": {
    "collapsed": false
   },
   "outputs": [
    {
     "name": "stdout",
     "output_type": "stream",
     "text": [
      "Final Model Parameters:\n",
      "\n",
      "{'bootstrap': True,\n",
      " 'criterion': 'mse',\n",
      " 'max_depth': 80,\n",
      " 'max_features': 3,\n",
      " 'max_leaf_nodes': None,\n",
      " 'min_impurity_decrease': 0.0,\n",
      " 'min_impurity_split': None,\n",
      " 'min_samples_leaf': 5,\n",
      " 'min_samples_split': 12,\n",
      " 'min_weight_fraction_leaf': 0.0,\n",
      " 'n_estimators': 100,\n",
      " 'n_jobs': 1,\n",
      " 'oob_score': False,\n",
      " 'random_state': 42,\n",
      " 'verbose': 0,\n",
      " 'warm_start': False}\n",
      "\n",
      "\n",
      "Model Performance\n",
      "Average Error: 3.6561 degrees.\n",
      "Accuracy = 93.83%.\n"
     ]
    }
   ],
   "source": [
    "final_model = grid_search.best_estimator_\n",
    "\n",
    "print('Final Model Parameters:\\n')\n",
    "pprint(final_model.get_params())\n",
    "print('\\n')\n",
    "grid_final_accuracy = evaluate(final_model, test_features, test_labels)"
   ]
  },
  {
   "cell_type": "markdown",
   "metadata": {
    "collapsed": true
   },
   "source": [
    "## Comparison of All Improvement Techniques\n",
    "\n",
    "Finally, we can make comparisons between the improvement techniques to determine which ones were most effective."
   ]
  },
  {
   "cell_type": "code",
   "execution_count": 27,
   "metadata": {
    "collapsed": true
   },
   "outputs": [],
   "source": [
    "# Time used for evaluating model run times\n",
    "import time"
   ]
  },
  {
   "cell_type": "code",
   "execution_count": 28,
   "metadata": {
    "collapsed": true
   },
   "outputs": [],
   "source": [
    "# Evaluate run time and prediction accuracy\n",
    "def evaluate_model(model, x_train, y_train, x_test, y_test):\n",
    "    n_trees = model.get_params()['n_estimators']\n",
    "    n_features = x_train.shape[1]\n",
    "    \n",
    "    # Train and predict 10 times to evaluate time and accuracy\n",
    "    predictions = []\n",
    "    run_times = []\n",
    "    for _ in range(10):\n",
    "        start_time = time.time()\n",
    "        model.fit(x_train, y_train)\n",
    "        predictions.append(model.predict(x_test))\n",
    "    \n",
    "        end_time = time.time()\n",
    "        run_times.append(end_time - start_time)\n",
    "    \n",
    "    # Run time and predictions need to be averaged\n",
    "    run_time = np.mean(run_times)\n",
    "    predictions = np.mean(np.array(predictions), axis = 0)\n",
    "    \n",
    "    # Calculate performance metrics\n",
    "    errors = abs(predictions - y_test)\n",
    "    mean_error = np.mean(errors)\n",
    "    mape = 100 * np.mean(errors / y_test)\n",
    "    accuracy = 100 - mape\n",
    "    \n",
    "    # Return results in a dictionary\n",
    "    results = {'time': run_time, 'error': mean_error, 'accuracy': accuracy, 'n_trees': n_trees, 'n_features': n_features}\n",
    "    \n",
    "    return results\n",
    "        "
   ]
  },
  {
   "cell_type": "markdown",
   "metadata": {},
   "source": [
    "### Baseline (Historical Average)"
   ]
  },
  {
   "cell_type": "code",
   "execution_count": 29,
   "metadata": {
    "collapsed": false
   },
   "outputs": [],
   "source": [
    "full_features = pd.read_csv('data/temps_extended.csv')\n",
    "full_features = full_features.rename(columns = {'weekday': 'week'})\n",
    "full_features = pd.get_dummies(full_features)\n",
    "\n",
    "full_labels = full_features['actual']\n",
    "full_features = full_features.drop('actual', axis = 1)\n",
    "\n",
    "full_feature_list = list(full_features.columns)\n",
    "important_feature_names = ['temp_1', 'average', 'ws_1', 'temp_2', 'friend', 'year']\n",
    "\n",
    "full_features_train, full_features_test, full_labels_train, full_labels_test = train_test_split(full_features, full_labels, \n",
    "                                                                                                test_size = 0.25, random_state = 42)\n",
    "\n",
    "baseline_preds = full_features_test['average']\n",
    "baseline_errors = abs(baseline_preds - full_labels_test)\n",
    "baseline_mean_error = np.mean(baseline_errors)\n",
    "baseline_accuracy = 100 - (100 * np.mean(baseline_errors / full_labels_test))"
   ]
  },
  {
   "cell_type": "code",
   "execution_count": 30,
   "metadata": {
    "collapsed": false
   },
   "outputs": [],
   "source": [
    "baseline_results = {'model': 'average', 'time': np.nan, 'n_trees': np.nan, 'error': baseline_mean_error, 'accuracy': baseline_accuracy, 'n_features': 1}"
   ]
  },
  {
   "cell_type": "markdown",
   "metadata": {},
   "source": [
    "### Model with One Year of Data"
   ]
  },
  {
   "cell_type": "code",
   "execution_count": 31,
   "metadata": {
    "collapsed": false
   },
   "outputs": [],
   "source": [
    "original_features = pd.read_csv('data/temps.csv')\n",
    "original_features = pd.get_dummies(original_features)\n",
    "\n",
    "original_labels = np.array(original_features['actual'])\n",
    "original_features= original_features.drop('actual', axis = 1)\n",
    "\n",
    "original_feature_list = list(original_features.columns)\n",
    "original_features = np.array(original_features)\n",
    "\n",
    "original_train_features, original_test_features, original_train_labels, original_test_labels = train_test_split(original_features, original_labels, test_size = 0.25, random_state = 42)\n",
    "\n",
    "# Need to keep only those features the one year model was trained on\n",
    "one_test_features = full_features_test[original_feature_list]\n",
    "one_test_features = np.array(one_test_features)\n",
    "\n",
    "full_labels_test = np.array(full_labels_test)\n",
    "\n",
    "# Default model\n",
    "rf = RandomForestRegressor(n_estimators= 10, random_state=42)\n",
    "\n",
    "# Results for model trained on one year of data\n",
    "one_year_results = evaluate_model(rf, original_train_features, original_train_labels, one_test_features, full_labels_test)\n",
    "one_year_results['model'] = 'one_year'                               "
   ]
  },
  {
   "cell_type": "code",
   "execution_count": 32,
   "metadata": {
    "collapsed": false
   },
   "outputs": [
    {
     "data": {
      "text/plain": [
       "{'accuracy': 92.46787090636289,\n",
       " 'error': 4.3385036496350367,\n",
       " 'model': 'one_year',\n",
       " 'n_features': 14,\n",
       " 'n_trees': 10,\n",
       " 'time': 0.037902140617370607}"
      ]
     },
     "execution_count": 32,
     "metadata": {},
     "output_type": "execute_result"
    }
   ],
   "source": [
    "one_year_results"
   ]
  },
  {
   "cell_type": "markdown",
   "metadata": {},
   "source": [
    "### Model with 4.5 Years of Training Data and All Features"
   ]
  },
  {
   "cell_type": "code",
   "execution_count": 33,
   "metadata": {
    "collapsed": false
   },
   "outputs": [],
   "source": [
    "full_features_train = np.array(full_features_train)\n",
    "full_features_test = np.array(full_features_test)\n",
    "full_labels_train = np.array(full_labels_train)\n",
    "full_labels_test = np.array(full_labels_test)"
   ]
  },
  {
   "cell_type": "code",
   "execution_count": 34,
   "metadata": {
    "collapsed": true
   },
   "outputs": [],
   "source": [
    "four_year_results = evaluate_model(rf, full_features_train, full_labels_train, full_features_test, full_labels_test)\n",
    "four_year_results['model'] = 'four_years_all'"
   ]
  },
  {
   "cell_type": "code",
   "execution_count": 35,
   "metadata": {
    "collapsed": false
   },
   "outputs": [
    {
     "data": {
      "text/plain": [
       "{'accuracy': 93.508882061150615,\n",
       " 'error': 3.8368613138686136,\n",
       " 'model': 'four_years_all',\n",
       " 'n_features': 17,\n",
       " 'n_trees': 10,\n",
       " 'time': 0.11390299797058105}"
      ]
     },
     "execution_count": 35,
     "metadata": {},
     "output_type": "execute_result"
    }
   ],
   "source": [
    "four_year_results"
   ]
  },
  {
   "cell_type": "markdown",
   "metadata": {},
   "source": [
    "### Model with 4.5 Years of Training Data and Most Important Features"
   ]
  },
  {
   "cell_type": "code",
   "execution_count": 36,
   "metadata": {
    "collapsed": false
   },
   "outputs": [],
   "source": [
    "important_feature_indices = [full_feature_list.index(feature) for feature in important_feature_names]"
   ]
  },
  {
   "cell_type": "code",
   "execution_count": 37,
   "metadata": {
    "collapsed": true
   },
   "outputs": [],
   "source": [
    "train_features = full_features_train[:, important_feature_indices]\n",
    "test_features = full_features_test[:, important_feature_indices]\n",
    "\n",
    "train_labels = full_labels_train[:]\n",
    "test_labels = full_labels_test[:]"
   ]
  },
  {
   "cell_type": "code",
   "execution_count": 38,
   "metadata": {
    "collapsed": true
   },
   "outputs": [],
   "source": [
    "four_years_important_results = evaluate_model(rf, train_features, train_labels, test_features, test_labels)\n",
    "four_years_important_results['model'] = 'four_years_red'"
   ]
  },
  {
   "cell_type": "code",
   "execution_count": 39,
   "metadata": {
    "collapsed": false
   },
   "outputs": [
    {
     "data": {
      "text/plain": [
       "{'accuracy': 93.359031272002653,\n",
       " 'error': 3.9198905109489051,\n",
       " 'model': 'four_years_red',\n",
       " 'n_features': 6,\n",
       " 'n_trees': 10,\n",
       " 'time': 0.077706718444824213}"
      ]
     },
     "execution_count": 39,
     "metadata": {},
     "output_type": "execute_result"
    }
   ],
   "source": [
    "four_years_important_results"
   ]
  },
  {
   "cell_type": "markdown",
   "metadata": {},
   "source": [
    "### Random Search Best Model"
   ]
  },
  {
   "cell_type": "code",
   "execution_count": 40,
   "metadata": {
    "collapsed": false
   },
   "outputs": [],
   "source": [
    "random_results = evaluate_model(best_random, train_features, train_labels, test_features, test_labels)"
   ]
  },
  {
   "cell_type": "code",
   "execution_count": 41,
   "metadata": {
    "collapsed": false
   },
   "outputs": [],
   "source": [
    "random_results['model'] = 'best_random'"
   ]
  },
  {
   "cell_type": "code",
   "execution_count": 42,
   "metadata": {
    "collapsed": false
   },
   "outputs": [
    {
     "data": {
      "text/plain": [
       "{'accuracy': 93.73315412789195,\n",
       " 'error': 3.7151692136109222,\n",
       " 'model': 'best_random',\n",
       " 'n_features': 6,\n",
       " 'n_trees': 400,\n",
       " 'time': 2.0313040971755982}"
      ]
     },
     "execution_count": 42,
     "metadata": {},
     "output_type": "execute_result"
    }
   ],
   "source": [
    "random_results"
   ]
  },
  {
   "cell_type": "markdown",
   "metadata": {},
   "source": [
    "### First Grid Search Best Model"
   ]
  },
  {
   "cell_type": "code",
   "execution_count": 43,
   "metadata": {
    "collapsed": true
   },
   "outputs": [],
   "source": [
    "first_grid_results = evaluate_model(best_grid, train_features, train_labels, test_features, test_labels)\n",
    "first_grid_results['model'] = 'first_grid'"
   ]
  },
  {
   "cell_type": "code",
   "execution_count": 44,
   "metadata": {
    "collapsed": false
   },
   "outputs": [
    {
     "data": {
      "text/plain": [
       "{'accuracy': 93.829750019973275,\n",
       " 'error': 3.6561191924832999,\n",
       " 'model': 'first_grid',\n",
       " 'n_features': 6,\n",
       " 'n_trees': 100,\n",
       " 'time': 0.3412076711654663}"
      ]
     },
     "execution_count": 44,
     "metadata": {},
     "output_type": "execute_result"
    }
   ],
   "source": [
    "first_grid_results"
   ]
  },
  {
   "cell_type": "markdown",
   "metadata": {},
   "source": [
    "### Second Grid Search Best Model"
   ]
  },
  {
   "cell_type": "code",
   "execution_count": 45,
   "metadata": {
    "collapsed": true
   },
   "outputs": [],
   "source": [
    "final_model_results = evaluate_model(best_grid_final, train_features, train_labels, test_features, test_labels)\n",
    "final_model_results['model'] = 'second_grid'"
   ]
  },
  {
   "cell_type": "code",
   "execution_count": 46,
   "metadata": {
    "collapsed": false
   },
   "outputs": [
    {
     "data": {
      "text/plain": [
       "{'accuracy': 93.815667489656249,\n",
       " 'error': 3.660153687961988,\n",
       " 'model': 'second_grid',\n",
       " 'n_features': 6,\n",
       " 'n_trees': 100,\n",
       " 'time': 0.33248443603515626}"
      ]
     },
     "execution_count": 46,
     "metadata": {},
     "output_type": "execute_result"
    }
   ],
   "source": [
    "final_model_results"
   ]
  },
  {
   "cell_type": "markdown",
   "metadata": {},
   "source": [
    "# Comparison"
   ]
  },
  {
   "cell_type": "code",
   "execution_count": 47,
   "metadata": {
    "collapsed": false
   },
   "outputs": [],
   "source": [
    "comparison = {'model': [baseline_results['model'], one_year_results['model']],\n",
    "              'accuracy': [round(baseline_results['accuracy'], 3), round(one_year_results['accuracy'], 3)],\n",
    "              'error': [round(baseline_results['error'], 3), round(one_year_results['error'], 3)],\n",
    "              'n_features': [baseline_results['n_features'], one_year_results['n_features']],\n",
    "              'n_trees': [baseline_results['n_trees'], int(one_year_results['n_trees'])],\n",
    "              'time': [round(baseline_results['time'], 4), round(one_year_results['time'], 4)]}\n",
    "                        \n",
    "for model in [four_year_results, four_years_important_results, random_results, first_grid_results, final_model_results]:\n",
    "    comparison['accuracy'].append(round(model['accuracy'], 3))\n",
    "    comparison['error'].append(round(model['error'], 3))\n",
    "    comparison['model'].append(model['model'])\n",
    "    comparison['n_features'].append(model['n_features'])\n",
    "    comparison['n_trees'].append(int(model['n_trees']))\n",
    "    comparison['time'].append(round(model['time'], 4))"
   ]
  },
  {
   "cell_type": "code",
   "execution_count": 48,
   "metadata": {
    "collapsed": true
   },
   "outputs": [],
   "source": [
    "comparison = pd.DataFrame.from_dict(comparison, orient = 'columns')"
   ]
  },
  {
   "cell_type": "code",
   "execution_count": 49,
   "metadata": {
    "collapsed": false
   },
   "outputs": [
    {
     "data": {
      "text/html": [
       "<div>\n",
       "<style>\n",
       "    .dataframe thead tr:only-child th {\n",
       "        text-align: right;\n",
       "    }\n",
       "\n",
       "    .dataframe thead th {\n",
       "        text-align: left;\n",
       "    }\n",
       "\n",
       "    .dataframe tbody tr th {\n",
       "        vertical-align: top;\n",
       "    }\n",
       "</style>\n",
       "<table border=\"1\" class=\"dataframe\">\n",
       "  <thead>\n",
       "    <tr style=\"text-align: right;\">\n",
       "      <th></th>\n",
       "      <th>model</th>\n",
       "      <th>accuracy</th>\n",
       "      <th>error</th>\n",
       "      <th>n_features</th>\n",
       "      <th>n_trees</th>\n",
       "      <th>time</th>\n",
       "    </tr>\n",
       "  </thead>\n",
       "  <tbody>\n",
       "    <tr>\n",
       "      <th>0</th>\n",
       "      <td>average</td>\n",
       "      <td>91.961</td>\n",
       "      <td>4.763</td>\n",
       "      <td>1</td>\n",
       "      <td>NaN</td>\n",
       "      <td>NaN</td>\n",
       "    </tr>\n",
       "    <tr>\n",
       "      <th>1</th>\n",
       "      <td>one_year</td>\n",
       "      <td>92.468</td>\n",
       "      <td>4.339</td>\n",
       "      <td>14</td>\n",
       "      <td>10.0</td>\n",
       "      <td>0.0379</td>\n",
       "    </tr>\n",
       "    <tr>\n",
       "      <th>2</th>\n",
       "      <td>four_years_all</td>\n",
       "      <td>93.509</td>\n",
       "      <td>3.837</td>\n",
       "      <td>17</td>\n",
       "      <td>10.0</td>\n",
       "      <td>0.1139</td>\n",
       "    </tr>\n",
       "    <tr>\n",
       "      <th>3</th>\n",
       "      <td>four_years_red</td>\n",
       "      <td>93.359</td>\n",
       "      <td>3.920</td>\n",
       "      <td>6</td>\n",
       "      <td>10.0</td>\n",
       "      <td>0.0777</td>\n",
       "    </tr>\n",
       "    <tr>\n",
       "      <th>4</th>\n",
       "      <td>best_random</td>\n",
       "      <td>93.733</td>\n",
       "      <td>3.715</td>\n",
       "      <td>6</td>\n",
       "      <td>400.0</td>\n",
       "      <td>2.0313</td>\n",
       "    </tr>\n",
       "    <tr>\n",
       "      <th>5</th>\n",
       "      <td>first_grid</td>\n",
       "      <td>93.830</td>\n",
       "      <td>3.656</td>\n",
       "      <td>6</td>\n",
       "      <td>100.0</td>\n",
       "      <td>0.3412</td>\n",
       "    </tr>\n",
       "    <tr>\n",
       "      <th>6</th>\n",
       "      <td>second_grid</td>\n",
       "      <td>93.816</td>\n",
       "      <td>3.660</td>\n",
       "      <td>6</td>\n",
       "      <td>100.0</td>\n",
       "      <td>0.3325</td>\n",
       "    </tr>\n",
       "  </tbody>\n",
       "</table>\n",
       "</div>"
      ],
      "text/plain": [
       "            model  accuracy  error  n_features  n_trees    time\n",
       "0         average    91.961  4.763           1      NaN     NaN\n",
       "1        one_year    92.468  4.339          14     10.0  0.0379\n",
       "2  four_years_all    93.509  3.837          17     10.0  0.1139\n",
       "3  four_years_red    93.359  3.920           6     10.0  0.0777\n",
       "4     best_random    93.733  3.715           6    400.0  2.0313\n",
       "5      first_grid    93.830  3.656           6    100.0  0.3412\n",
       "6     second_grid    93.816  3.660           6    100.0  0.3325"
      ]
     },
     "execution_count": 49,
     "metadata": {},
     "output_type": "execute_result"
    }
   ],
   "source": [
    "comparison[['model', 'accuracy', 'error', 'n_features', 'n_trees', 'time']]"
   ]
  },
  {
   "cell_type": "code",
   "execution_count": 50,
   "metadata": {
    "collapsed": false
   },
   "outputs": [
    {
     "name": "stdout",
     "output_type": "stream",
     "text": [
      "Adding Data and Feature Selection error reduction: 17.69%\n",
      "Hyperparameter Tuning Error Reduction: 6.73%\n"
     ]
    }
   ],
   "source": [
    "print('Adding Data and Feature Selection error reduction: {:0.2f}%'.format(100 * (baseline_results['error'] - four_years_important_results['error']) / baseline_results['error'])) \n",
    "print('Hyperparameter Tuning Error Reduction: {:0.2f}%'.format(100 * (four_years_important_results['error'] - first_grid_results['error']) / four_years_important_results['error']))"
   ]
  },
  {
   "cell_type": "markdown",
   "metadata": {},
   "source": [
    "## Plotting"
   ]
  },
  {
   "cell_type": "code",
   "execution_count": 51,
   "metadata": {
    "collapsed": true
   },
   "outputs": [],
   "source": [
    "import matplotlib.pyplot as plt\n",
    "import seaborn as sns\n",
    "%matplotlib inline\n",
    "\n",
    "plt.style.use('fivethirtyeight')"
   ]
  },
  {
   "cell_type": "markdown",
   "metadata": {},
   "source": [
    "### Model Comparison Plot"
   ]
  },
  {
   "cell_type": "code",
   "execution_count": 52,
   "metadata": {
    "collapsed": false
   },
   "outputs": [
    {
     "data": {
      "image/png": "[encoded data removed]",
      "text/plain": [
       "<matplotlib.figure.Figure at 0x26b007065f8>"
      ]
     },
     "metadata": {},
     "output_type": "display_data"
    }
   ],
   "source": [
    "xvalues = list(range(len(comparison)))\n",
    "plt.subplots(1, 2, figsize=(10, 6))\n",
    "plt.subplot(121)\n",
    "plt.bar(xvalues, comparison['accuracy'], color = 'g', edgecolor = 'k', linewidth = 1.8)\n",
    "plt.xticks(xvalues, comparison['model'], rotation = 45, fontsize = 12)\n",
    "plt.ylim(ymin = 91, ymax = 94)\n",
    "plt.xlabel('model'); plt.ylabel('Accuracy (%)'); plt.title('Accuracy Comparison');\n",
    "\n",
    "plt.subplot(122)\n",
    "plt.bar(xvalues, comparison['error'], color = 'r', edgecolor = 'k', linewidth = 1.8)\n",
    "plt.xticks(xvalues, comparison['model'], rotation = 45)\n",
    "plt.ylim(ymin = 3.5, ymax = 4.8)\n",
    "plt.xlabel('model'); plt.ylabel('Error (deg)'); plt.title('Error Comparison');\n",
    "plt.show();"
   ]
  },
  {
   "cell_type": "markdown",
   "metadata": {},
   "source": [
    "# Training Curves\n",
    "\n",
    "We can perform grid search over only one parameter to observe the effects of changing that parameter on performance. We will look at training time, training set accuracy, and teseting set accuracy."
   ]
  },
  {
   "cell_type": "markdown",
   "metadata": {},
   "source": [
    "#### Number of Trees"
   ]
  },
  {
   "cell_type": "code",
   "execution_count": 53,
   "metadata": {
    "collapsed": false
   },
   "outputs": [
    {
     "name": "stdout",
     "output_type": "stream",
     "text": [
      "Fitting 3 folds for each of 30 candidates, totalling 90 fits\n"
     ]
    },
    {
     "name": "stderr",
     "output_type": "stream",
     "text": [
      "[Parallel(n_jobs=-1)]: Done  33 tasks      | elapsed:    4.2s\n",
      "[Parallel(n_jobs=-1)]: Done  90 out of  90 | elapsed:   16.3s finished\n"
     ]
    },
    {
     "data": {
      "text/plain": [
       "GridSearchCV(cv=3, error_score='raise',\n",
       "       estimator=RandomForestRegressor(bootstrap=True, criterion='mse', max_depth=80,\n",
       "           max_features=3, max_leaf_nodes=None, min_impurity_decrease=0.0,\n",
       "           min_impurity_split=None, min_samples_leaf=5,\n",
       "           min_samples_split=12, min_weight_fraction_leaf=0.0,\n",
       "           n_estimators=100, n_jobs=1, oob_score=False, random_state=42,\n",
       "           verbose=0, warm_start=False),\n",
       "       fit_params=None, iid=True, n_jobs=-1,\n",
       "       param_grid={'n_estimators': [1, 11, 21, 32, 42, 52, 63, 73, 83, 94, 104, 114, 125, 135, 145, 156, 166, 176, 187, 197, 207, 218, 228, 238, 249, 259, 269, 280, 290, 301]},\n",
       "       pre_dispatch='2*n_jobs', refit=True, return_train_score=True,\n",
       "       scoring='neg_mean_absolute_error', verbose=2)"
      ]
     },
     "execution_count": 53,
     "metadata": {},
     "output_type": "execute_result"
    }
   ],
   "source": [
    "# Grid with only the number of trees changed\n",
    "tree_grid = {'n_estimators': [int(x) for x in np.linspace(1, 301, 30)]}\n",
    "\n",
    "# Create the grid search model and fit to the training data\n",
    "tree_grid_search = GridSearchCV(final_model, param_grid=tree_grid, verbose = 2, n_jobs=-1, cv = 3,\n",
    "                                scoring = 'neg_mean_absolute_error')\n",
    "tree_grid_search.fit(train_features, train_labels)"
   ]
  },
  {
   "cell_type": "code",
   "execution_count": 54,
   "metadata": {
    "collapsed": false
   },
   "outputs": [
    {
     "data": {
      "text/plain": [
       "{'mean_fit_time': array([ 0.00568151,  0.04211068,  0.07753793,  0.1223251 ,  0.15641522,\n",
       "         0.18983801,  0.25400893,  0.27138782,  0.29712296,  0.35460941,\n",
       "         0.38870017,  0.42579913,  0.49799093,  0.48428742,  0.52138638,\n",
       "         0.57218822,  0.61229467,  0.65340455,  0.6838185 ,  0.72392607,\n",
       "         0.74732097,  0.77673268,  0.8128287 ,  0.86697245,  0.90240049,\n",
       "         0.93582273,  0.9712503 ,  1.01235906,  1.05747954,  1.04444544]),\n",
       " 'mean_score_time': array([ 0.00100271,  0.00200518,  0.00367681,  0.00601617,  0.00768757,\n",
       "         0.00935857,  0.01036135,  0.01136359,  0.0153745 ,  0.01537538,\n",
       "         0.0170451 ,  0.01771386,  0.01804805,  0.02105618,  0.02306143,\n",
       "         0.0210561 ,  0.02874335,  0.02740685,  0.02840869,  0.02874231,\n",
       "         0.03074869,  0.03342239,  0.0367643 ,  0.03977251,  0.03977235,\n",
       "         0.03876988,  0.04244669,  0.04144382,  0.04378343,  0.04044048]),\n",
       " 'mean_test_score': array([-4.67129387, -3.86287399, -3.83621744, -3.83784038, -3.81592845,\n",
       "        -3.81158733, -3.81039706, -3.81395329, -3.81316966, -3.81573268,\n",
       "        -3.81537472, -3.81366292, -3.8152856 , -3.81320834, -3.81427735,\n",
       "        -3.81740867, -3.8194608 , -3.81987898, -3.8211804 , -3.82142599,\n",
       "        -3.82039862, -3.8214901 , -3.82186413, -3.82111266, -3.8210121 ,\n",
       "        -3.82360839, -3.82349691, -3.82325111, -3.82191414, -3.82269245]),\n",
       " 'mean_train_score': array([-3.63678701, -2.97247136, -2.93358289, -2.92386852, -2.91474273,\n",
       "        -2.90825108, -2.91044802, -2.91043265, -2.90786401, -2.90570006,\n",
       "        -2.90428697, -2.9070783 , -2.90598002, -2.90470574, -2.90332581,\n",
       "        -2.9013098 , -2.90049823, -2.89965622, -2.8993354 , -2.89904468,\n",
       "        -2.89981885, -2.90012415, -2.89997328, -2.89901402, -2.89824528,\n",
       "        -2.89918139, -2.89984598, -2.89997575, -2.89929236, -2.89967053]),\n",
       " 'param_n_estimators': masked_array(data = [1 11 21 32 42 52 63 73 83 94 104 114 125 135 145 156 166 176 187 197 207\n",
       "  218 228 238 249 259 269 280 290 301],\n",
       "              mask = [False False False False False False False False False False False False\n",
       "  False False False False False False False False False False False False\n",
       "  False False False False False False],\n",
       "        fill_value = ?),\n",
       " 'params': [{'n_estimators': 1},\n",
       "  {'n_estimators': 11},\n",
       "  {'n_estimators': 21},\n",
       "  {'n_estimators': 32},\n",
       "  {'n_estimators': 42},\n",
       "  {'n_estimators': 52},\n",
       "  {'n_estimators': 63},\n",
       "  {'n_estimators': 73},\n",
       "  {'n_estimators': 83},\n",
       "  {'n_estimators': 94},\n",
       "  {'n_estimators': 104},\n",
       "  {'n_estimators': 114},\n",
       "  {'n_estimators': 125},\n",
       "  {'n_estimators': 135},\n",
       "  {'n_estimators': 145},\n",
       "  {'n_estimators': 156},\n",
       "  {'n_estimators': 166},\n",
       "  {'n_estimators': 176},\n",
       "  {'n_estimators': 187},\n",
       "  {'n_estimators': 197},\n",
       "  {'n_estimators': 207},\n",
       "  {'n_estimators': 218},\n",
       "  {'n_estimators': 228},\n",
       "  {'n_estimators': 238},\n",
       "  {'n_estimators': 249},\n",
       "  {'n_estimators': 259},\n",
       "  {'n_estimators': 269},\n",
       "  {'n_estimators': 280},\n",
       "  {'n_estimators': 290},\n",
       "  {'n_estimators': 301}],\n",
       " 'rank_test_score': array([30, 29, 27, 28, 11,  2,  1,  6,  3, 10,  9,  5,  8,  4,  7, 12, 13,\n",
       "        14, 18, 19, 15, 20, 21, 17, 16, 26, 25, 24, 22, 23]),\n",
       " 'split0_test_score': array([-4.7689547 , -3.84748737, -3.83727464, -3.8375304 , -3.80259056,\n",
       "        -3.79984495, -3.81356688, -3.8190575 , -3.81858582, -3.82312397,\n",
       "        -3.82224446, -3.81436349, -3.81889735, -3.8156823 , -3.81996879,\n",
       "        -3.81969539, -3.81900196, -3.81933088, -3.82373613, -3.82601114,\n",
       "        -3.82666218, -3.82647276, -3.826445  , -3.82224927, -3.82260432,\n",
       "        -3.82603294, -3.82553782, -3.82453639, -3.82360118, -3.8251962 ]),\n",
       " 'split0_train_score': array([-3.63391351, -2.98893768, -2.95192599, -2.94245926, -2.93814413,\n",
       "        -2.92043164, -2.91624119, -2.91734143, -2.91574069, -2.91562638,\n",
       "        -2.91364165, -2.91664683, -2.91897264, -2.91536588, -2.9131948 ,\n",
       "        -2.91064479, -2.90917928, -2.90702375, -2.90582369, -2.90607709,\n",
       "        -2.90582691, -2.90470711, -2.90179434, -2.90062226, -2.90117531,\n",
       "        -2.90271421, -2.90312089, -2.90360645, -2.9031514 , -2.9038933 ]),\n",
       " 'split1_test_score': array([-4.58831821, -3.7809908 , -3.76011897, -3.77322549, -3.75230001,\n",
       "        -3.74672881, -3.73981015, -3.74205872, -3.73962744, -3.74534835,\n",
       "        -3.74434199, -3.74765867, -3.74723906, -3.74710183, -3.74538412,\n",
       "        -3.75247747, -3.75394681, -3.7549501 , -3.75528881, -3.75456518,\n",
       "        -3.75288607, -3.75360693, -3.75255671, -3.75287841, -3.75020973,\n",
       "        -3.75448784, -3.75494786, -3.75431828, -3.75203302, -3.75315278]),\n",
       " 'split1_train_score': array([-3.68667947, -3.02180692, -2.97944694, -2.96437998, -2.95173139,\n",
       "        -2.95275885, -2.95563571, -2.96034652, -2.95586164, -2.95389009,\n",
       "        -2.95132706, -2.95381927, -2.9551573 , -2.95502881, -2.95316177,\n",
       "        -2.94915812, -2.94711446, -2.94607063, -2.94833759, -2.94582348,\n",
       "        -2.94727089, -2.94859403, -2.95077318, -2.94938744, -2.94833615,\n",
       "        -2.94930217, -2.94869409, -2.9482708 , -2.94673783, -2.94823348]),\n",
       " 'split2_test_score': array([-4.65658184, -3.96032162, -3.9113959 , -3.90288394, -3.89303549,\n",
       "        -3.88832827, -3.8779374 , -3.88086576, -3.88142027, -3.87884088,\n",
       "        -3.879655  , -3.879086  , -3.87983818, -3.87695723, -3.87759469,\n",
       "        -3.88016767, -3.88555422, -3.88547567, -3.88463206, -3.8838155 ,\n",
       "        -3.88175957, -3.88450561, -3.886709  , -3.88833297, -3.89034879,\n",
       "        -3.89042633, -3.89012663, -3.89102232, -3.89023288, -3.88985091]),\n",
       " 'split2_train_score': array([-3.58976806, -2.90666949, -2.86937575, -2.86476633, -2.85435266,\n",
       "        -2.85156275, -2.85946717, -2.85361   , -2.85198969, -2.84758372,\n",
       "        -2.84789221, -2.85076881, -2.84381013, -2.84372252, -2.84362085,\n",
       "        -2.84412649, -2.84520095, -2.84587429, -2.84384492, -2.84523346,\n",
       "        -2.84635873, -2.84707132, -2.84735233, -2.84703236, -2.84522438,\n",
       "        -2.8455278 , -2.84772297, -2.84805001, -2.84798785, -2.8468848 ]),\n",
       " 'std_fit_time': array([ 0.00094476,  0.00511123,  0.00760773,  0.01205998,  0.00639414,\n",
       "         0.00526341,  0.01409274,  0.00403806,  0.00386867,  0.00206037,\n",
       "         0.01423481,  0.0194135 ,  0.02690926,  0.00900553,  0.00409387,\n",
       "         0.01767894,  0.00545084,  0.02367538,  0.0176149 ,  0.00862532,\n",
       "         0.0110549 ,  0.01346073,  0.01313258,  0.00795109,  0.02783479,\n",
       "         0.02826918,  0.0449702 ,  0.00125036,  0.00898057,  0.0388872 ]),\n",
       " 'std_score_time': array([  4.89903609e-07,   2.97360213e-07,   4.72325692e-04,\n",
       "          1.41770765e-03,   1.70422575e-03,   1.70377382e-03,\n",
       "          1.89076383e-03,   1.25067588e-03,   4.73000042e-04,\n",
       "          2.36292095e-03,   1.41753909e-03,   1.70405432e-03,\n",
       "          8.18481433e-04,   2.45622292e-03,   1.63754693e-03,\n",
       "          1.12391596e-07,   4.12066950e-03,   4.72269848e-04,\n",
       "          3.40899702e-03,   1.70417901e-03,   2.06039282e-03,\n",
       "          3.30887282e-03,   3.30888086e-03,   6.14467334e-03,\n",
       "          4.12066950e-03,   1.70416342e-03,   1.70435051e-03,\n",
       "          1.25133427e-03,   2.50094819e-03,   1.70452189e-03]),\n",
       " 'std_test_score': array([ 0.07449557,  0.0740052 ,  0.06175365,  0.05292522,  0.058216  ,\n",
       "         0.0583928 ,  0.05642618,  0.05677404,  0.05800453,  0.05474008,\n",
       "         0.05544627,  0.05364909,  0.05418538,  0.05303404,  0.05411649,\n",
       "         0.05214645,  0.05372128,  0.05328012,  0.05282705,  0.05285779,\n",
       "         0.05279065,  0.05354715,  0.05485489,  0.0552965 ,  0.05721389,\n",
       "         0.05551469,  0.05519697,  0.05580808,  0.05642387,  0.05582637]),\n",
       " 'std_train_score': array([ 0.03961606,  0.04842528,  0.04677085,  0.04273899,  0.04306099,\n",
       "         0.0422014 ,  0.03947377,  0.04384799,  0.04276975,  0.04396332,\n",
       "         0.04274205,  0.04261077,  0.04637639,  0.04606156,  0.0452611 ,\n",
       "         0.04338408,  0.0420564 ,  0.0412354 ,  0.04290496,  0.04136568,\n",
       "         0.04141569,  0.04157297,  0.04224102,  0.04180176,  0.04214616,\n",
       "         0.0424393 ,  0.04128628,  0.04099543,  0.04040675,  0.04148303])}"
      ]
     },
     "execution_count": 54,
     "metadata": {},
     "output_type": "execute_result"
    }
   ],
   "source": [
    "tree_grid_search.cv_results_"
   ]
  },
  {
   "cell_type": "code",
   "execution_count": 55,
   "metadata": {
    "collapsed": true
   },
   "outputs": [],
   "source": [
    "def plot_results(model, param = 'n_estimators', name = 'Num Trees'):\n",
    "    param_name = 'param_%s' % param\n",
    "\n",
    "    # Extract information from the cross validation model\n",
    "    train_scores = model.cv_results_['mean_train_score']\n",
    "    test_scores = model.cv_results_['mean_test_score']\n",
    "    train_time = model.cv_results_['mean_fit_time']\n",
    "    param_values = list(model.cv_results_[param_name])\n",
    "    \n",
    "    # Plot the scores over the parameter\n",
    "    plt.subplots(1, 2, figsize=(10, 6))\n",
    "    plt.subplot(121)\n",
    "    plt.plot(param_values, train_scores, 'bo-', label = 'train')\n",
    "    plt.plot(param_values, test_scores, 'go-', label = 'test')\n",
    "    plt.ylim(ymin = -10, ymax = 0)\n",
    "    plt.legend()\n",
    "    plt.xlabel(name)\n",
    "    plt.ylabel('Neg Mean Absolute Error')\n",
    "    plt.title('Score vs %s' % name)\n",
    "    \n",
    "    plt.subplot(122)\n",
    "    plt.plot(param_values, train_time, 'ro-')\n",
    "    plt.ylim(ymin = 0.0, ymax = 2.0)\n",
    "    plt.xlabel(name)\n",
    "    plt.ylabel('Train Time (sec)')\n",
    "    plt.title('Training Time vs %s' % name)\n",
    "    \n",
    "    \n",
    "    plt.tight_layout(pad = 4)"
   ]
  },
  {
   "cell_type": "code",
   "execution_count": 56,
   "metadata": {
    "collapsed": false
   },
   "outputs": [
    {
     "data": {
      "image/png": "[encoded data removed]",
      "text/plain": [
       "<matplotlib.figure.Figure at 0x26b03a90be0>"
      ]
     },
     "metadata": {},
     "output_type": "display_data"
    }
   ],
   "source": [
    "plot_results(tree_grid_search)"
   ]
  },
  {
   "cell_type": "markdown",
   "metadata": {},
   "source": [
    "### Number of Features at Each Split"
   ]
  },
  {
   "cell_type": "code",
   "execution_count": 57,
   "metadata": {
    "collapsed": false
   },
   "outputs": [],
   "source": [
    "# Define a grid over only the maximum number of features\n",
    "feature_grid = {'max_features': list(range(1, train_features.shape[1] + 1))}"
   ]
  },
  {
   "cell_type": "code",
   "execution_count": 58,
   "metadata": {
    "collapsed": false
   },
   "outputs": [
    {
     "name": "stdout",
     "output_type": "stream",
     "text": [
      "Fitting 3 folds for each of 6 candidates, totalling 18 fits\n"
     ]
    },
    {
     "name": "stderr",
     "output_type": "stream",
     "text": [
      "[Parallel(n_jobs=-1)]: Done  18 out of  18 | elapsed:    4.3s finished\n"
     ]
    },
    {
     "data": {
      "text/plain": [
       "GridSearchCV(cv=3, error_score='raise',\n",
       "       estimator=RandomForestRegressor(bootstrap=True, criterion='mse', max_depth=80,\n",
       "           max_features=3, max_leaf_nodes=None, min_impurity_decrease=0.0,\n",
       "           min_impurity_split=None, min_samples_leaf=5,\n",
       "           min_samples_split=12, min_weight_fraction_leaf=0.0,\n",
       "           n_estimators=100, n_jobs=1, oob_score=False, random_state=42,\n",
       "           verbose=0, warm_start=False),\n",
       "       fit_params=None, iid=True, n_jobs=-1,\n",
       "       param_grid={'max_features': [1, 2, 3, 4, 5, 6]},\n",
       "       pre_dispatch='2*n_jobs', refit=True, return_train_score=True,\n",
       "       scoring='neg_mean_absolute_error', verbose=2)"
      ]
     },
     "execution_count": 58,
     "metadata": {},
     "output_type": "execute_result"
    }
   ],
   "source": [
    "# Create the grid search and fit on the training data\n",
    "feature_grid_search = GridSearchCV(final_model, param_grid=feature_grid, cv = 3, n_jobs=-1, verbose= 2,\n",
    "                                  scoring = 'neg_mean_absolute_error')\n",
    "feature_grid_search.fit(train_features, train_labels)"
   ]
  },
  {
   "cell_type": "code",
   "execution_count": 59,
   "metadata": {
    "collapsed": false
   },
   "outputs": [
    {
     "data": {
      "image/png": "[encoded data removed]",
      "text/plain": [
       "<matplotlib.figure.Figure at 0x26b038df080>"
      ]
     },
     "metadata": {},
     "output_type": "display_data"
    }
   ],
   "source": [
    "plot_results(feature_grid_search, param='max_features', name = 'Max Features')"
   ]
  },
  {
   "cell_type": "markdown",
   "metadata": {},
   "source": [
    "## Visualizing One Tree in the Forest\n",
    "\n",
    "My favorite part about the random forest in scikit-learn may be that you can actually look at any tree in the forest.\n",
    "I'll pick one tree and visualize it as an image."
   ]
  },
  {
   "cell_type": "code",
   "execution_count": 60,
   "metadata": {
    "collapsed": true
   },
   "outputs": [],
   "source": [
    "# Use sklearn to export the tree \n",
    "from sklearn.tree import export_graphviz\n",
    "\n",
    "# Write the decision tree as a dot file\n",
    "visual_tree = final_model.estimators_[12]\n",
    "export_graphviz(visual_tree, out_file = 'images/best_tree.dot', feature_names = important_feature_names, \n",
    "                precision = 2, filled = True, rounded = True, max_depth = None)"
   ]
  },
  {
   "cell_type": "code",
   "execution_count": 61,
   "metadata": {
    "collapsed": false
   },
   "outputs": [
    {
     "data": {
      "text/plain": [
       "True"
      ]
     },
     "execution_count": 61,
     "metadata": {},
     "output_type": "execute_result"
    }
   ],
   "source": [
    "# Use pydot for converting to an image file\n",
    "import pydot\n",
    "\n",
    "# Import the dot file to a graph and then convert to a png\n",
    "(graph, ) = pydot.graph_from_dot_file('images/best_tree.dot')\n",
    "graph.write_png('images/best_tree.png')"
   ]
  },
  {
   "cell_type": "markdown",
   "metadata": {},
   "source": [
    "![Best Tree](images/best_tree.png)"
   ]
  },
  {
   "cell_type": "code",
   "execution_count": null,
   "metadata": {
    "collapsed": true
   },
   "outputs": [],
   "source": []
  }
 ],
 "metadata": {
  "kernelspec": {
   "display_name": "Python 3",
   "language": "python",
   "name": "python3"
  },
  "language_info": {
   "codemirror_mode": {
    "name": "ipython",
    "version": 3
   },
   "file_extension": ".py",
   "mimetype": "text/x-python",
   "name": "python",
   "nbconvert_exporter": "python",
   "pygments_lexer": "ipython3",
   "version": "3.6.0"
  }
 },
 "nbformat": 4,
 "nbformat_minor": 2
}
