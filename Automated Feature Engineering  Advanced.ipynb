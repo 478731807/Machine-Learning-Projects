{
 "cells": [
  {
   "cell_type": "markdown",
   "metadata": {},
   "source": [
    "# Introduction: Tuning Automated Feature Engineering\n",
    "\n",
    "In this notebook we will expand upon the basic automated feature engineering done in the introductory notebook. We will explore a few different options for improving the set of features, most notably, creating time variables from the relative time information in the data. We can also explore creating seed features and \"interesting variables\". Reading through the discussion around this competition and working through some other's kernels, intricate feature engineering is a must. Using the default feature transforms did improve our score, but to do better we will need some more advanced methods. \n",
    "\n",
    "Several of the methods we will look at in this notebook are:\n",
    "\n",
    "* Properly representing variable types\n",
    "* Creating time variables\n",
    "* Using interesting values\n",
    "* Seed features\n",
    "* Custom primitives\n",
    "\n",
    "This is meant more as an exploration of the capabilities of featuretools than a complete implementation. I'm still working on figuring out the most useful features to build by reading through other kernels, finding features, and figuring out how to recreate those in featuretools. "
   ]
  },
  {
   "cell_type": "code",
   "execution_count": 1,
   "metadata": {},
   "outputs": [],
   "source": [
    "# pandas and numpy for data manipulation\n",
    "import pandas as pd\n",
    "import numpy as np\n",
    "\n",
    "# automated feature engineering\n",
    "import featuretools as ft\n",
    "\n",
    "# Filter out pandas warnings\n",
    "import warnings \n",
    "warnings.filterwarnings('ignore')"
   ]
  },
  {
   "cell_type": "markdown",
   "metadata": {},
   "source": [
    "### Read in Data and Create Smaller Datasets\n",
    "\n",
    "We will limit the data to 1000 rows because automated feature engineering is computationally intensive work. Later we can refactor this code into functions and put it in a script to run on a more powerful machine. "
   ]
  },
  {
   "cell_type": "code",
   "execution_count": 2,
   "metadata": {},
   "outputs": [],
   "source": [
    "# Read in the datasets and limit to the first 1000 rows (sorted by SK_ID_CURR) \n",
    "# This allows us to actually see the results in a reasonable amount of time! \n",
    "app_train = pd.read_csv('../input/application_train.csv').sort_values('SK_ID_CURR').reset_index().loc[:500, :].drop(columns = ['index'])\n",
    "app_test = pd.read_csv('../input/application_test.csv').sort_values('SK_ID_CURR').reset_index().loc[:500, :].drop(columns = ['index'])\n",
    "bureau = pd.read_csv('../input/bureau.csv').sort_values(['SK_ID_CURR', 'SK_ID_BUREAU']).reset_index().loc[:1000, :].drop(columns = ['index'])\n",
    "bureau_balance = pd.read_csv('../input/bureau_balance.csv').sort_values('SK_ID_BUREAU').reset_index().loc[:1000, :].drop(columns = ['index'])\n",
    "cash = pd.read_csv('../input/POS_CASH_balance.csv').sort_values(['SK_ID_CURR', 'SK_ID_PREV']).reset_index().loc[:1000, :].drop(columns = ['index'])\n",
    "credit = pd.read_csv('../input/credit_card_balance.csv').sort_values(['SK_ID_CURR', 'SK_ID_PREV']).reset_index().loc[:1000, :].drop(columns = ['index'])\n",
    "previous = pd.read_csv('../input/previous_application.csv').sort_values(['SK_ID_CURR', 'SK_ID_PREV']).reset_index().loc[:1000, :].drop(columns = ['index'])\n",
    "installments = pd.read_csv('../input/installments_payments.csv').sort_values(['SK_ID_CURR', 'SK_ID_PREV']).reset_index().loc[:1000, :].drop(columns = ['index'])"
   ]
  },
  {
   "cell_type": "code",
   "execution_count": 3,
   "metadata": {},
   "outputs": [],
   "source": [
    "# Join the appliation dataframes together\n",
    "app_test['set'] = 'test'\n",
    "app_test['TARGET'] = -999\n",
    "app_train['set'] = 'train'\n",
    "\n",
    "# Append the dataframes (this is a row bind in R)\n",
    "app = app_train.append(app_test, ignore_index = True)"
   ]
  },
  {
   "cell_type": "markdown",
   "metadata": {},
   "source": [
    "## Properly Representing Variables Types\n",
    "\n",
    "There are a number of columns in the `app` dataframe that are represented as integers but are really Boolean variables. These represent flags that can only take on a limited number of values (usually 2). To tell featuretools to treat these as Boolean variables, we need to pass in the correct datatype. After going through the column definitions, I identified all of the categorical variables. To pass these to featuretools, we need to make a dictionary mapping {`categorical_variable`: `ft.variable_types.Boolean`}. "
   ]
  },
  {
   "cell_type": "code",
   "execution_count": 4,
   "metadata": {},
   "outputs": [
    {
     "name": "stdout",
     "output_type": "stream",
     "text": [
      "Number of categorical variables:  32\n"
     ]
    }
   ],
   "source": [
    "app_types = {}\n",
    "\n",
    "# Iterate through the columns and record the categorical columns\n",
    "for col in app:\n",
    "    # If column is a number with only two values, encode it as a Boolean\n",
    "    if (app[col].dtype != 'object') and (len(app[col].unique()) <= 2):\n",
    "        app_types[col] = ft.variable_types.Boolean\n",
    "\n",
    "print('Number of categorical variables: ', len(app_types))"
   ]
  },
  {
   "cell_type": "markdown",
   "metadata": {},
   "source": [
    "There are also two ordinal variables in the `app` data: the rating of the region with and without the city. "
   ]
  },
  {
   "cell_type": "code",
   "execution_count": 5,
   "metadata": {},
   "outputs": [],
   "source": [
    "# Record ordinal variables\n",
    "app_types['REGION_RATING_CLIENT'] = ft.variable_types.Ordinal\n",
    "app_types['REGION_RATING_CLIENT_W_CITY'] = ft.variable_types.Ordinal"
   ]
  },
  {
   "cell_type": "code",
   "execution_count": 6,
   "metadata": {},
   "outputs": [],
   "source": [
    "# Record boolean variables in the previous data\n",
    "previous_types= {'NFLAG_LAST_APPL_IN_DAY': ft.variable_types.Boolean,\n",
    "                 'NFLAG_INSURED_ON_APPROVAL': ft.variable_types.Boolean}"
   ]
  },
  {
   "cell_type": "markdown",
   "metadata": {},
   "source": [
    "# Time Variable\n",
    "\n",
    "Time can be a crucial factor in many datasets. Behavior changes over time, and we might want to make features to reflect this. For example, a client might be taking out larger and larger loans over time which could be an indicator that they are about to default. \n",
    "\n",
    "There are no explicit datetimes in the data, but we can create our own using the provided day and month offsets. For example, in `bureau`, the `DAYS_CREDIT` column represents the \"How many days before current application did client apply for Credit Bureau credit\". (credit bureau refers to any other credit organization besides Home Credit). Although we do not know the actual application date, if we assume a starting application date that is the same for all clients, then we can convert the `MONTHS_BALANCE` into a datetime. We won't use the weekday, month, or hour of this datetime because only the relative times are important.\n",
    "\n",
    "First we can establish an arbitrary date and then convert the time offset in months into a Pandas `timedelta` object. "
   ]
  },
  {
   "cell_type": "code",
   "execution_count": 7,
   "metadata": {},
   "outputs": [
    {
     "data": {
      "text/plain": [
       "Timestamp('2016-01-01 00:00:00')"
      ]
     },
     "execution_count": 7,
     "metadata": {},
     "output_type": "execute_result"
    }
   ],
   "source": [
    "# Establish a starting date for all applications at Home Credit\n",
    "start_date = pd.Timestamp(\"2016-01-01\")\n",
    "start_date"
   ]
  },
  {
   "cell_type": "code",
   "execution_count": 8,
   "metadata": {},
   "outputs": [
    {
     "data": {
      "text/html": [
       "<div>\n",
       "<style scoped>\n",
       "    .dataframe tbody tr th:only-of-type {\n",
       "        vertical-align: middle;\n",
       "    }\n",
       "\n",
       "    .dataframe tbody tr th {\n",
       "        vertical-align: top;\n",
       "    }\n",
       "\n",
       "    .dataframe thead th {\n",
       "        text-align: right;\n",
       "    }\n",
       "</style>\n",
       "<table border=\"1\" class=\"dataframe\">\n",
       "  <thead>\n",
       "    <tr style=\"text-align: right;\">\n",
       "      <th></th>\n",
       "      <th>DAYS_CREDIT</th>\n",
       "      <th>DAYS_CREDIT_ENDDATE</th>\n",
       "      <th>DAYS_ENDDATE_FACT</th>\n",
       "      <th>DAYS_CREDIT_UPDATE</th>\n",
       "    </tr>\n",
       "  </thead>\n",
       "  <tbody>\n",
       "    <tr>\n",
       "      <th>0</th>\n",
       "      <td>-857 days</td>\n",
       "      <td>-492 days</td>\n",
       "      <td>-553 days</td>\n",
       "      <td>-155 days</td>\n",
       "    </tr>\n",
       "    <tr>\n",
       "      <th>1</th>\n",
       "      <td>-909 days</td>\n",
       "      <td>-179 days</td>\n",
       "      <td>-877 days</td>\n",
       "      <td>-155 days</td>\n",
       "    </tr>\n",
       "    <tr>\n",
       "      <th>2</th>\n",
       "      <td>-879 days</td>\n",
       "      <td>-514 days</td>\n",
       "      <td>-544 days</td>\n",
       "      <td>-155 days</td>\n",
       "    </tr>\n",
       "    <tr>\n",
       "      <th>3</th>\n",
       "      <td>-1572 days</td>\n",
       "      <td>-1329 days</td>\n",
       "      <td>-1328 days</td>\n",
       "      <td>-155 days</td>\n",
       "    </tr>\n",
       "    <tr>\n",
       "      <th>4</th>\n",
       "      <td>-559 days</td>\n",
       "      <td>902 days</td>\n",
       "      <td>NaT</td>\n",
       "      <td>-6 days</td>\n",
       "    </tr>\n",
       "  </tbody>\n",
       "</table>\n",
       "</div>"
      ],
      "text/plain": [
       "  DAYS_CREDIT DAYS_CREDIT_ENDDATE DAYS_ENDDATE_FACT DAYS_CREDIT_UPDATE\n",
       "0   -857 days           -492 days         -553 days          -155 days\n",
       "1   -909 days           -179 days         -877 days          -155 days\n",
       "2   -879 days           -514 days         -544 days          -155 days\n",
       "3  -1572 days          -1329 days        -1328 days          -155 days\n",
       "4   -559 days            902 days               NaT            -6 days"
      ]
     },
     "execution_count": 8,
     "metadata": {},
     "output_type": "execute_result"
    }
   ],
   "source": [
    "# Convert to timedelta in days\n",
    "for col in ['DAYS_CREDIT', 'DAYS_CREDIT_ENDDATE', 'DAYS_ENDDATE_FACT', 'DAYS_CREDIT_UPDATE']:\n",
    "    bureau[col] = pd.to_timedelta(bureau[col], 'D')\n",
    "    \n",
    "bureau[['DAYS_CREDIT', 'DAYS_CREDIT_ENDDATE', 'DAYS_ENDDATE_FACT', 'DAYS_CREDIT_UPDATE']].head()"
   ]
  },
  {
   "cell_type": "markdown",
   "metadata": {},
   "source": [
    "Converting to timedelta objects allows for efficient vectorized operations of entire columns. \n",
    "\n",
    "These four columns represent different offsets:\n",
    "\n",
    "* `DAYS_CREDIT`: Number of days before current application at Home Credit client applied for loan at other financial institution. We will call this the application date, `bureau_credit_application_date`\n",
    "* `DAYS_CREDIT_ENDDATE`: Number of days of credit remaining at time of client's application at Home Credit. We will call this the ending date, `bureau_credit_end_date`\n",
    "* `DAYS_ENDDATE_FACT`: For closed credits, the number of days before current application at Home Credit that credit at other financial institution ended. We will call this the closing date, `bureau_credit_close_date`. \n",
    "* `DAYS_CREDIT_UPDATE`: Number of days before current application at Home Credit that the most recent information about the previous credit arrived. We will call this the update date, `bureau_credit_update_date`. \n",
    "\n",
    "If we were doing manual feature engineering, we might want to create new columns such as by subtracting `DAYS_CREDIT_ENDDATE` from `DAYS_CREDIT` to get the planned length of the loan in days, or subtracting `DAYS_CREDIT_ENDDATE` from `DAYS_ENDDATE_FACT` to find the number of days the client paid off the loan early. However, in this notebook we will not make any features by hand, but rather let featuretools develop any potentially useful features for us.\n",
    "\n",
    "To make date columns, we simply add the offset to the start date. "
   ]
  },
  {
   "cell_type": "code",
   "execution_count": 9,
   "metadata": {},
   "outputs": [],
   "source": [
    "# Create the date columns\n",
    "bureau['bureau_credit_application_date'] = start_date + bureau['DAYS_CREDIT']\n",
    "bureau['bureau_credit_end_date'] = start_date + bureau['DAYS_CREDIT_ENDDATE']\n",
    "bureau['bureau_credit_close_date'] = start_date + bureau['DAYS_ENDDATE_FACT']\n",
    "bureau['bureau_credit_update_date'] = start_date + bureau['DAYS_CREDIT_UPDATE']"
   ]
  },
  {
   "cell_type": "markdown",
   "metadata": {},
   "source": [
    "### Plot for a sanity check\n",
    "\n",
    "To make sure the conversion went as planned, let's make two plots: the first will be the difference beween `bureau_credit_applicate_date` and `bureau_credit_end_date`. This represents the planned length of the loan in days."
   ]
  },
  {
   "cell_type": "code",
   "execution_count": 10,
   "metadata": {},
   "outputs": [],
   "source": [
    "import matplotlib.pyplot as plt\n",
    "import seaborn as sns\n",
    "# Set up default plot styles\n",
    "plt.rcParams['font.size'] = 26\n",
    "plt.style.use('fivethirtyeight')"
   ]
  },
  {
   "cell_type": "code",
   "execution_count": 11,
   "metadata": {},
   "outputs": [
    {
     "name": "stderr",
     "output_type": "stream",
     "text": [
      "D:\\miniconda3\\lib\\site-packages\\matplotlib\\axes\\_axes.py:6462: UserWarning: The 'normed' kwarg is deprecated, and has been replaced by the 'density' kwarg.\n",
      "  warnings.warn(\"The 'normed' kwarg is deprecated, and has been \"\n"
     ]
    },
    {
     "data": {
      "image/png": "[encoded data removed]",
      "text/plain": [
       "<Figure size 720x576 with 1 Axes>"
      ]
     },
     "metadata": {},
     "output_type": "display_data"
    }
   ],
   "source": [
    "plt.figure(figsize = (10, 8))\n",
    "sns.distplot((bureau['bureau_credit_end_date'] - bureau['bureau_credit_application_date']).dropna().dt.days);\n",
    "plt.xlabel('Length of Loan (Days)', size = 24); plt.ylabel('Density', size = 24); plt.title('Loan Length', size = 30);"
   ]
  },
  {
   "cell_type": "markdown",
   "metadata": {},
   "source": [
    "It looks as if there are a number of loans that are unreasonably long. Reading through the discussions, other data scientists had noticed this as well. At this point, we will just leave in the outliers. "
   ]
  },
  {
   "cell_type": "markdown",
   "metadata": {},
   "source": [
    "Again we see a number of suspicious loans that were paid off tens of thousands of days early. We will leave this, but might want to revisit later. "
   ]
  },
  {
   "cell_type": "code",
   "execution_count": 13,
   "metadata": {},
   "outputs": [],
   "source": [
    "# Drop the time offset columns\n",
    "bureau = bureau.drop(columns = ['DAYS_CREDIT', 'DAYS_CREDIT_ENDDATE', 'DAYS_ENDDATE_FACT', 'DAYS_CREDIT_UPDATE'])"
   ]
  },
  {
   "cell_type": "markdown",
   "metadata": {},
   "source": [
    "#### Bureau Balance\n",
    "\n",
    "The bureau balance dataframe has a `MONTHS_BALANCE` column that we can use as a months offset. "
   ]
  },
  {
   "cell_type": "code",
   "execution_count": 14,
   "metadata": {},
   "outputs": [
    {
     "data": {
      "text/html": [
       "<div>\n",
       "<style scoped>\n",
       "    .dataframe tbody tr th:only-of-type {\n",
       "        vertical-align: middle;\n",
       "    }\n",
       "\n",
       "    .dataframe tbody tr th {\n",
       "        vertical-align: top;\n",
       "    }\n",
       "\n",
       "    .dataframe thead th {\n",
       "        text-align: right;\n",
       "    }\n",
       "</style>\n",
       "<table border=\"1\" class=\"dataframe\">\n",
       "  <thead>\n",
       "    <tr style=\"text-align: right;\">\n",
       "      <th></th>\n",
       "      <th>SK_ID_BUREAU</th>\n",
       "      <th>MONTHS_BALANCE</th>\n",
       "      <th>STATUS</th>\n",
       "      <th>bureau_balance_date</th>\n",
       "    </tr>\n",
       "  </thead>\n",
       "  <tbody>\n",
       "    <tr>\n",
       "      <th>0</th>\n",
       "      <td>5001709</td>\n",
       "      <td>-214 days +22:36:18</td>\n",
       "      <td>C</td>\n",
       "      <td>2015-06-01 22:36:18</td>\n",
       "    </tr>\n",
       "    <tr>\n",
       "      <th>1</th>\n",
       "      <td>5001709</td>\n",
       "      <td>-92 days +16:32:42</td>\n",
       "      <td>C</td>\n",
       "      <td>2015-10-01 16:32:42</td>\n",
       "    </tr>\n",
       "    <tr>\n",
       "      <th>2</th>\n",
       "      <td>5001709</td>\n",
       "      <td>-122 days +06:03:36</td>\n",
       "      <td>C</td>\n",
       "      <td>2015-09-01 06:03:36</td>\n",
       "    </tr>\n",
       "    <tr>\n",
       "      <th>3</th>\n",
       "      <td>5001709</td>\n",
       "      <td>-153 days +19:34:30</td>\n",
       "      <td>C</td>\n",
       "      <td>2015-08-01 19:34:30</td>\n",
       "    </tr>\n",
       "    <tr>\n",
       "      <th>4</th>\n",
       "      <td>5001709</td>\n",
       "      <td>-183 days +09:05:24</td>\n",
       "      <td>C</td>\n",
       "      <td>2015-07-02 09:05:24</td>\n",
       "    </tr>\n",
       "  </tbody>\n",
       "</table>\n",
       "</div>"
      ],
      "text/plain": [
       "   SK_ID_BUREAU      MONTHS_BALANCE STATUS bureau_balance_date\n",
       "0       5001709 -214 days +22:36:18      C 2015-06-01 22:36:18\n",
       "1       5001709  -92 days +16:32:42      C 2015-10-01 16:32:42\n",
       "2       5001709 -122 days +06:03:36      C 2015-09-01 06:03:36\n",
       "3       5001709 -153 days +19:34:30      C 2015-08-01 19:34:30\n",
       "4       5001709 -183 days +09:05:24      C 2015-07-02 09:05:24"
      ]
     },
     "execution_count": 14,
     "metadata": {},
     "output_type": "execute_result"
    }
   ],
   "source": [
    "# Convert to timedelta\n",
    "bureau_balance['MONTHS_BALANCE'] = pd.to_timedelta(bureau_balance['MONTHS_BALANCE'], 'M')\n",
    "\n",
    "# Make a date column\n",
    "bureau_balance['bureau_balance_date'] = start_date + bureau_balance['MONTHS_BALANCE']\n",
    "bureau_balance.head()"
   ]
  },
  {
   "cell_type": "code",
   "execution_count": 15,
   "metadata": {},
   "outputs": [
    {
     "data": {
      "image/png": "[encoded data removed]",
      "text/plain": [
       "<Figure size 432x288 with 1 Axes>"
      ]
     },
     "metadata": {},
     "output_type": "display_data"
    }
   ],
   "source": [
    "# Select one loan and plot\n",
    "example_credit = bureau_balance[bureau_balance['SK_ID_BUREAU'] == 5001709]\n",
    "plt.plot(example_credit['bureau_balance_date'], example_credit['STATUS'], 'ro');\n",
    "plt.title('Loan 5001709 over Time'); plt.xlabel('Date'); plt.ylabel('Status');"
   ]
  },
  {
   "cell_type": "code",
   "execution_count": 17,
   "metadata": {},
   "outputs": [],
   "source": [
    "bureau_balance = bureau_balance.drop(columns = ['MONTHS_BALANCE'])"
   ]
  },
  {
   "cell_type": "markdown",
   "metadata": {},
   "source": [
    "### Previous Applications\n",
    "\n",
    "The `previous` dataframe holds previous applications at Home Credit. There are a number of time offset columns in this dataset:\n",
    "\n",
    "* `DAYS_DECISION`: number of days before current application at Home Credit that decision was made about previous application\n",
    "* `DAYS_FIRST_DRAWING`: number of days before current application at Home Credit that first disbursement was made\n",
    "* `DAYS_FIRST_DUE`: number of days before current application at Home Credit that first due was suppoed to be\n",
    "* `DAYS_LAST_DUE_1ST_VERSION`: number of days before current application at Home Credit that first was??\n",
    "* `DAYS_LAST_DUE`: number of days before current application at Home Credit of last due date of previous application\n",
    "* `DAYS_TERMINATION`: number of days before current application at Home Credit of expected termination\n",
    "\n",
    "Let's convert all these into timedeltas in a loop and then make time columns."
   ]
  },
  {
   "cell_type": "code",
   "execution_count": 18,
   "metadata": {},
   "outputs": [],
   "source": [
    "# Convert to timedeltas in days\n",
    "for col in ['DAYS_DECISION', 'DAYS_FIRST_DRAWING', 'DAYS_FIRST_DUE', 'DAYS_LAST_DUE_1ST_VERSION', 'DAYS_LAST_DUE', 'DAYS_TERMINATION']:\n",
    "    try:\n",
    "        previous[col] = previous[col].replace({365243: pd.NaT})\n",
    "        previous[col] = pd.to_timedelta(previous[col], 'D')\n",
    "    except Exception as e:\n",
    "        print(col, e)"
   ]
  },
  {
   "cell_type": "code",
   "execution_count": 19,
   "metadata": {},
   "outputs": [],
   "source": [
    "# Make date columns\n",
    "previous['previous_decision_date'] = start_date + previous['DAYS_DECISION']\n",
    "previous['previous_drawing_date'] = start_date + previous['DAYS_FIRST_DRAWING']\n",
    "previous['previous_first_due_date'] = start_date + previous['DAYS_FIRST_DUE']\n",
    "previous['previous_last_duefirst_date'] = start_date + previous['DAYS_LAST_DUE_1ST_VERSION']\n",
    "previous['previous_last_due_date'] = start_date + previous['DAYS_LAST_DUE']\n",
    "previous['previous_termination_date'] = start_date + previous['DAYS_TERMINATION']\n",
    "\n",
    "# Drop the time offset columns\n",
    "previous = previous.drop(columns = ['DAYS_DECISION', 'DAYS_FIRST_DRAWING', 'DAYS_FIRST_DUE', 'DAYS_LAST_DUE_1ST_VERSION', 'DAYS_LAST_DUE', 'DAYS_TERMINATION'])\n",
    "\n",
    "# Plot one client as an example\n",
    "plt.figure(figsize = (8, 6))\n",
    "example_client = previous[previous['SK_ID_CURR'] == 100008]\n",
    "plt.plot(example_client['previous_decision_date'], example_client['AMT_CREDIT'], 'ro')\n",
    "plt.title('Client 100003 Previous Loan Amounts'); plt.xlabel('Date'); plt.ylabel('Credit Amount');"
   ]
  },
  {
   "cell_type": "code",
   "execution_count": 22,
   "metadata": {},
   "outputs": [
    {
     "data": {
      "image/png": "[encoded data removed]",
      "text/plain": [
       "<Figure size 576x432 with 1 Axes>"
      ]
     },
     "metadata": {},
     "output_type": "display_data"
    }
   ],
   "source": [
    "plt.figure(figsize = (8, 6))\n",
    "example_client = previous[previous['SK_ID_CURR'] == 100007]\n",
    "plt.plot(example_client['previous_decision_date'], example_client['AMT_CREDIT'], 'ro')\n",
    "plt.title('Client 100007 Previous Loan Amounts'); plt.xlabel('Date'); plt.ylabel('Credit Amount');"
   ]
  },
  {
   "cell_type": "markdown",
   "metadata": {},
   "source": [
    "#### Previous Credit and Cash\n",
    "\n",
    "The `credit_card_balance` and `POS_CASH_balance` each have a `MONTHS_BALANCE` column with the month offset. This is the number of months before the current application at Home Credit of the previous application record. These will be converted to timedeltas and then dates can be added."
   ]
  },
  {
   "cell_type": "code",
   "execution_count": 23,
   "metadata": {},
   "outputs": [],
   "source": [
    "# Convert to timedelta objects\n",
    "credit['MONTHS_BALANCE'] = pd.to_timedelta(credit['MONTHS_BALANCE'], 'M')\n",
    "cash['MONTHS_BALANCE'] = pd.to_timedelta(cash['MONTHS_BALANCE'], 'M')\n",
    "\n",
    "# Make a date column\n",
    "credit['credit_balance_date'] = start_date + credit['MONTHS_BALANCE']\n",
    "credit = credit.drop(columns = ['MONTHS_BALANCE'])\n",
    "\n",
    "# Make a date column\n",
    "cash['cash_balance_date'] = start_date + cash['MONTHS_BALANCE']\n",
    "cash = cash.drop(columns = ['MONTHS_BALANCE'])\n",
    "\n",
    "# Select on loan and plot\n",
    "example_credit = cash[cash['SK_ID_PREV'] == 1369693]\n",
    "\n",
    "plt.plot(example_credit['cash_balance_date'], example_credit['NAME_CONTRACT_STATUS'], 'ro');\n",
    "plt.title('Loan 1369693 over Time'); plt.xlabel('Date'); plt.ylabel('Contract Status');"
   ]
  },
  {
   "cell_type": "markdown",
   "metadata": {},
   "source": [
    "#### Installments Payments \n",
    "\n",
    "The `installments_payments` data contains information on each payment made on the previous loans at Home Credit. It has two date offset columns:\n",
    "\n",
    "* `DAYS_INSTALMENT`: number of days before current application at Home Credit that previous installment was supposed to be paid\n",
    "* `DAYS_ENTRY_PAYMENT`: number of days before current application at Home Credit that previous installment was actually paid\n",
    "\n",
    "By now the process should be familiar: convert to timedeltas and then make time columns. "
   ]
  },
  {
   "cell_type": "code",
   "execution_count": 25,
   "metadata": {},
   "outputs": [],
   "source": [
    "# Conver to time delta object\n",
    "installments['DAYS_INSTALMENT'] = pd.to_timedelta(installments['DAYS_INSTALMENT'], 'D')\n",
    "installments['DAYS_ENTRY_PAYMENT'] = pd.to_timedelta(installments['DAYS_ENTRY_PAYMENT'], 'D')\n",
    "\n",
    "# Create time column and drop\n",
    "installments['installments_due_date'] = start_date + installments['DAYS_INSTALMENT']\n",
    "installments = installments.drop(columns = ['DAYS_INSTALMENT'])\n",
    "\n",
    "installments['installments_paid_date'] = start_date + installments['DAYS_ENTRY_PAYMENT']\n",
    "installments = installments.drop(columns = ['DAYS_ENTRY_PAYMENT'])\n",
    "\n",
    "# Select one loan and plot\n",
    "example_credit = installments[installments['SK_ID_PREV'] == 1369693]\n",
    "plt.plot((example_credit['installments_due_date'] - example_credit['installments_paid_date']).dt.days, example_credit['AMT_INSTALMENT'], 'ro');\n",
    "plt.title('Loan 1369693'); plt.xlabel('Days Paid Early'); plt.ylabel('Installment Amount');"
   ]
  },
  {
   "cell_type": "markdown",
   "metadata": {},
   "source": [
    "# Applying Featuretools\n",
    "\n",
    "We can now start making features using the time columns. We will create an entityset named clients much as before, but now we have time variables that we can use. "
   ]
  },
  {
   "cell_type": "code",
   "execution_count": 27,
   "metadata": {},
   "outputs": [],
   "source": [
    "# Make an entityset\n",
    "es = ft.EntitySet(id = 'clients')"
   ]
  },
  {
   "cell_type": "markdown",
   "metadata": {},
   "source": [
    "### Entities\n",
    "\n",
    "When creating the entities, we specify the index, the time index (if present), and the variable types (if they need to be specified). "
   ]
  },
  {
   "cell_type": "code",
   "execution_count": 28,
   "metadata": {},
   "outputs": [],
   "source": [
    "# Entities with a unique index\n",
    "es = es.entity_from_dataframe(entity_id = 'app', dataframe = app, \n",
    "                              index = 'SK_ID_CURR', variable_types = app_types)\n",
    "\n",
    "es = es.entity_from_dataframe(entity_id = 'bureau', dataframe = bureau, \n",
    "                              index = 'SK_ID_BUREAU', time_index='bureau_credit_application_date')\n",
    "\n",
    "es = es.entity_from_dataframe(entity_id = 'previous', dataframe = previous, \n",
    "                              index = 'SK_ID_PREV', time_index = 'previous_decision_date',\n",
    "                              variable_types = previous_types)\n",
    "\n",
    "# Entities that do not have a unique index\n",
    "es = es.entity_from_dataframe(entity_id = 'bureau_balance', dataframe = bureau_balance, \n",
    "                              make_index = True, index = 'bb_index',\n",
    "                              time_index = 'bureau_balance_date')\n",
    "\n",
    "es = es.entity_from_dataframe(entity_id = 'cash', dataframe = cash, \n",
    "                              make_index = True, index = 'cash_index',\n",
    "                              time_index = 'cash_balance_date')\n",
    "\n",
    "es = es.entity_from_dataframe(entity_id = 'installments', dataframe = installments,\n",
    "                              make_index = True, index = 'installments_index',\n",
    "                              time_index = 'installments_paid_date')\n",
    "\n",
    "es = es.entity_from_dataframe(entity_id = 'credit', dataframe = credit,\n",
    "                              make_index = True, index = 'credit_index',\n",
    "                              time_index = 'credit_balance_date')"
   ]
  },
  {
   "cell_type": "markdown",
   "metadata": {},
   "source": [
    "### Relationships\n",
    "\n",
    "Not surprisingly, the relationships between tables has not changed since the previous implementation. "
   ]
  },
  {
   "cell_type": "code",
   "execution_count": 29,
   "metadata": {},
   "outputs": [],
   "source": [
    "# Relationship between app and bureau\n",
    "r_app_bureau = ft.Relationship(es['app']['SK_ID_CURR'], es['bureau']['SK_ID_CURR'])\n",
    "\n",
    "# Relationship between bureau and bureau balance\n",
    "r_bureau_balance = ft.Relationship(es['bureau']['SK_ID_BUREAU'], es['bureau_balance']['SK_ID_BUREAU'])\n",
    "\n",
    "# Relationship between current app and previous apps\n",
    "r_app_previous = ft.Relationship(es['app']['SK_ID_CURR'], es['previous']['SK_ID_CURR'])\n",
    "\n",
    "# Relationships between previous apps and cash, installments, and credit\n",
    "r_previous_cash = ft.Relationship(es['previous']['SK_ID_PREV'], es['cash']['SK_ID_PREV'])\n",
    "r_previous_installments = ft.Relationship(es['previous']['SK_ID_PREV'], es['installments']['SK_ID_PREV'])\n",
    "r_previous_credit = ft.Relationship(es['previous']['SK_ID_PREV'], es['credit']['SK_ID_PREV'])\n",
    "\n",
    "# Add in the defined relationships\n",
    "es = es.add_relationships([r_app_bureau, r_bureau_balance, r_app_previous,\n",
    "                           r_previous_cash, r_previous_installments, r_previous_credit])\n",
    "# Print out the EntitySet\n",
    "es"
   ]
  },
  {
   "cell_type": "markdown",
   "metadata": {},
   "source": [
    "## Time Features\n",
    "\n",
    "Let's look at some of the time features we can make from the new time variables. Because there times are relative, we are only interested in values that show change over time, such as trend or cumulative max."
   ]
  },
  {
   "cell_type": "code",
   "execution_count": 31,
   "metadata": {},
   "outputs": [
    {
     "name": "stdout",
     "output_type": "stream",
     "text": [
      "Built 220 features\n",
      "Elapsed: 00:28 | Remaining: 00:00 | Progress: 100%|██████████████████████| Calculated: 11/11 chunks\n"
     ]
    }
   ],
   "source": [
    "time_features, time_feature_names = ft.dfs(entityset = es, target_entity = 'app', \n",
    "                            trans_primitives = ['cum_sum'], max_depth = 2,\n",
    "                            agg_primitives = ['trend'] ,\n",
    "                            features_only = False, verbose = True)"
   ]
  },
  {
   "cell_type": "code",
   "execution_count": 32,
   "metadata": {},
   "outputs": [
    {
     "data": {
      "text/html": [
       "<div>\n",
       "<style scoped>\n",
       "    .dataframe tbody tr th:only-of-type {\n",
       "        vertical-align: middle;\n",
       "    }\n",
       "\n",
       "    .dataframe tbody tr th {\n",
       "        vertical-align: top;\n",
       "    }\n",
       "\n",
       "    .dataframe thead th {\n",
       "        text-align: right;\n",
       "    }\n",
       "</style>\n",
       "<table border=\"1\" class=\"dataframe\">\n",
       "  <thead>\n",
       "    <tr style=\"text-align: right;\">\n",
       "      <th></th>\n",
       "      <th>TREND(previous.CUM_SUM(RATE_INTEREST_PRIMARY by SK_ID_CURR), previous_decision_date)</th>\n",
       "      <th>TREND(previous.TREND(credit.AMT_DRAWINGS_CURRENT, credit_balance_date), previous_decision_date)</th>\n",
       "      <th>TREND(bureau.CUM_SUM(AMT_CREDIT_SUM_DEBT by SK_ID_CURR), bureau_credit_application_date)</th>\n",
       "      <th>TREND(bureau.CUM_SUM(CNT_CREDIT_PROLONG by SK_ID_CURR), bureau_credit_application_date)</th>\n",
       "      <th>TREND(bureau.CUM_SUM(CREDIT_DAY_OVERDUE by SK_ID_CURR), bureau_credit_application_date)</th>\n",
       "      <th>TREND(bureau.CUM_SUM(AMT_CREDIT_SUM by SK_ID_CURR), bureau_credit_application_date)</th>\n",
       "      <th>TREND(bureau.CUM_SUM(AMT_ANNUITY by SK_ID_CURR), bureau_credit_application_date)</th>\n",
       "      <th>TREND(bureau.CUM_SUM(AMT_CREDIT_MAX_OVERDUE by SK_ID_CURR), bureau_credit_application_date)</th>\n",
       "      <th>TREND(bureau.CUM_SUM(AMT_CREDIT_SUM_OVERDUE by SK_ID_CURR), bureau_credit_application_date)</th>\n",
       "      <th>TREND(bureau.CUM_SUM(AMT_CREDIT_SUM_LIMIT by SK_ID_CURR), bureau_credit_application_date)</th>\n",
       "    </tr>\n",
       "    <tr>\n",
       "      <th>SK_ID_CURR</th>\n",
       "      <th></th>\n",
       "      <th></th>\n",
       "      <th></th>\n",
       "      <th></th>\n",
       "      <th></th>\n",
       "      <th></th>\n",
       "      <th></th>\n",
       "      <th></th>\n",
       "      <th></th>\n",
       "      <th></th>\n",
       "    </tr>\n",
       "  </thead>\n",
       "  <tbody>\n",
       "    <tr>\n",
       "      <th>100001</th>\n",
       "      <td>NaN</td>\n",
       "      <td>NaN</td>\n",
       "      <td>362.416607</td>\n",
       "      <td>0.0</td>\n",
       "      <td>0.0</td>\n",
       "      <td>925.223442</td>\n",
       "      <td>16.419025</td>\n",
       "      <td>NaN</td>\n",
       "      <td>0.0</td>\n",
       "      <td>0.000000</td>\n",
       "    </tr>\n",
       "    <tr>\n",
       "      <th>100002</th>\n",
       "      <td>NaN</td>\n",
       "      <td>NaN</td>\n",
       "      <td>161.245120</td>\n",
       "      <td>0.0</td>\n",
       "      <td>0.0</td>\n",
       "      <td>657.718776</td>\n",
       "      <td>0.000000</td>\n",
       "      <td>6.565831</td>\n",
       "      <td>0.0</td>\n",
       "      <td>23.113250</td>\n",
       "    </tr>\n",
       "    <tr>\n",
       "      <th>100003</th>\n",
       "      <td>NaN</td>\n",
       "      <td>NaN</td>\n",
       "      <td>0.000000</td>\n",
       "      <td>0.0</td>\n",
       "      <td>0.0</td>\n",
       "      <td>354.477112</td>\n",
       "      <td>NaN</td>\n",
       "      <td>0.000000</td>\n",
       "      <td>0.0</td>\n",
       "      <td>259.225363</td>\n",
       "    </tr>\n",
       "    <tr>\n",
       "      <th>100004</th>\n",
       "      <td>NaN</td>\n",
       "      <td>NaN</td>\n",
       "      <td>NaN</td>\n",
       "      <td>NaN</td>\n",
       "      <td>NaN</td>\n",
       "      <td>NaN</td>\n",
       "      <td>NaN</td>\n",
       "      <td>NaN</td>\n",
       "      <td>NaN</td>\n",
       "      <td>NaN</td>\n",
       "    </tr>\n",
       "    <tr>\n",
       "      <th>100005</th>\n",
       "      <td>NaN</td>\n",
       "      <td>NaN</td>\n",
       "      <td>1941.526227</td>\n",
       "      <td>0.0</td>\n",
       "      <td>0.0</td>\n",
       "      <td>2041.523367</td>\n",
       "      <td>10.408240</td>\n",
       "      <td>NaN</td>\n",
       "      <td>0.0</td>\n",
       "      <td>0.000000</td>\n",
       "    </tr>\n",
       "  </tbody>\n",
       "</table>\n",
       "</div>"
      ],
      "text/plain": [
       "            TREND(previous.CUM_SUM(RATE_INTEREST_PRIMARY by SK_ID_CURR), previous_decision_date)  \\\n",
       "SK_ID_CURR                                                                                         \n",
       "100001                                                    NaN                                      \n",
       "100002                                                    NaN                                      \n",
       "100003                                                    NaN                                      \n",
       "100004                                                    NaN                                      \n",
       "100005                                                    NaN                                      \n",
       "\n",
       "            TREND(previous.TREND(credit.AMT_DRAWINGS_CURRENT, credit_balance_date), previous_decision_date)  \\\n",
       "SK_ID_CURR                                                                                                    \n",
       "100001                                                    NaN                                                 \n",
       "100002                                                    NaN                                                 \n",
       "100003                                                    NaN                                                 \n",
       "100004                                                    NaN                                                 \n",
       "100005                                                    NaN                                                 \n",
       "\n",
       "            TREND(bureau.CUM_SUM(AMT_CREDIT_SUM_DEBT by SK_ID_CURR), bureau_credit_application_date)  \\\n",
       "SK_ID_CURR                                                                                             \n",
       "100001                                             362.416607                                          \n",
       "100002                                             161.245120                                          \n",
       "100003                                               0.000000                                          \n",
       "100004                                                    NaN                                          \n",
       "100005                                            1941.526227                                          \n",
       "\n",
       "            TREND(bureau.CUM_SUM(CNT_CREDIT_PROLONG by SK_ID_CURR), bureau_credit_application_date)  \\\n",
       "SK_ID_CURR                                                                                            \n",
       "100001                                                    0.0                                         \n",
       "100002                                                    0.0                                         \n",
       "100003                                                    0.0                                         \n",
       "100004                                                    NaN                                         \n",
       "100005                                                    0.0                                         \n",
       "\n",
       "            TREND(bureau.CUM_SUM(CREDIT_DAY_OVERDUE by SK_ID_CURR), bureau_credit_application_date)  \\\n",
       "SK_ID_CURR                                                                                            \n",
       "100001                                                    0.0                                         \n",
       "100002                                                    0.0                                         \n",
       "100003                                                    0.0                                         \n",
       "100004                                                    NaN                                         \n",
       "100005                                                    0.0                                         \n",
       "\n",
       "            TREND(bureau.CUM_SUM(AMT_CREDIT_SUM by SK_ID_CURR), bureau_credit_application_date)  \\\n",
       "SK_ID_CURR                                                                                        \n",
       "100001                                             925.223442                                     \n",
       "100002                                             657.718776                                     \n",
       "100003                                             354.477112                                     \n",
       "100004                                                    NaN                                     \n",
       "100005                                            2041.523367                                     \n",
       "\n",
       "            TREND(bureau.CUM_SUM(AMT_ANNUITY by SK_ID_CURR), bureau_credit_application_date)  \\\n",
       "SK_ID_CURR                                                                                     \n",
       "100001                                              16.419025                                  \n",
       "100002                                               0.000000                                  \n",
       "100003                                                    NaN                                  \n",
       "100004                                                    NaN                                  \n",
       "100005                                              10.408240                                  \n",
       "\n",
       "            TREND(bureau.CUM_SUM(AMT_CREDIT_MAX_OVERDUE by SK_ID_CURR), bureau_credit_application_date)  \\\n",
       "SK_ID_CURR                                                                                                \n",
       "100001                                                    NaN                                             \n",
       "100002                                               6.565831                                             \n",
       "100003                                               0.000000                                             \n",
       "100004                                                    NaN                                             \n",
       "100005                                                    NaN                                             \n",
       "\n",
       "            TREND(bureau.CUM_SUM(AMT_CREDIT_SUM_OVERDUE by SK_ID_CURR), bureau_credit_application_date)  \\\n",
       "SK_ID_CURR                                                                                                \n",
       "100001                                                    0.0                                             \n",
       "100002                                                    0.0                                             \n",
       "100003                                                    0.0                                             \n",
       "100004                                                    NaN                                             \n",
       "100005                                                    0.0                                             \n",
       "\n",
       "            TREND(bureau.CUM_SUM(AMT_CREDIT_SUM_LIMIT by SK_ID_CURR), bureau_credit_application_date)  \n",
       "SK_ID_CURR                                                                                             \n",
       "100001                                               0.000000                                          \n",
       "100002                                              23.113250                                          \n",
       "100003                                             259.225363                                          \n",
       "100004                                                    NaN                                          \n",
       "100005                                               0.000000                                          "
      ]
     },
     "execution_count": 32,
     "metadata": {},
     "output_type": "execute_result"
    }
   ],
   "source": [
    "time_features.iloc[:, -10:].head()"
   ]
  },
  {
   "cell_type": "markdown",
   "metadata": {},
   "source": [
    "Let's visualize one of these new variables. We can look at the trend in credit size over time. A positive value indicates that the loan size for the client is increasing over time. "
   ]
  },
  {
   "cell_type": "code",
   "execution_count": 33,
   "metadata": {},
   "outputs": [
    {
     "data": {
      "image/png": "[encoded data removed]",
      "text/plain": [
       "<Figure size 432x288 with 1 Axes>"
      ]
     },
     "metadata": {},
     "output_type": "display_data"
    }
   ],
   "source": [
    "plt.hist(time_features['TREND(bureau.AMT_CREDIT_SUM, bureau_credit_application_date)'].dropna());\n",
    "plt.xlabel('TREND(bureau.AMT_CREDIT_SUM, bureau_credit_application_date)'); plt.ylabel('Counts');"
   ]
  },
  {
   "cell_type": "code",
   "execution_count": 34,
   "metadata": {},
   "outputs": [
    {
     "data": {
      "text/plain": [
       "[<Feature: TREND(previous.CUM_SUM(RATE_INTEREST_PRIMARY by SK_ID_CURR), previous_decision_date)>,\n",
       " <Feature: TREND(previous.TREND(credit.AMT_DRAWINGS_CURRENT, credit_balance_date), previous_decision_date)>,\n",
       " <Feature: TREND(bureau.CUM_SUM(AMT_CREDIT_SUM_DEBT by SK_ID_CURR), bureau_credit_application_date)>,\n",
       " <Feature: TREND(bureau.CUM_SUM(CNT_CREDIT_PROLONG by SK_ID_CURR), bureau_credit_application_date)>,\n",
       " <Feature: TREND(bureau.CUM_SUM(CREDIT_DAY_OVERDUE by SK_ID_CURR), bureau_credit_application_date)>,\n",
       " <Feature: TREND(bureau.CUM_SUM(AMT_CREDIT_SUM by SK_ID_CURR), bureau_credit_application_date)>,\n",
       " <Feature: TREND(bureau.CUM_SUM(AMT_ANNUITY by SK_ID_CURR), bureau_credit_application_date)>,\n",
       " <Feature: TREND(bureau.CUM_SUM(AMT_CREDIT_MAX_OVERDUE by SK_ID_CURR), bureau_credit_application_date)>,\n",
       " <Feature: TREND(bureau.CUM_SUM(AMT_CREDIT_SUM_OVERDUE by SK_ID_CURR), bureau_credit_application_date)>,\n",
       " <Feature: TREND(bureau.CUM_SUM(AMT_CREDIT_SUM_LIMIT by SK_ID_CURR), bureau_credit_application_date)>]"
      ]
     },
     "execution_count": 34,
     "metadata": {},
     "output_type": "execute_result"
    }
   ],
   "source": [
    "time_feature_names[-10:]"
   ]
  },
  {
   "cell_type": "markdown",
   "metadata": {},
   "source": [
    "# Interesting Values\n",
    "\n",
    "Another aspect of featuretools we can use is \"interesting values.\" These calculate new features conditioned on values of existing features. For example, we can create new features that are conditioned on the value of `NAME_CONTRACT_STATUS` in the previous dataframe. This represents the condition of a previous loan application. "
   ]
  },
  {
   "cell_type": "code",
   "execution_count": 35,
   "metadata": {},
   "outputs": [
    {
     "data": {
      "text/plain": [
       "Approved        594\n",
       "Refused         206\n",
       "Canceled        186\n",
       "Unused offer     15\n",
       "Name: NAME_CONTRACT_STATUS, dtype: int64"
      ]
     },
     "execution_count": 35,
     "metadata": {},
     "output_type": "execute_result"
    }
   ],
   "source": [
    "previous['NAME_CONTRACT_STATUS'].value_counts()"
   ]
  },
  {
   "cell_type": "code",
   "execution_count": 36,
   "metadata": {},
   "outputs": [
    {
     "name": "stdout",
     "output_type": "stream",
     "text": [
      "Built 174 features\n",
      "Elapsed: 00:02 | Remaining: 00:00 | Progress: 100%|██████████████████████| Calculated: 11/11 chunks\n"
     ]
    }
   ],
   "source": [
    "# Assign interesting values\n",
    "es['previous']['NAME_CONTRACT_STATUS'].interesting_values = ['Approved', 'Refused', 'Canceled']\n",
    "\n",
    "# Calculate the features with intereseting values\n",
    "interesting_features, interesting_feature_names = ft.dfs(entityset=es, target_entity='app', max_depth = 1, \n",
    "                                                         agg_primitives=['mean'], \n",
    "                                                         where_primitives = ['mean'], \n",
    "                                                         trans_primitives=[], features_only = False, verbose = True)"
   ]
  },
  {
   "cell_type": "code",
   "execution_count": 37,
   "metadata": {},
   "outputs": [
    {
     "data": {
      "text/html": [
       "<div>\n",
       "<style scoped>\n",
       "    .dataframe tbody tr th:only-of-type {\n",
       "        vertical-align: middle;\n",
       "    }\n",
       "\n",
       "    .dataframe tbody tr th {\n",
       "        vertical-align: top;\n",
       "    }\n",
       "\n",
       "    .dataframe thead th {\n",
       "        text-align: right;\n",
       "    }\n",
       "</style>\n",
       "<table border=\"1\" class=\"dataframe\">\n",
       "  <thead>\n",
       "    <tr style=\"text-align: right;\">\n",
       "      <th></th>\n",
       "      <th>MEAN(previous.SELLERPLACE_AREA WHERE NAME_CONTRACT_STATUS = Approved)</th>\n",
       "      <th>MEAN(previous.SELLERPLACE_AREA WHERE NAME_CONTRACT_STATUS = Refused)</th>\n",
       "      <th>MEAN(previous.SELLERPLACE_AREA WHERE NAME_CONTRACT_STATUS = Canceled)</th>\n",
       "      <th>MEAN(previous.CNT_PAYMENT WHERE NAME_CONTRACT_STATUS = Approved)</th>\n",
       "      <th>MEAN(previous.CNT_PAYMENT WHERE NAME_CONTRACT_STATUS = Refused)</th>\n",
       "      <th>MEAN(previous.CNT_PAYMENT WHERE NAME_CONTRACT_STATUS = Canceled)</th>\n",
       "    </tr>\n",
       "    <tr>\n",
       "      <th>SK_ID_CURR</th>\n",
       "      <th></th>\n",
       "      <th></th>\n",
       "      <th></th>\n",
       "      <th></th>\n",
       "      <th></th>\n",
       "      <th></th>\n",
       "    </tr>\n",
       "  </thead>\n",
       "  <tbody>\n",
       "    <tr>\n",
       "      <th>100001</th>\n",
       "      <td>23.0</td>\n",
       "      <td>NaN</td>\n",
       "      <td>NaN</td>\n",
       "      <td>8.0</td>\n",
       "      <td>NaN</td>\n",
       "      <td>NaN</td>\n",
       "    </tr>\n",
       "    <tr>\n",
       "      <th>100002</th>\n",
       "      <td>500.0</td>\n",
       "      <td>NaN</td>\n",
       "      <td>NaN</td>\n",
       "      <td>24.0</td>\n",
       "      <td>NaN</td>\n",
       "      <td>NaN</td>\n",
       "    </tr>\n",
       "    <tr>\n",
       "      <th>100003</th>\n",
       "      <td>533.0</td>\n",
       "      <td>NaN</td>\n",
       "      <td>NaN</td>\n",
       "      <td>10.0</td>\n",
       "      <td>NaN</td>\n",
       "      <td>NaN</td>\n",
       "    </tr>\n",
       "    <tr>\n",
       "      <th>100004</th>\n",
       "      <td>30.0</td>\n",
       "      <td>NaN</td>\n",
       "      <td>NaN</td>\n",
       "      <td>4.0</td>\n",
       "      <td>NaN</td>\n",
       "      <td>NaN</td>\n",
       "    </tr>\n",
       "    <tr>\n",
       "      <th>100005</th>\n",
       "      <td>37.0</td>\n",
       "      <td>NaN</td>\n",
       "      <td>-1.0</td>\n",
       "      <td>12.0</td>\n",
       "      <td>NaN</td>\n",
       "      <td>NaN</td>\n",
       "    </tr>\n",
       "  </tbody>\n",
       "</table>\n",
       "</div>"
      ],
      "text/plain": [
       "            MEAN(previous.SELLERPLACE_AREA WHERE NAME_CONTRACT_STATUS = Approved)  \\\n",
       "SK_ID_CURR                                                                          \n",
       "100001                                                   23.0                       \n",
       "100002                                                  500.0                       \n",
       "100003                                                  533.0                       \n",
       "100004                                                   30.0                       \n",
       "100005                                                   37.0                       \n",
       "\n",
       "            MEAN(previous.SELLERPLACE_AREA WHERE NAME_CONTRACT_STATUS = Refused)  \\\n",
       "SK_ID_CURR                                                                         \n",
       "100001                                                    NaN                      \n",
       "100002                                                    NaN                      \n",
       "100003                                                    NaN                      \n",
       "100004                                                    NaN                      \n",
       "100005                                                    NaN                      \n",
       "\n",
       "            MEAN(previous.SELLERPLACE_AREA WHERE NAME_CONTRACT_STATUS = Canceled)  \\\n",
       "SK_ID_CURR                                                                          \n",
       "100001                                                    NaN                       \n",
       "100002                                                    NaN                       \n",
       "100003                                                    NaN                       \n",
       "100004                                                    NaN                       \n",
       "100005                                                   -1.0                       \n",
       "\n",
       "            MEAN(previous.CNT_PAYMENT WHERE NAME_CONTRACT_STATUS = Approved)  \\\n",
       "SK_ID_CURR                                                                     \n",
       "100001                                                    8.0                  \n",
       "100002                                                   24.0                  \n",
       "100003                                                   10.0                  \n",
       "100004                                                    4.0                  \n",
       "100005                                                   12.0                  \n",
       "\n",
       "            MEAN(previous.CNT_PAYMENT WHERE NAME_CONTRACT_STATUS = Refused)  \\\n",
       "SK_ID_CURR                                                                    \n",
       "100001                                                    NaN                 \n",
       "100002                                                    NaN                 \n",
       "100003                                                    NaN                 \n",
       "100004                                                    NaN                 \n",
       "100005                                                    NaN                 \n",
       "\n",
       "            MEAN(previous.CNT_PAYMENT WHERE NAME_CONTRACT_STATUS = Canceled)  \n",
       "SK_ID_CURR                                                                    \n",
       "100001                                                    NaN                 \n",
       "100002                                                    NaN                 \n",
       "100003                                                    NaN                 \n",
       "100004                                                    NaN                 \n",
       "100005                                                    NaN                 "
      ]
     },
     "execution_count": 37,
     "metadata": {},
     "output_type": "execute_result"
    }
   ],
   "source": [
    "interesting_features.iloc[:, -6:, ].head()"
   ]
  },
  {
   "cell_type": "markdown",
   "metadata": {},
   "source": [
    "One of the features is `MEAN(previous.CNT_PAYMENT WHERE NAME_CONTRACT_STATUS = Approved)`. This shows the average number of payments on previous loans where the previous loan was approved. We can compare the distribution of this feature to the `MEAN(previous.CNT_PAYMENT WHERE NAME_CONTRACT_STATUS = Canceled)` to see how these loans differ."
   ]
  },
  {
   "cell_type": "code",
   "execution_count": 38,
   "metadata": {},
   "outputs": [
    {
     "data": {
      "image/png": "[encoded data removed]",
      "text/plain": [
       "<Figure size 720x576 with 1 Axes>"
      ]
     },
     "metadata": {},
     "output_type": "display_data"
    }
   ],
   "source": [
    "plt.figure(figsize = (10, 8))\n",
    "sns.kdeplot(interesting_features['MEAN(previous.CNT_PAYMENT WHERE NAME_CONTRACT_STATUS = Approved)'].dropna(), label = 'Approved')\n",
    "sns.kdeplot(interesting_features['MEAN(previous.CNT_PAYMENT WHERE NAME_CONTRACT_STATUS = Canceled)'].dropna(), label = 'Canceled')\n",
    "plt.xlabel('MEAN(previous.CNT_PAYMENT)'); plt.ylabel('Density'); plt.title('Average Number of Payments by Contract Status');"
   ]
  },
  {
   "cell_type": "markdown",
   "metadata": {},
   "source": [
    "# Seed Features\n",
    "\n",
    "An additional extension to the default aggregations and transformations is to use [seed features](https://docs.featuretools.com/automated_feature_engineering/dfs_usage_tips.html#specifying-list-of-aggregation-functions). These are user defined features that we provide to deep feature synthesis that can then be built on top of where possible. \n",
    "\n",
    "For example, we could create a feature that determines if a loan payment was late. "
   ]
  },
  {
   "cell_type": "code",
   "execution_count": 39,
   "metadata": {},
   "outputs": [
    {
     "data": {
      "text/plain": [
       "Entity: installments\n",
       "  Variables:\n",
       "    SK_ID_PREV (dtype: id)\n",
       "    SK_ID_CURR (dtype: numeric)\n",
       "    NUM_INSTALMENT_VERSION (dtype: numeric)\n",
       "    NUM_INSTALMENT_NUMBER (dtype: numeric)\n",
       "    AMT_INSTALMENT (dtype: numeric)\n",
       "    AMT_PAYMENT (dtype: numeric)\n",
       "    installments_due_date (dtype: datetime)\n",
       "    installments_paid_date (dtype: datetime_time_index)\n",
       "    installments_index (dtype: index)\n",
       "  Shape:\n",
       "    (Rows: 1001, Columns: 9)"
      ]
     },
     "execution_count": 39,
     "metadata": {},
     "output_type": "execute_result"
    }
   ],
   "source": [
    "es['installments']"
   ]
  },
  {
   "cell_type": "code",
   "execution_count": 40,
   "metadata": {},
   "outputs": [
    {
     "name": "stdout",
     "output_type": "stream",
     "text": [
      "Built 205 features\n",
      "Elapsed: 00:03 | Remaining: 00:00 | Progress: 100%|██████████████████████| Calculated: 11/11 chunks\n"
     ]
    }
   ],
   "source": [
    "# Late Payment seed feature\n",
    "late_payment = ft.Feature(es['installments']['installments_due_date']) < ft.Feature(es['installments']['installments_paid_date'])\n",
    "\n",
    "# Rename the feature\n",
    "late_payment = late_payment.rename(\"late_payment\")\n",
    "\n",
    "# DFS with seed features\n",
    "seed_features, seed_feature_names = ft.dfs(entityset = es,\n",
    "                                           target_entity = 'app',\n",
    "                                           agg_primitives = ['percent_true', 'mean'],\n",
    "                                           trans_primitives = [], \n",
    "                                           seed_features = [late_payment],\n",
    "                                           features_only = False, verbose = True)"
   ]
  },
  {
   "cell_type": "code",
   "execution_count": 41,
   "metadata": {},
   "outputs": [
    {
     "data": {
      "text/html": [
       "<div>\n",
       "<style scoped>\n",
       "    .dataframe tbody tr th:only-of-type {\n",
       "        vertical-align: middle;\n",
       "    }\n",
       "\n",
       "    .dataframe tbody tr th {\n",
       "        vertical-align: top;\n",
       "    }\n",
       "\n",
       "    .dataframe thead th {\n",
       "        text-align: right;\n",
       "    }\n",
       "</style>\n",
       "<table border=\"1\" class=\"dataframe\">\n",
       "  <thead>\n",
       "    <tr style=\"text-align: right;\">\n",
       "      <th></th>\n",
       "      <th>PERCENT_TRUE(installments.late_payment)</th>\n",
       "      <th>MEAN(previous.PERCENT_TRUE(installments.late_payment))</th>\n",
       "    </tr>\n",
       "    <tr>\n",
       "      <th>SK_ID_CURR</th>\n",
       "      <th></th>\n",
       "      <th></th>\n",
       "    </tr>\n",
       "  </thead>\n",
       "  <tbody>\n",
       "    <tr>\n",
       "      <th>100001</th>\n",
       "      <td>0.000000</td>\n",
       "      <td>0.000000</td>\n",
       "    </tr>\n",
       "    <tr>\n",
       "      <th>100002</th>\n",
       "      <td>0.000000</td>\n",
       "      <td>0.000000</td>\n",
       "    </tr>\n",
       "    <tr>\n",
       "      <th>100003</th>\n",
       "      <td>0.000000</td>\n",
       "      <td>0.000000</td>\n",
       "    </tr>\n",
       "    <tr>\n",
       "      <th>100004</th>\n",
       "      <td>0.000000</td>\n",
       "      <td>0.000000</td>\n",
       "    </tr>\n",
       "    <tr>\n",
       "      <th>100005</th>\n",
       "      <td>0.111111</td>\n",
       "      <td>0.111111</td>\n",
       "    </tr>\n",
       "  </tbody>\n",
       "</table>\n",
       "</div>"
      ],
      "text/plain": [
       "            PERCENT_TRUE(installments.late_payment)  \\\n",
       "SK_ID_CURR                                            \n",
       "100001                                     0.000000   \n",
       "100002                                     0.000000   \n",
       "100003                                     0.000000   \n",
       "100004                                     0.000000   \n",
       "100005                                     0.111111   \n",
       "\n",
       "            MEAN(previous.PERCENT_TRUE(installments.late_payment))  \n",
       "SK_ID_CURR                                                          \n",
       "100001                                               0.000000       \n",
       "100002                                               0.000000       \n",
       "100003                                               0.000000       \n",
       "100004                                               0.000000       \n",
       "100005                                               0.111111       "
      ]
     },
     "execution_count": 41,
     "metadata": {},
     "output_type": "execute_result"
    }
   ],
   "source": [
    "seed_features.iloc[:, -2:].head(10)"
   ]
  },
  {
   "cell_type": "code",
   "execution_count": 42,
   "metadata": {},
   "outputs": [
    {
     "name": "stderr",
     "output_type": "stream",
     "text": [
      "No handles with labels found to put in legend.\n"
     ]
    },
    {
     "data": {
      "image/png": "[encoded data removed]",
      "text/plain": [
       "<Figure size 432x288 with 1 Axes>"
      ]
     },
     "metadata": {},
     "output_type": "display_data"
    }
   ],
   "source": [
    "sns.kdeplot(seed_features['PERCENT_TRUE(installments.late_payment)'].dropna(), label = '')\n",
    "plt.xlabel('Late Installments'); plt.ylabel('Density'); plt.title('Late Installment Fraction by Client');"
   ]
  },
  {
   "cell_type": "markdown",
   "metadata": {},
   "source": [
    "Another seed feature we can use is whether or not a previous loan at another institution was past due. "
   ]
  },
  {
   "cell_type": "code",
   "execution_count": 43,
   "metadata": {},
   "outputs": [
    {
     "name": "stdout",
     "output_type": "stream",
     "text": [
      "Built 205 features\n",
      "Elapsed: 00:03 | Remaining: 00:00 | Progress: 100%|██████████████████████| Calculated: 11/11 chunks\n"
     ]
    }
   ],
   "source": [
    "# Create a feed representing whether the loan is past due\n",
    "past_due = ft.Feature(es['bureau_balance']['STATUS']) == 'X'\n",
    "past_due = past_due.rename(\"past_due\")\n",
    "\n",
    "# DFS with specified seed feature\n",
    "seed_features, seed_feature_names = ft.dfs(entityset = es,\n",
    "                                           target_entity = 'app',\n",
    "                                           agg_primitives = ['percent_true', 'mean'],\n",
    "                                           trans_primitives = [], \n",
    "                                           seed_features = [past_due],\n",
    "                                           features_only = False, verbose = True)"
   ]
  },
  {
   "cell_type": "markdown",
   "metadata": {},
   "source": [
    "# Create Custom Feature Primitives\n",
    "\n",
    "Finally, if we are not satisfied with the existing primitives in featuretools, we can write our own. This is an extremely powerful method that lets us expand the capabilities of featuretools. "
   ]
  },
  {
   "cell_type": "markdown",
   "metadata": {},
   "source": [
    "As an example, we will make a feature that finds the fraction of all observations of the most common observation in a categorical feature. For instance, if a client has had 5 total status observations and 4 of those were 'C', then the Mode will be 'C' and the normalized mode count will be 0.8. "
   ]
  },
  {
   "cell_type": "code",
   "execution_count": 44,
   "metadata": {},
   "outputs": [],
   "source": [
    "from featuretools.variable_types import (\n",
    "    Boolean,\n",
    "    DatetimeTimeIndex,\n",
    "    Discrete,\n",
    "    Index,\n",
    "    Numeric,\n",
    "    Variable\n",
    ")\n",
    "\n",
    "from featuretools.primitives import AggregationPrimitive, make_agg_primitive\n",
    "from collections import Counter\n",
    "\n",
    "# Building on the Mode Aggregation Primitive\n",
    "class NormalizedModeCount(AggregationPrimitive):\n",
    "    \"\"\"Finds the fraction of total observations of the most common observation in a categorical variable.\"\"\"\n",
    "    name = \"normalizedmodecount\"\n",
    "    input_types = [Discrete]\n",
    "    return_type = Numeric\n",
    "\n",
    "    def get_function(self):\n",
    "        def pd_normalizedmodecount(x):\n",
    "            if x.mode().shape[0] == 0:\n",
    "                return np.nan\n",
    "            \n",
    "            # Count occurence of each value\n",
    "            counts = dict(Counter(x.values))\n",
    "            # Find the mode\n",
    "            mode = x.mode().iloc[0]\n",
    "            # Divide the occurences of mode by the total occurrences\n",
    "            return counts[mode] / np.sum(list(counts.values()))\n",
    "        return pd_normalizedmodecount"
   ]
  },
  {
   "cell_type": "code",
   "execution_count": 45,
   "metadata": {},
   "outputs": [
    {
     "name": "stdout",
     "output_type": "stream",
     "text": [
      "Built 172 features\n",
      "Elapsed: 00:04 | Remaining: 00:00 | Progress: 100%|██████████████████████| Calculated: 11/11 chunks\n"
     ]
    }
   ],
   "source": [
    "custom_feature, custom_feature_names = ft.dfs(entityset = es,\n",
    "                                              target_entity = 'app',\n",
    "                                              agg_primitives = ['mode', NormalizedModeCount],\n",
    "                                              trans_primitives = [],\n",
    "                                              features_only = False, verbose = True)"
   ]
  },
  {
   "cell_type": "code",
   "execution_count": 47,
   "metadata": {},
   "outputs": [
    {
     "data": {
      "text/html": [
       "<div>\n",
       "<style scoped>\n",
       "    .dataframe tbody tr th:only-of-type {\n",
       "        vertical-align: middle;\n",
       "    }\n",
       "\n",
       "    .dataframe tbody tr th {\n",
       "        vertical-align: top;\n",
       "    }\n",
       "\n",
       "    .dataframe thead th {\n",
       "        text-align: right;\n",
       "    }\n",
       "</style>\n",
       "<table border=\"1\" class=\"dataframe\">\n",
       "  <thead>\n",
       "    <tr style=\"text-align: right;\">\n",
       "      <th></th>\n",
       "      <th>MODE(previous.NAME_CONTRACT_STATUS)</th>\n",
       "      <th>NORMALIZEDMODECOUNT(previous.NAME_CONTRACT_STATUS)</th>\n",
       "    </tr>\n",
       "    <tr>\n",
       "      <th>SK_ID_CURR</th>\n",
       "      <th></th>\n",
       "      <th></th>\n",
       "    </tr>\n",
       "  </thead>\n",
       "  <tbody>\n",
       "    <tr>\n",
       "      <th>100001</th>\n",
       "      <td>Approved</td>\n",
       "      <td>1.000000</td>\n",
       "    </tr>\n",
       "    <tr>\n",
       "      <th>100002</th>\n",
       "      <td>Approved</td>\n",
       "      <td>1.000000</td>\n",
       "    </tr>\n",
       "    <tr>\n",
       "      <th>100003</th>\n",
       "      <td>Approved</td>\n",
       "      <td>1.000000</td>\n",
       "    </tr>\n",
       "    <tr>\n",
       "      <th>100004</th>\n",
       "      <td>Approved</td>\n",
       "      <td>1.000000</td>\n",
       "    </tr>\n",
       "    <tr>\n",
       "      <th>100005</th>\n",
       "      <td>Approved</td>\n",
       "      <td>0.500000</td>\n",
       "    </tr>\n",
       "    <tr>\n",
       "      <th>100006</th>\n",
       "      <td>Approved</td>\n",
       "      <td>0.555556</td>\n",
       "    </tr>\n",
       "    <tr>\n",
       "      <th>100007</th>\n",
       "      <td>Approved</td>\n",
       "      <td>1.000000</td>\n",
       "    </tr>\n",
       "    <tr>\n",
       "      <th>100008</th>\n",
       "      <td>Approved</td>\n",
       "      <td>0.800000</td>\n",
       "    </tr>\n",
       "    <tr>\n",
       "      <th>100009</th>\n",
       "      <td>Approved</td>\n",
       "      <td>1.000000</td>\n",
       "    </tr>\n",
       "    <tr>\n",
       "      <th>100010</th>\n",
       "      <td>Approved</td>\n",
       "      <td>1.000000</td>\n",
       "    </tr>\n",
       "  </tbody>\n",
       "</table>\n",
       "</div>"
      ],
      "text/plain": [
       "           MODE(previous.NAME_CONTRACT_STATUS)  \\\n",
       "SK_ID_CURR                                       \n",
       "100001                                Approved   \n",
       "100002                                Approved   \n",
       "100003                                Approved   \n",
       "100004                                Approved   \n",
       "100005                                Approved   \n",
       "100006                                Approved   \n",
       "100007                                Approved   \n",
       "100008                                Approved   \n",
       "100009                                Approved   \n",
       "100010                                Approved   \n",
       "\n",
       "            NORMALIZEDMODECOUNT(previous.NAME_CONTRACT_STATUS)  \n",
       "SK_ID_CURR                                                      \n",
       "100001                                               1.000000   \n",
       "100002                                               1.000000   \n",
       "100003                                               1.000000   \n",
       "100004                                               1.000000   \n",
       "100005                                               0.500000   \n",
       "100006                                               0.555556   \n",
       "100007                                               1.000000   \n",
       "100008                                               0.800000   \n",
       "100009                                               1.000000   \n",
       "100010                                               1.000000   "
      ]
     },
     "execution_count": 47,
     "metadata": {},
     "output_type": "execute_result"
    }
   ],
   "source": [
    "custom_feature.loc[:, ['MODE(previous.NAME_CONTRACT_STATUS)', 'NORMALIZEDMODECOUNT(previous.NAME_CONTRACT_STATUS)']].dropna().head(10)"
   ]
  },
  {
   "cell_type": "markdown",
   "metadata": {},
   "source": [
    "# Putting it all Together\n",
    "\n",
    "Finally, we can run deep feature synthesis with the time variables, with the correct specified categorical variables, with the interesting features, with the seed features, and with the custom feature. To actually run this on the entire dataset, we can take the code here, put it in a script, and then use more computational resources. "
   ]
  },
  {
   "cell_type": "code",
   "execution_count": 48,
   "metadata": {},
   "outputs": [
    {
     "name": "stdout",
     "output_type": "stream",
     "text": [
      "Built 4487 features\n",
      "Elapsed: 07:34 | Remaining: 00:00 | Progress: 100%|██████████████████████| Calculated: 11/11 chunks\n"
     ]
    }
   ],
   "source": [
    "# Run and create the features\n",
    "feature_matrix, feature_names = ft.dfs(entityset = es, target_entity = 'app',\n",
    "                                       agg_primitives = ['mean', 'max', 'min', 'trend', 'last', 'mode', 'count', 'sum', 'percent_true', NormalizedModeCount],\n",
    "                                       trans_primitives = ['diff', 'cum_sum', 'cum_mean', 'percentile'], \n",
    "                                       where_primitives = ['mean', 'sum'],\n",
    "                                       seed_features = [late_payment, past_due],\n",
    "                                       max_depth = 2, features_only = False, verbose = True)"
   ]
  },
  {
   "cell_type": "code",
   "execution_count": 49,
   "metadata": {},
   "outputs": [
    {
     "data": {
      "text/plain": [
       "[<Feature: MAX(previous.DIFF(RATE_DOWN_PAYMENT by SK_ID_CURR))>,\n",
       " <Feature: MEAN(previous.MIN(credit.CNT_DRAWINGS_OTHER_CURRENT) WHERE NAME_CONTRACT_STATUS = Refused)>,\n",
       " <Feature: MODE(previous.NAME_PAYMENT_TYPE)>,\n",
       " <Feature: SUM(previous.MEAN(cash.CNT_INSTALMENT) WHERE NAME_CONTRACT_STATUS = Canceled)>,\n",
       " <Feature: MAX(previous.SUM(credit.AMT_CREDIT_LIMIT_ACTUAL))>,\n",
       " <Feature: SUM(previous.AMT_DOWN_PAYMENT WHERE NAME_CONTRACT_STATUS = Refused)>,\n",
       " <Feature: SUM(previous.LAST(credit.AMT_PAYMENT_TOTAL_CURRENT) WHERE NAME_CONTRACT_STATUS = Canceled)>,\n",
       " <Feature: MEAN(previous.DIFF(RATE_DOWN_PAYMENT by SK_ID_CURR) WHERE NAME_CONTRACT_STATUS = Canceled)>,\n",
       " <Feature: YEARS_BUILD_MODE>,\n",
       " <Feature: PERCENTILE(BASEMENTAREA_MEDI)>]"
      ]
     },
     "execution_count": 49,
     "metadata": {},
     "output_type": "execute_result"
    }
   ],
   "source": [
    "import random\n",
    "random.sample(feature_names, 10)"
   ]
  },
  {
   "cell_type": "markdown",
   "metadata": {},
   "source": [
    "# Conclusions \n",
    "\n",
    "In this notebook we look at some of the more advanced functionality in featuretools. We can use these methods to encode domain knowledge and try to extract as much useful information from the given data as possible. The next step is to implement this code in a script on a high-powered computer. Then we can use the features for modeling, determine which are the most important, perform feature selection, and maybe perform feature synthesis with a new set of of primitives, seed features, and interesting features. As with many aspects of machine learning, feature creation is largely an empirical and iterative procedure. "
   ]
  }
 ],
 "metadata": {
  "kernelspec": {
   "display_name": "Python 3",
   "language": "python",
   "name": "python3"
  },
  "language_info": {
   "codemirror_mode": {
    "name": "ipython",
    "version": 3
   },
   "file_extension": ".py",
   "mimetype": "text/x-python",
   "name": "python",
   "nbconvert_exporter": "python",
   "pygments_lexer": "ipython3",
   "version": "3.6.5"
  }
 },
 "nbformat": 4,
 "nbformat_minor": 2
}
