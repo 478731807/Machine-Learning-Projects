{
 "cells": [
  {
   "cell_type": "markdown",
   "metadata": {},
   "source": [
    "# Introduction: Advanced Automated Feature Engineering\n",
    "\n",
    "In this notebook we will expand upon the \"baseline\" automated feature engineering done in the automated feature engineering notebook. We will explore a few different options for improving the set of features, most notably, creating time variables from the relative time information in the data. We can also explore creating seed features and \"interesting variables\". Reading through the discussion around this competition and working through some other's notebooks, intricate feature engineering is a must. Using the default feature transforms did improve our score, but to do better we will need some more advanced methods. \n",
    "\n",
    "In this notebook we will explore using the relative time measures to create new features. We already looked at using featuretools to generate almost a thousand new features, but did not use any time variables. Although there are not explicit time features, we can use the relative times, convert to a datetime, and then use these times to make new features. This might allow our model to captue time dependencies that exist in the data."
   ]
  },
  {
   "cell_type": "code",
   "execution_count": 1,
   "metadata": {},
   "outputs": [],
   "source": [
    "import pandas as pd\n",
    "import numpy as np\n",
    "\n",
    "import featuretools as ft\n",
    "\n",
    "import warnings \n",
    "\n",
    "warnings.filterwarnings('ignore')"
   ]
  },
  {
   "cell_type": "markdown",
   "metadata": {},
   "source": [
    "### Read in Data and Create Smaller Datasets\n",
    "\n",
    "We will limit the data to 1000 rows because automated feature engineering is computationally intensive work. Later we can refactor this code into functions and put it in a script to run on a more powerful machine. "
   ]
  },
  {
   "cell_type": "code",
   "execution_count": 2,
   "metadata": {},
   "outputs": [],
   "source": [
    "# Read in the datasets and limit to the first 1000 rows (sorted by SK_ID_CURR) \n",
    "# This allows us to actually see the results in a reasonable amount of time! \n",
    "app_train = pd.read_csv('../input/application_train.csv').sort_values('SK_ID_CURR').reset_index().loc[:500, :].drop(columns = ['index'])\n",
    "app_test = pd.read_csv('../input/application_test.csv').sort_values('SK_ID_CURR').reset_index().loc[:500, :].drop(columns = ['index'])\n",
    "bureau = pd.read_csv('../input/bureau.csv').sort_values(['SK_ID_CURR', 'SK_ID_BUREAU']).reset_index().loc[:1000, :].drop(columns = ['index'])\n",
    "bureau_balance = pd.read_csv('../input/bureau_balance.csv').sort_values('SK_ID_BUREAU').reset_index().loc[:1000, :].drop(columns = ['index'])\n",
    "cash = pd.read_csv('../input/POS_CASH_balance.csv').sort_values(['SK_ID_CURR', 'SK_ID_PREV']).reset_index().loc[:1000, :].drop(columns = ['index'])\n",
    "credit = pd.read_csv('../input/credit_card_balance.csv').sort_values(['SK_ID_CURR', 'SK_ID_PREV']).reset_index().loc[:1000, :].drop(columns = ['index'])\n",
    "previous = pd.read_csv('../input/previous_application.csv').sort_values(['SK_ID_CURR', 'SK_ID_PREV']).reset_index().loc[:1000, :].drop(columns = ['index'])\n",
    "installments = pd.read_csv('../input/installments_payments.csv').sort_values(['SK_ID_CURR', 'SK_ID_PREV']).reset_index().loc[:1000, :].drop(columns = ['index'])"
   ]
  },
  {
   "cell_type": "code",
   "execution_count": 3,
   "metadata": {},
   "outputs": [],
   "source": [
    "# Join the appliation dataframes together\n",
    "app_test['set'] = 'test'\n",
    "app_test['TARGET'] = -999\n",
    "app_train['set'] = 'train'\n",
    "\n",
    "# Append the dataframes (this is a row bind in R)\n",
    "app = app_train.append(app_test, ignore_index = True)"
   ]
  },
  {
   "cell_type": "markdown",
   "metadata": {},
   "source": [
    "# Time Variable\n",
    "\n",
    "We do not have any datetimes, but we can create our own using the provided day and month offsets. For example, in `bureau_balance`, the `MONTHS_BALANCE` column represents the \"Month of balance relative to application date\". Although we do not know the actual application date, if we assume a starting application date, then we can convert the `MONTHS_BALANCE` into a feature representing an actual time. While we do not know the absolute time, we can use the relative time to track progression of the loan. \n",
    "\n",
    "First we want to establish a starting date. All time measurements are relative to the application at Home Credit. We do not know when these applications are and they are all at different times. However, if we are only interested in relative changes, then we can choose any arbitrary starting date. "
   ]
  },
  {
   "cell_type": "code",
   "execution_count": 4,
   "metadata": {},
   "outputs": [
    {
     "data": {
      "text/plain": [
       "Timestamp('2016-01-01 00:00:00')"
      ]
     },
     "execution_count": 4,
     "metadata": {},
     "output_type": "execute_result"
    }
   ],
   "source": [
    "# Establish a starting date for all applications at Home Credit\n",
    "start_date = pd.Timestamp(\"2016-01-01\")\n",
    "start_date"
   ]
  },
  {
   "cell_type": "code",
   "execution_count": 5,
   "metadata": {},
   "outputs": [
    {
     "data": {
      "text/html": [
       "<div>\n",
       "<style scoped>\n",
       "    .dataframe tbody tr th:only-of-type {\n",
       "        vertical-align: middle;\n",
       "    }\n",
       "\n",
       "    .dataframe tbody tr th {\n",
       "        vertical-align: top;\n",
       "    }\n",
       "\n",
       "    .dataframe thead th {\n",
       "        text-align: right;\n",
       "    }\n",
       "</style>\n",
       "<table border=\"1\" class=\"dataframe\">\n",
       "  <thead>\n",
       "    <tr style=\"text-align: right;\">\n",
       "      <th></th>\n",
       "      <th>SK_ID_CURR</th>\n",
       "      <th>SK_ID_BUREAU</th>\n",
       "      <th>CREDIT_ACTIVE</th>\n",
       "      <th>CREDIT_CURRENCY</th>\n",
       "      <th>DAYS_CREDIT</th>\n",
       "      <th>CREDIT_DAY_OVERDUE</th>\n",
       "      <th>DAYS_CREDIT_ENDDATE</th>\n",
       "      <th>DAYS_ENDDATE_FACT</th>\n",
       "      <th>AMT_CREDIT_MAX_OVERDUE</th>\n",
       "      <th>CNT_CREDIT_PROLONG</th>\n",
       "      <th>AMT_CREDIT_SUM</th>\n",
       "      <th>AMT_CREDIT_SUM_DEBT</th>\n",
       "      <th>AMT_CREDIT_SUM_LIMIT</th>\n",
       "      <th>AMT_CREDIT_SUM_OVERDUE</th>\n",
       "      <th>CREDIT_TYPE</th>\n",
       "      <th>DAYS_CREDIT_UPDATE</th>\n",
       "      <th>AMT_ANNUITY</th>\n",
       "    </tr>\n",
       "  </thead>\n",
       "  <tbody>\n",
       "    <tr>\n",
       "      <th>0</th>\n",
       "      <td>100001</td>\n",
       "      <td>5896630</td>\n",
       "      <td>Closed</td>\n",
       "      <td>currency 1</td>\n",
       "      <td>-857</td>\n",
       "      <td>0</td>\n",
       "      <td>-492.0</td>\n",
       "      <td>-553.0</td>\n",
       "      <td>NaN</td>\n",
       "      <td>0</td>\n",
       "      <td>112500.0</td>\n",
       "      <td>0.0</td>\n",
       "      <td>0.0</td>\n",
       "      <td>0.0</td>\n",
       "      <td>Consumer credit</td>\n",
       "      <td>-155</td>\n",
       "      <td>0.0</td>\n",
       "    </tr>\n",
       "    <tr>\n",
       "      <th>1</th>\n",
       "      <td>100001</td>\n",
       "      <td>5896631</td>\n",
       "      <td>Closed</td>\n",
       "      <td>currency 1</td>\n",
       "      <td>-909</td>\n",
       "      <td>0</td>\n",
       "      <td>-179.0</td>\n",
       "      <td>-877.0</td>\n",
       "      <td>NaN</td>\n",
       "      <td>0</td>\n",
       "      <td>279720.0</td>\n",
       "      <td>0.0</td>\n",
       "      <td>0.0</td>\n",
       "      <td>0.0</td>\n",
       "      <td>Consumer credit</td>\n",
       "      <td>-155</td>\n",
       "      <td>0.0</td>\n",
       "    </tr>\n",
       "    <tr>\n",
       "      <th>2</th>\n",
       "      <td>100001</td>\n",
       "      <td>5896632</td>\n",
       "      <td>Closed</td>\n",
       "      <td>currency 1</td>\n",
       "      <td>-879</td>\n",
       "      <td>0</td>\n",
       "      <td>-514.0</td>\n",
       "      <td>-544.0</td>\n",
       "      <td>NaN</td>\n",
       "      <td>0</td>\n",
       "      <td>91620.0</td>\n",
       "      <td>0.0</td>\n",
       "      <td>0.0</td>\n",
       "      <td>0.0</td>\n",
       "      <td>Consumer credit</td>\n",
       "      <td>-155</td>\n",
       "      <td>0.0</td>\n",
       "    </tr>\n",
       "    <tr>\n",
       "      <th>3</th>\n",
       "      <td>100001</td>\n",
       "      <td>5896633</td>\n",
       "      <td>Closed</td>\n",
       "      <td>currency 1</td>\n",
       "      <td>-1572</td>\n",
       "      <td>0</td>\n",
       "      <td>-1329.0</td>\n",
       "      <td>-1328.0</td>\n",
       "      <td>NaN</td>\n",
       "      <td>0</td>\n",
       "      <td>85500.0</td>\n",
       "      <td>0.0</td>\n",
       "      <td>0.0</td>\n",
       "      <td>0.0</td>\n",
       "      <td>Consumer credit</td>\n",
       "      <td>-155</td>\n",
       "      <td>0.0</td>\n",
       "    </tr>\n",
       "    <tr>\n",
       "      <th>4</th>\n",
       "      <td>100001</td>\n",
       "      <td>5896634</td>\n",
       "      <td>Active</td>\n",
       "      <td>currency 1</td>\n",
       "      <td>-559</td>\n",
       "      <td>0</td>\n",
       "      <td>902.0</td>\n",
       "      <td>NaN</td>\n",
       "      <td>NaN</td>\n",
       "      <td>0</td>\n",
       "      <td>337680.0</td>\n",
       "      <td>113166.0</td>\n",
       "      <td>0.0</td>\n",
       "      <td>0.0</td>\n",
       "      <td>Consumer credit</td>\n",
       "      <td>-6</td>\n",
       "      <td>4630.5</td>\n",
       "    </tr>\n",
       "  </tbody>\n",
       "</table>\n",
       "</div>"
      ],
      "text/plain": [
       "   SK_ID_CURR  SK_ID_BUREAU CREDIT_ACTIVE CREDIT_CURRENCY  DAYS_CREDIT  \\\n",
       "0      100001       5896630        Closed      currency 1         -857   \n",
       "1      100001       5896631        Closed      currency 1         -909   \n",
       "2      100001       5896632        Closed      currency 1         -879   \n",
       "3      100001       5896633        Closed      currency 1        -1572   \n",
       "4      100001       5896634        Active      currency 1         -559   \n",
       "\n",
       "   CREDIT_DAY_OVERDUE  DAYS_CREDIT_ENDDATE  DAYS_ENDDATE_FACT  \\\n",
       "0                   0               -492.0             -553.0   \n",
       "1                   0               -179.0             -877.0   \n",
       "2                   0               -514.0             -544.0   \n",
       "3                   0              -1329.0            -1328.0   \n",
       "4                   0                902.0                NaN   \n",
       "\n",
       "   AMT_CREDIT_MAX_OVERDUE  CNT_CREDIT_PROLONG  AMT_CREDIT_SUM  \\\n",
       "0                     NaN                   0        112500.0   \n",
       "1                     NaN                   0        279720.0   \n",
       "2                     NaN                   0         91620.0   \n",
       "3                     NaN                   0         85500.0   \n",
       "4                     NaN                   0        337680.0   \n",
       "\n",
       "   AMT_CREDIT_SUM_DEBT  AMT_CREDIT_SUM_LIMIT  AMT_CREDIT_SUM_OVERDUE  \\\n",
       "0                  0.0                   0.0                     0.0   \n",
       "1                  0.0                   0.0                     0.0   \n",
       "2                  0.0                   0.0                     0.0   \n",
       "3                  0.0                   0.0                     0.0   \n",
       "4             113166.0                   0.0                     0.0   \n",
       "\n",
       "       CREDIT_TYPE  DAYS_CREDIT_UPDATE  AMT_ANNUITY  \n",
       "0  Consumer credit                -155          0.0  \n",
       "1  Consumer credit                -155          0.0  \n",
       "2  Consumer credit                -155          0.0  \n",
       "3  Consumer credit                -155          0.0  \n",
       "4  Consumer credit                  -6       4630.5  "
      ]
     },
     "execution_count": 5,
     "metadata": {},
     "output_type": "execute_result"
    }
   ],
   "source": [
    "bureau.head()"
   ]
  },
  {
   "cell_type": "markdown",
   "metadata": {},
   "source": [
    "#### Bureau Data\n",
    "\n",
    "First we will work with the `bureau` dataframe. This has 4 different columns representing date offsets:\n",
    "\n",
    "* `DAYS_CREDIT`: Number of days before current application at Home Credit client applied for loan at other financial institution. We will call this the application date, `bureau_credit_application_date`\n",
    "* `DAYS_CREDIT_ENDDATE`: Number of days of credit remaining at time of client's application at Home Credit. We will call this the ending date, `bureau_credit_end_date`\n",
    "* `DAYS_ENDDATE_FACT`: For closed credits, the number of days before current application at Home Credit that credit at other financial institution ended. We will call this the closing date, `bureau_credit_close_date`. \n",
    "* `DAYS_CREDIT_UPDATE`: Number of days before current application at Home Credit that the most recent information about the previous credit arrived. We will call this the update date, `bureau_credit_update_date`. \n",
    "\n",
    "If we were doing manual feature engineering, we might want to create new columns such as by subtracting `DAYS_CREDIT_ENDDATE` from `DAYS_CREDIT` to get the planned length of the loan in days, or subtracting `DAYS_CREDIT_ENDDATE` from `DAYS_ENDDATE_FACT` to find the number of days the client paid off the loan early. However, in this notebook we will not make any features by hand, but rather let featuretools develop any potentially useful features for us.\n",
    "\n",
    "To efficiently change dates in Pandas, we can convert the preceding columns to `Timedelta` objects. Then we just need to add these `Timedelta` objects to the preceding columns to create new columns the 'dates'. We need to specify that the time delta is in days."
   ]
  },
  {
   "cell_type": "code",
   "execution_count": 6,
   "metadata": {},
   "outputs": [
    {
     "data": {
      "text/html": [
       "<div>\n",
       "<style scoped>\n",
       "    .dataframe tbody tr th:only-of-type {\n",
       "        vertical-align: middle;\n",
       "    }\n",
       "\n",
       "    .dataframe tbody tr th {\n",
       "        vertical-align: top;\n",
       "    }\n",
       "\n",
       "    .dataframe thead th {\n",
       "        text-align: right;\n",
       "    }\n",
       "</style>\n",
       "<table border=\"1\" class=\"dataframe\">\n",
       "  <thead>\n",
       "    <tr style=\"text-align: right;\">\n",
       "      <th></th>\n",
       "      <th>DAYS_CREDIT</th>\n",
       "      <th>DAYS_CREDIT_ENDDATE</th>\n",
       "      <th>DAYS_ENDDATE_FACT</th>\n",
       "      <th>DAYS_CREDIT_UPDATE</th>\n",
       "    </tr>\n",
       "  </thead>\n",
       "  <tbody>\n",
       "    <tr>\n",
       "      <th>0</th>\n",
       "      <td>-857 days</td>\n",
       "      <td>-492 days</td>\n",
       "      <td>-553 days</td>\n",
       "      <td>-155 days</td>\n",
       "    </tr>\n",
       "    <tr>\n",
       "      <th>1</th>\n",
       "      <td>-909 days</td>\n",
       "      <td>-179 days</td>\n",
       "      <td>-877 days</td>\n",
       "      <td>-155 days</td>\n",
       "    </tr>\n",
       "    <tr>\n",
       "      <th>2</th>\n",
       "      <td>-879 days</td>\n",
       "      <td>-514 days</td>\n",
       "      <td>-544 days</td>\n",
       "      <td>-155 days</td>\n",
       "    </tr>\n",
       "    <tr>\n",
       "      <th>3</th>\n",
       "      <td>-1572 days</td>\n",
       "      <td>-1329 days</td>\n",
       "      <td>-1328 days</td>\n",
       "      <td>-155 days</td>\n",
       "    </tr>\n",
       "    <tr>\n",
       "      <th>4</th>\n",
       "      <td>-559 days</td>\n",
       "      <td>902 days</td>\n",
       "      <td>NaT</td>\n",
       "      <td>-6 days</td>\n",
       "    </tr>\n",
       "  </tbody>\n",
       "</table>\n",
       "</div>"
      ],
      "text/plain": [
       "  DAYS_CREDIT DAYS_CREDIT_ENDDATE DAYS_ENDDATE_FACT DAYS_CREDIT_UPDATE\n",
       "0   -857 days           -492 days         -553 days          -155 days\n",
       "1   -909 days           -179 days         -877 days          -155 days\n",
       "2   -879 days           -514 days         -544 days          -155 days\n",
       "3  -1572 days          -1329 days        -1328 days          -155 days\n",
       "4   -559 days            902 days               NaT            -6 days"
      ]
     },
     "execution_count": 6,
     "metadata": {},
     "output_type": "execute_result"
    }
   ],
   "source": [
    "# Convert to timedelta in days\n",
    "for col in ['DAYS_CREDIT', 'DAYS_CREDIT_ENDDATE', 'DAYS_ENDDATE_FACT', 'DAYS_CREDIT_UPDATE']:\n",
    "    bureau[col] = pd.to_timedelta(bureau[col], 'D')\n",
    "\n",
    "bureau[['DAYS_CREDIT', 'DAYS_CREDIT_ENDDATE', 'DAYS_ENDDATE_FACT', 'DAYS_CREDIT_UPDATE']].head()"
   ]
  },
  {
   "cell_type": "markdown",
   "metadata": {},
   "source": [
    "Then we just add the columns to create date columns."
   ]
  },
  {
   "cell_type": "code",
   "execution_count": 7,
   "metadata": {},
   "outputs": [],
   "source": [
    "# Create the date columns\n",
    "bureau['bureau_credit_application_date'] = start_date + bureau['DAYS_CREDIT']\n",
    "bureau['bureau_credit_end_date'] = start_date + bureau['DAYS_CREDIT_ENDDATE']\n",
    "bureau['bureau_credit_close_date'] = start_date + bureau['DAYS_ENDDATE_FACT']\n",
    "bureau['bureau_credit_update_date'] = start_date + bureau['DAYS_CREDIT_UPDATE']"
   ]
  },
  {
   "cell_type": "markdown",
   "metadata": {},
   "source": [
    "### Plot for a sanity check\n",
    "\n",
    "It can be easy to get lost in all the coding and lose track of the bigger picture. For that reason, let's make two plots: the first will be the difference beween `bureau_credit_applicate_date` and `bureau_credit_end_date`. This represents the planned length of the loan in days."
   ]
  },
  {
   "cell_type": "code",
   "execution_count": 8,
   "metadata": {},
   "outputs": [],
   "source": [
    "import matplotlib.pyplot as plt\n",
    "import seaborn as sns\n",
    "# Set up default plot styles\n",
    "plt.rcParams['font.size'] = 26\n",
    "plt.style.use('fivethirtyeight')"
   ]
  },
  {
   "cell_type": "code",
   "execution_count": 9,
   "metadata": {},
   "outputs": [
    {
     "name": "stderr",
     "output_type": "stream",
     "text": [
      "D:\\miniconda3\\lib\\site-packages\\matplotlib\\axes\\_axes.py:6462: UserWarning: The 'normed' kwarg is deprecated, and has been replaced by the 'density' kwarg.\n",
      "  warnings.warn(\"The 'normed' kwarg is deprecated, and has been \"\n"
     ]
    },
    {
     "data": {
      "image/png": "[encoded data removed]",
      "text/plain": [
       "<Figure size 720x576 with 1 Axes>"
      ]
     },
     "metadata": {},
     "output_type": "display_data"
    }
   ],
   "source": [
    "plt.figure(figsize = (10, 8))\n",
    "sns.distplot((bureau['bureau_credit_end_date'] - bureau['bureau_credit_application_date']).dropna().dt.days);\n",
    "plt.xlabel('Length of Loan (Days)', size = 24); plt.ylabel('Density', size = 24); plt.title('Loan Length', size = 30);"
   ]
  },
  {
   "cell_type": "markdown",
   "metadata": {},
   "source": [
    "It looks as if there are a number of loans that are unreasonably long. Let's single out those loans greater than 10000 days."
   ]
  },
  {
   "cell_type": "code",
   "execution_count": 10,
   "metadata": {},
   "outputs": [
    {
     "data": {
      "text/html": [
       "<div>\n",
       "<style scoped>\n",
       "    .dataframe tbody tr th:only-of-type {\n",
       "        vertical-align: middle;\n",
       "    }\n",
       "\n",
       "    .dataframe tbody tr th {\n",
       "        vertical-align: top;\n",
       "    }\n",
       "\n",
       "    .dataframe thead th {\n",
       "        text-align: right;\n",
       "    }\n",
       "</style>\n",
       "<table border=\"1\" class=\"dataframe\">\n",
       "  <thead>\n",
       "    <tr style=\"text-align: right;\">\n",
       "      <th></th>\n",
       "      <th>SK_ID_CURR</th>\n",
       "      <th>SK_ID_BUREAU</th>\n",
       "      <th>CREDIT_ACTIVE</th>\n",
       "      <th>CREDIT_CURRENCY</th>\n",
       "      <th>DAYS_CREDIT</th>\n",
       "      <th>CREDIT_DAY_OVERDUE</th>\n",
       "      <th>DAYS_CREDIT_ENDDATE</th>\n",
       "      <th>DAYS_ENDDATE_FACT</th>\n",
       "      <th>AMT_CREDIT_MAX_OVERDUE</th>\n",
       "      <th>CNT_CREDIT_PROLONG</th>\n",
       "      <th>...</th>\n",
       "      <th>AMT_CREDIT_SUM_DEBT</th>\n",
       "      <th>AMT_CREDIT_SUM_LIMIT</th>\n",
       "      <th>AMT_CREDIT_SUM_OVERDUE</th>\n",
       "      <th>CREDIT_TYPE</th>\n",
       "      <th>DAYS_CREDIT_UPDATE</th>\n",
       "      <th>AMT_ANNUITY</th>\n",
       "      <th>bureau_credit_application_date</th>\n",
       "      <th>bureau_credit_end_date</th>\n",
       "      <th>bureau_credit_close_date</th>\n",
       "      <th>bureau_credit_update_date</th>\n",
       "    </tr>\n",
       "  </thead>\n",
       "  <tbody>\n",
       "    <tr>\n",
       "      <th>81</th>\n",
       "      <td>100019</td>\n",
       "      <td>5832095</td>\n",
       "      <td>Active</td>\n",
       "      <td>currency 1</td>\n",
       "      <td>-495 days</td>\n",
       "      <td>0</td>\n",
       "      <td>10463 days</td>\n",
       "      <td>NaT</td>\n",
       "      <td>0.0</td>\n",
       "      <td>0</td>\n",
       "      <td>...</td>\n",
       "      <td>0.0</td>\n",
       "      <td>270000.0</td>\n",
       "      <td>0.0</td>\n",
       "      <td>Credit card</td>\n",
       "      <td>-46 days</td>\n",
       "      <td>27000.0</td>\n",
       "      <td>2014-08-24</td>\n",
       "      <td>2044-08-24</td>\n",
       "      <td>NaT</td>\n",
       "      <td>2015-11-16</td>\n",
       "    </tr>\n",
       "    <tr>\n",
       "      <th>113</th>\n",
       "      <td>100028</td>\n",
       "      <td>6356883</td>\n",
       "      <td>Active</td>\n",
       "      <td>currency 1</td>\n",
       "      <td>-1821 days</td>\n",
       "      <td>0</td>\n",
       "      <td>30885 days</td>\n",
       "      <td>NaT</td>\n",
       "      <td>NaN</td>\n",
       "      <td>0</td>\n",
       "      <td>...</td>\n",
       "      <td>7713.0</td>\n",
       "      <td>0.0</td>\n",
       "      <td>0.0</td>\n",
       "      <td>Credit card</td>\n",
       "      <td>-913 days</td>\n",
       "      <td>1624.5</td>\n",
       "      <td>2011-01-06</td>\n",
       "      <td>2100-07-24</td>\n",
       "      <td>NaT</td>\n",
       "      <td>2013-07-02</td>\n",
       "    </tr>\n",
       "    <tr>\n",
       "      <th>151</th>\n",
       "      <td>100035</td>\n",
       "      <td>5407257</td>\n",
       "      <td>Active</td>\n",
       "      <td>currency 1</td>\n",
       "      <td>-979 days</td>\n",
       "      <td>0</td>\n",
       "      <td>9980 days</td>\n",
       "      <td>NaT</td>\n",
       "      <td>2808.0</td>\n",
       "      <td>0</td>\n",
       "      <td>...</td>\n",
       "      <td>NaN</td>\n",
       "      <td>NaN</td>\n",
       "      <td>0.0</td>\n",
       "      <td>Credit card</td>\n",
       "      <td>-33 days</td>\n",
       "      <td>NaN</td>\n",
       "      <td>2013-04-27</td>\n",
       "      <td>2043-04-29</td>\n",
       "      <td>NaT</td>\n",
       "      <td>2015-11-29</td>\n",
       "    </tr>\n",
       "    <tr>\n",
       "      <th>195</th>\n",
       "      <td>100042</td>\n",
       "      <td>5574790</td>\n",
       "      <td>Active</td>\n",
       "      <td>currency 1</td>\n",
       "      <td>-2000 days</td>\n",
       "      <td>0</td>\n",
       "      <td>8957 days</td>\n",
       "      <td>NaT</td>\n",
       "      <td>999.0</td>\n",
       "      <td>0</td>\n",
       "      <td>...</td>\n",
       "      <td>NaN</td>\n",
       "      <td>NaN</td>\n",
       "      <td>0.0</td>\n",
       "      <td>Credit card</td>\n",
       "      <td>-10 days</td>\n",
       "      <td>40500.0</td>\n",
       "      <td>2010-07-11</td>\n",
       "      <td>2040-07-10</td>\n",
       "      <td>NaT</td>\n",
       "      <td>2015-12-22</td>\n",
       "    </tr>\n",
       "    <tr>\n",
       "      <th>261</th>\n",
       "      <td>100058</td>\n",
       "      <td>6552706</td>\n",
       "      <td>Active</td>\n",
       "      <td>currency 1</td>\n",
       "      <td>-223 days</td>\n",
       "      <td>0</td>\n",
       "      <td>31087 days</td>\n",
       "      <td>NaT</td>\n",
       "      <td>NaN</td>\n",
       "      <td>0</td>\n",
       "      <td>...</td>\n",
       "      <td>130819.5</td>\n",
       "      <td>NaN</td>\n",
       "      <td>0.0</td>\n",
       "      <td>Credit card</td>\n",
       "      <td>-18 days</td>\n",
       "      <td>NaN</td>\n",
       "      <td>2015-05-23</td>\n",
       "      <td>2101-02-11</td>\n",
       "      <td>NaT</td>\n",
       "      <td>2015-12-14</td>\n",
       "    </tr>\n",
       "  </tbody>\n",
       "</table>\n",
       "<p>5 rows × 21 columns</p>\n",
       "</div>"
      ],
      "text/plain": [
       "     SK_ID_CURR  SK_ID_BUREAU CREDIT_ACTIVE CREDIT_CURRENCY DAYS_CREDIT  \\\n",
       "81       100019       5832095        Active      currency 1   -495 days   \n",
       "113      100028       6356883        Active      currency 1  -1821 days   \n",
       "151      100035       5407257        Active      currency 1   -979 days   \n",
       "195      100042       5574790        Active      currency 1  -2000 days   \n",
       "261      100058       6552706        Active      currency 1   -223 days   \n",
       "\n",
       "     CREDIT_DAY_OVERDUE DAYS_CREDIT_ENDDATE DAYS_ENDDATE_FACT  \\\n",
       "81                    0          10463 days               NaT   \n",
       "113                   0          30885 days               NaT   \n",
       "151                   0           9980 days               NaT   \n",
       "195                   0           8957 days               NaT   \n",
       "261                   0          31087 days               NaT   \n",
       "\n",
       "     AMT_CREDIT_MAX_OVERDUE  CNT_CREDIT_PROLONG            ...             \\\n",
       "81                      0.0                   0            ...              \n",
       "113                     NaN                   0            ...              \n",
       "151                  2808.0                   0            ...              \n",
       "195                   999.0                   0            ...              \n",
       "261                     NaN                   0            ...              \n",
       "\n",
       "     AMT_CREDIT_SUM_DEBT  AMT_CREDIT_SUM_LIMIT  AMT_CREDIT_SUM_OVERDUE  \\\n",
       "81                   0.0              270000.0                     0.0   \n",
       "113               7713.0                   0.0                     0.0   \n",
       "151                  NaN                   NaN                     0.0   \n",
       "195                  NaN                   NaN                     0.0   \n",
       "261             130819.5                   NaN                     0.0   \n",
       "\n",
       "     CREDIT_TYPE DAYS_CREDIT_UPDATE AMT_ANNUITY  \\\n",
       "81   Credit card           -46 days     27000.0   \n",
       "113  Credit card          -913 days      1624.5   \n",
       "151  Credit card           -33 days         NaN   \n",
       "195  Credit card           -10 days     40500.0   \n",
       "261  Credit card           -18 days         NaN   \n",
       "\n",
       "     bureau_credit_application_date bureau_credit_end_date  \\\n",
       "81                       2014-08-24             2044-08-24   \n",
       "113                      2011-01-06             2100-07-24   \n",
       "151                      2013-04-27             2043-04-29   \n",
       "195                      2010-07-11             2040-07-10   \n",
       "261                      2015-05-23             2101-02-11   \n",
       "\n",
       "    bureau_credit_close_date bureau_credit_update_date  \n",
       "81                       NaT                2015-11-16  \n",
       "113                      NaT                2013-07-02  \n",
       "151                      NaT                2015-11-29  \n",
       "195                      NaT                2015-12-22  \n",
       "261                      NaT                2015-12-14  \n",
       "\n",
       "[5 rows x 21 columns]"
      ]
     },
     "execution_count": 10,
     "metadata": {},
     "output_type": "execute_result"
    }
   ],
   "source": [
    "bureau[(bureau['bureau_credit_end_date'] - bureau['bureau_credit_application_date']).dt.days > 10000].head()"
   ]
  },
  {
   "cell_type": "markdown",
   "metadata": {},
   "source": [
    "I'm not sure what's going on with these loans. For now, because we are concentrated on using featuretools, we will move on leaving all of the loans in the data. \n",
    "A second plot we can make is the number of days the client paid off the loan early. This is `bureau_credit_end_date` - `bureau_credit_close_date`. A positive number indicates the loan was paid off early while a negative number indicates the loan was paid off late. We will exclude any lengths over 1000 days. "
   ]
  },
  {
   "cell_type": "code",
   "execution_count": 11,
   "metadata": {},
   "outputs": [
    {
     "name": "stderr",
     "output_type": "stream",
     "text": [
      "D:\\miniconda3\\lib\\site-packages\\matplotlib\\axes\\_axes.py:6462: UserWarning: The 'normed' kwarg is deprecated, and has been replaced by the 'density' kwarg.\n",
      "  warnings.warn(\"The 'normed' kwarg is deprecated, and has been \"\n"
     ]
    },
    {
     "data": {
      "image/png": "[encoded data removed]",
      "text/plain": [
       "<Figure size 720x576 with 1 Axes>"
      ]
     },
     "metadata": {},
     "output_type": "display_data"
    }
   ],
   "source": [
    "plt.figure(figsize = (10, 8))\n",
    "sns.distplot((bureau['bureau_credit_end_date'] - bureau['bureau_credit_close_date']).dropna().dt.days);\n",
    "plt.xlabel('Days', size = 24); plt.ylabel('Density', size = 24); plt.title('Loans Paid Off Early', size = 30);"
   ]
  },
  {
   "cell_type": "markdown",
   "metadata": {},
   "source": [
    "Again we see a number of suspicious loans that were paid off tens of thousands of days early. We will leave this, but might want to revisit later. "
   ]
  },
  {
   "cell_type": "code",
   "execution_count": 12,
   "metadata": {},
   "outputs": [],
   "source": [
    "bureau = bureau.drop(columns = ['DAYS_CREDIT', 'DAYS_CREDIT_ENDDATE', 'DAYS_ENDDATE_FACT', 'DAYS_CREDIT_UPDATE'])"
   ]
  },
  {
   "cell_type": "markdown",
   "metadata": {},
   "source": [
    "#### Bureau Balance\n",
    "\n",
    "The bureau balance dataframe has a `MONTHS_BALANCE` column that we can use as a months offset. The procedure is exactlt the same: convert to a `Timedelta` column and then subtract from the start date. We will name the new time column `bureau_balance_date`. "
   ]
  },
  {
   "cell_type": "code",
   "execution_count": 13,
   "metadata": {},
   "outputs": [
    {
     "data": {
      "text/html": [
       "<div>\n",
       "<style scoped>\n",
       "    .dataframe tbody tr th:only-of-type {\n",
       "        vertical-align: middle;\n",
       "    }\n",
       "\n",
       "    .dataframe tbody tr th {\n",
       "        vertical-align: top;\n",
       "    }\n",
       "\n",
       "    .dataframe thead th {\n",
       "        text-align: right;\n",
       "    }\n",
       "</style>\n",
       "<table border=\"1\" class=\"dataframe\">\n",
       "  <thead>\n",
       "    <tr style=\"text-align: right;\">\n",
       "      <th></th>\n",
       "      <th>SK_ID_BUREAU</th>\n",
       "      <th>MONTHS_BALANCE</th>\n",
       "      <th>STATUS</th>\n",
       "      <th>bureau_balance_date</th>\n",
       "    </tr>\n",
       "  </thead>\n",
       "  <tbody>\n",
       "    <tr>\n",
       "      <th>0</th>\n",
       "      <td>5001709</td>\n",
       "      <td>-214 days +22:36:18</td>\n",
       "      <td>C</td>\n",
       "      <td>2015-06-01 22:36:18</td>\n",
       "    </tr>\n",
       "    <tr>\n",
       "      <th>1</th>\n",
       "      <td>5001709</td>\n",
       "      <td>-92 days +16:32:42</td>\n",
       "      <td>C</td>\n",
       "      <td>2015-10-01 16:32:42</td>\n",
       "    </tr>\n",
       "    <tr>\n",
       "      <th>2</th>\n",
       "      <td>5001709</td>\n",
       "      <td>-122 days +06:03:36</td>\n",
       "      <td>C</td>\n",
       "      <td>2015-09-01 06:03:36</td>\n",
       "    </tr>\n",
       "    <tr>\n",
       "      <th>3</th>\n",
       "      <td>5001709</td>\n",
       "      <td>-153 days +19:34:30</td>\n",
       "      <td>C</td>\n",
       "      <td>2015-08-01 19:34:30</td>\n",
       "    </tr>\n",
       "    <tr>\n",
       "      <th>4</th>\n",
       "      <td>5001709</td>\n",
       "      <td>-183 days +09:05:24</td>\n",
       "      <td>C</td>\n",
       "      <td>2015-07-02 09:05:24</td>\n",
       "    </tr>\n",
       "  </tbody>\n",
       "</table>\n",
       "</div>"
      ],
      "text/plain": [
       "   SK_ID_BUREAU      MONTHS_BALANCE STATUS bureau_balance_date\n",
       "0       5001709 -214 days +22:36:18      C 2015-06-01 22:36:18\n",
       "1       5001709  -92 days +16:32:42      C 2015-10-01 16:32:42\n",
       "2       5001709 -122 days +06:03:36      C 2015-09-01 06:03:36\n",
       "3       5001709 -153 days +19:34:30      C 2015-08-01 19:34:30\n",
       "4       5001709 -183 days +09:05:24      C 2015-07-02 09:05:24"
      ]
     },
     "execution_count": 13,
     "metadata": {},
     "output_type": "execute_result"
    }
   ],
   "source": [
    "# Convert to timedelta\n",
    "bureau_balance['MONTHS_BALANCE'] = pd.to_timedelta(bureau_balance['MONTHS_BALANCE'], 'M')\n",
    "\n",
    "# Make a date column\n",
    "bureau_balance['bureau_balance_date'] = start_date + bureau_balance['MONTHS_BALANCE']\n",
    "bureau_balance.head()"
   ]
  },
  {
   "cell_type": "code",
   "execution_count": 14,
   "metadata": {},
   "outputs": [
    {
     "data": {
      "image/png": "[encoded data removed]",
      "text/plain": [
       "<Figure size 432x288 with 1 Axes>"
      ]
     },
     "metadata": {},
     "output_type": "display_data"
    }
   ],
   "source": [
    "# Select on loan and plot\n",
    "example_credit = bureau_balance[bureau_balance['SK_ID_BUREAU'] == 5001709]\n",
    "\n",
    "plt.plot(example_credit['bureau_balance_date'], example_credit['STATUS'], 'ro');\n",
    "plt.title('Loan 5001709 over Time'); plt.xlabel('Date'); plt.ylabel('Status');"
   ]
  },
  {
   "cell_type": "code",
   "execution_count": 17,
   "metadata": {},
   "outputs": [
    {
     "data": {
      "image/png": "[encoded data removed]",
      "text/plain": [
       "<Figure size 432x288 with 1 Axes>"
      ]
     },
     "metadata": {},
     "output_type": "display_data"
    }
   ],
   "source": [
    "# Select one loan and plot\n",
    "example_credit = bureau_balance[bureau_balance['SK_ID_BUREAU'] == 5001712]\n",
    "\n",
    "plt.plot(example_credit['bureau_balance_date'], example_credit['STATUS'], 'ro');\n",
    "plt.title('Loan 5001712 over Time'); plt.xlabel('Date'); plt.ylabel('Status');"
   ]
  },
  {
   "cell_type": "code",
   "execution_count": 18,
   "metadata": {},
   "outputs": [],
   "source": [
    "bureau_balance = bureau_balance.drop(columns = ['MONTHS_BALANCE'])"
   ]
  },
  {
   "cell_type": "markdown",
   "metadata": {},
   "source": [
    "### Previous Applications\n",
    "\n",
    "The `previous` dataframe holds previous applications at Home Credit. There are a number of time offset columns in this dataset:\n",
    "\n",
    "* `DAYS_DECISION`: number of days before current application at Home Credit that decision was made about previous application\n",
    "* `DAYS_FIRST_DRAWING`: number of days before current application at Home Credit that first disbursement was made\n",
    "* `DAYS_FIRST_DUE`: number of days before current application at Home Credit that first due was suppoed to be\n",
    "* `DAYS_LAST_DUE_1ST_VERSION`: number of days before current application at Home Credit that first was??\n",
    "* `DAYS_LAST_DUE`: number of days before current application at Home Credit of last due date of previous application\n",
    "* `DAYS_TERMINATION`: number of days before current application at Home Credit of expected termination\n",
    "\n",
    "Let's convert all these into timedeltas in a loop and then make time columns."
   ]
  },
  {
   "cell_type": "code",
   "execution_count": 19,
   "metadata": {},
   "outputs": [
    {
     "name": "stdout",
     "output_type": "stream",
     "text": [
      "DAYS_FIRST_DRAWING int too big to convert\n",
      "DAYS_FIRST_DUE int too big to convert\n",
      "DAYS_LAST_DUE_1ST_VERSION int too big to convert\n",
      "DAYS_LAST_DUE int too big to convert\n",
      "DAYS_TERMINATION int too big to convert\n"
     ]
    }
   ],
   "source": [
    "# Convert to timedeltas in days\n",
    "for col in ['DAYS_DECISION', 'DAYS_FIRST_DRAWING', 'DAYS_FIRST_DUE', 'DAYS_LAST_DUE_1ST_VERSION', 'DAYS_LAST_DUE', 'DAYS_TERMINATION']:\n",
    "    try:\n",
    "        previous[col] = pd.to_timedelta(previous[col], 'D')\n",
    "    except Exception as e:\n",
    "        print(col, e)"
   ]
  },
  {
   "cell_type": "raw",
   "metadata": {},
   "source": [
    "Well that isn't promising. Let's look at the stats for one of these columns."
   ]
  },
  {
   "cell_type": "code",
   "execution_count": 20,
   "metadata": {},
   "outputs": [
    {
     "data": {
      "text/plain": [
       "count       568.000000\n",
       "mean     346522.274648\n",
       "std       80779.740446\n",
       "min       -2866.000000\n",
       "25%      365243.000000\n",
       "50%      365243.000000\n",
       "75%      365243.000000\n",
       "max      365243.000000\n",
       "Name: DAYS_FIRST_DRAWING, dtype: float64"
      ]
     },
     "execution_count": 20,
     "metadata": {},
     "output_type": "execute_result"
    }
   ],
   "source": [
    "previous['DAYS_FIRST_DRAWING'].describe()"
   ]
  },
  {
   "cell_type": "code",
   "execution_count": 21,
   "metadata": {},
   "outputs": [
    {
     "data": {
      "text/plain": [
       "count       568.000000\n",
       "mean      20786.410211\n",
       "std       86996.664768\n",
       "min       -2882.000000\n",
       "25%       -1663.750000\n",
       "50%        -844.500000\n",
       "75%        -416.750000\n",
       "max      365243.000000\n",
       "Name: DAYS_FIRST_DUE, dtype: float64"
      ]
     },
     "execution_count": 21,
     "metadata": {},
     "output_type": "execute_result"
    }
   ],
   "source": [
    "previous['DAYS_FIRST_DUE'].describe()"
   ]
  },
  {
   "cell_type": "markdown",
   "metadata": {},
   "source": [
    "It seems like the value '365243' is causing issues. We can replace that value with NaN to get the conversion to work. "
   ]
  },
  {
   "cell_type": "code",
   "execution_count": 22,
   "metadata": {},
   "outputs": [
    {
     "name": "stdout",
     "output_type": "stream",
     "text": [
      "DAYS_DECISION Cannot compare types 'ndarray(dtype=timedelta64[ns])' and 'int'\n"
     ]
    }
   ],
   "source": [
    "# Convert to timedeltas in days\n",
    "for col in ['DAYS_DECISION', 'DAYS_FIRST_DRAWING', 'DAYS_FIRST_DUE', 'DAYS_LAST_DUE_1ST_VERSION', 'DAYS_LAST_DUE', 'DAYS_TERMINATION']:\n",
    "    try:\n",
    "        previous[col] = previous[col].replace({365243: pd.NaT})\n",
    "        previous[col] = pd.to_timedelta(previous[col], 'D')\n",
    "    except Exception as e:\n",
    "        print(col, e)"
   ]
  },
  {
   "cell_type": "code",
   "execution_count": 23,
   "metadata": {},
   "outputs": [],
   "source": [
    "# Make date columns\n",
    "previous['previous_decision_date'] = start_date + previous['DAYS_DECISION']\n",
    "previous['previous_drawing_date'] = start_date + previous['DAYS_FIRST_DRAWING']\n",
    "previous['previous_first_due_date'] = start_date + previous['DAYS_FIRST_DUE']\n",
    "previous['previous_last_duefirst_date'] = start_date + previous['DAYS_LAST_DUE_1ST_VERSION']\n",
    "previous['previous_last_due_date'] = start_date + previous['DAYS_LAST_DUE']\n",
    "previous['previous_termination_date'] = start_date + previous['DAYS_TERMINATION']"
   ]
  },
  {
   "cell_type": "code",
   "execution_count": 24,
   "metadata": {},
   "outputs": [
    {
     "data": {
      "text/html": [
       "<div>\n",
       "<style scoped>\n",
       "    .dataframe tbody tr th:only-of-type {\n",
       "        vertical-align: middle;\n",
       "    }\n",
       "\n",
       "    .dataframe tbody tr th {\n",
       "        vertical-align: top;\n",
       "    }\n",
       "\n",
       "    .dataframe thead th {\n",
       "        text-align: right;\n",
       "    }\n",
       "</style>\n",
       "<table border=\"1\" class=\"dataframe\">\n",
       "  <thead>\n",
       "    <tr style=\"text-align: right;\">\n",
       "      <th></th>\n",
       "      <th>SK_ID_PREV</th>\n",
       "      <th>SK_ID_CURR</th>\n",
       "      <th>NAME_CONTRACT_TYPE</th>\n",
       "      <th>AMT_ANNUITY</th>\n",
       "      <th>AMT_APPLICATION</th>\n",
       "      <th>AMT_CREDIT</th>\n",
       "      <th>AMT_DOWN_PAYMENT</th>\n",
       "      <th>AMT_GOODS_PRICE</th>\n",
       "      <th>WEEKDAY_APPR_PROCESS_START</th>\n",
       "      <th>HOUR_APPR_PROCESS_START</th>\n",
       "      <th>...</th>\n",
       "      <th>CNT_PAYMENT</th>\n",
       "      <th>NAME_YIELD_GROUP</th>\n",
       "      <th>PRODUCT_COMBINATION</th>\n",
       "      <th>NFLAG_INSURED_ON_APPROVAL</th>\n",
       "      <th>previous_decision_date</th>\n",
       "      <th>previous_drawing_date</th>\n",
       "      <th>previous_first_due_date</th>\n",
       "      <th>previous_last_duefirst_date</th>\n",
       "      <th>previous_last_due_date</th>\n",
       "      <th>previous_termination_date</th>\n",
       "    </tr>\n",
       "  </thead>\n",
       "  <tbody>\n",
       "    <tr>\n",
       "      <th>0</th>\n",
       "      <td>1369693</td>\n",
       "      <td>100001</td>\n",
       "      <td>Consumer loans</td>\n",
       "      <td>3951.000</td>\n",
       "      <td>24835.5</td>\n",
       "      <td>23787.0</td>\n",
       "      <td>2520.0</td>\n",
       "      <td>24835.5</td>\n",
       "      <td>FRIDAY</td>\n",
       "      <td>13</td>\n",
       "      <td>...</td>\n",
       "      <td>8.0</td>\n",
       "      <td>high</td>\n",
       "      <td>POS mobile with interest</td>\n",
       "      <td>0.0</td>\n",
       "      <td>2011-03-28</td>\n",
       "      <td>NaT</td>\n",
       "      <td>2011-04-28</td>\n",
       "      <td>2011-11-24</td>\n",
       "      <td>2011-07-27</td>\n",
       "      <td>2011-08-03</td>\n",
       "    </tr>\n",
       "    <tr>\n",
       "      <th>1</th>\n",
       "      <td>1038818</td>\n",
       "      <td>100002</td>\n",
       "      <td>Consumer loans</td>\n",
       "      <td>9251.775</td>\n",
       "      <td>179055.0</td>\n",
       "      <td>179055.0</td>\n",
       "      <td>0.0</td>\n",
       "      <td>179055.0</td>\n",
       "      <td>SATURDAY</td>\n",
       "      <td>9</td>\n",
       "      <td>...</td>\n",
       "      <td>24.0</td>\n",
       "      <td>low_normal</td>\n",
       "      <td>POS other with interest</td>\n",
       "      <td>0.0</td>\n",
       "      <td>2014-05-05</td>\n",
       "      <td>NaT</td>\n",
       "      <td>2014-06-15</td>\n",
       "      <td>2016-05-05</td>\n",
       "      <td>2015-12-07</td>\n",
       "      <td>2015-12-15</td>\n",
       "    </tr>\n",
       "    <tr>\n",
       "      <th>2</th>\n",
       "      <td>1810518</td>\n",
       "      <td>100003</td>\n",
       "      <td>Cash loans</td>\n",
       "      <td>98356.995</td>\n",
       "      <td>900000.0</td>\n",
       "      <td>1035882.0</td>\n",
       "      <td>NaN</td>\n",
       "      <td>900000.0</td>\n",
       "      <td>FRIDAY</td>\n",
       "      <td>12</td>\n",
       "      <td>...</td>\n",
       "      <td>12.0</td>\n",
       "      <td>low_normal</td>\n",
       "      <td>Cash X-Sell: low</td>\n",
       "      <td>1.0</td>\n",
       "      <td>2013-12-16</td>\n",
       "      <td>NaT</td>\n",
       "      <td>2014-01-15</td>\n",
       "      <td>2014-12-11</td>\n",
       "      <td>2014-07-14</td>\n",
       "      <td>2014-07-23</td>\n",
       "    </tr>\n",
       "    <tr>\n",
       "      <th>3</th>\n",
       "      <td>2396755</td>\n",
       "      <td>100003</td>\n",
       "      <td>Consumer loans</td>\n",
       "      <td>6737.310</td>\n",
       "      <td>68809.5</td>\n",
       "      <td>68053.5</td>\n",
       "      <td>6885.0</td>\n",
       "      <td>68809.5</td>\n",
       "      <td>SATURDAY</td>\n",
       "      <td>15</td>\n",
       "      <td>...</td>\n",
       "      <td>12.0</td>\n",
       "      <td>middle</td>\n",
       "      <td>POS household with interest</td>\n",
       "      <td>1.0</td>\n",
       "      <td>2009-08-04</td>\n",
       "      <td>NaT</td>\n",
       "      <td>2009-09-04</td>\n",
       "      <td>2010-07-31</td>\n",
       "      <td>2010-07-31</td>\n",
       "      <td>2010-08-04</td>\n",
       "    </tr>\n",
       "    <tr>\n",
       "      <th>4</th>\n",
       "      <td>2636178</td>\n",
       "      <td>100003</td>\n",
       "      <td>Consumer loans</td>\n",
       "      <td>64567.665</td>\n",
       "      <td>337500.0</td>\n",
       "      <td>348637.5</td>\n",
       "      <td>0.0</td>\n",
       "      <td>337500.0</td>\n",
       "      <td>SUNDAY</td>\n",
       "      <td>17</td>\n",
       "      <td>...</td>\n",
       "      <td>6.0</td>\n",
       "      <td>middle</td>\n",
       "      <td>POS industry with interest</td>\n",
       "      <td>0.0</td>\n",
       "      <td>2013-09-25</td>\n",
       "      <td>NaT</td>\n",
       "      <td>2013-10-26</td>\n",
       "      <td>2014-03-25</td>\n",
       "      <td>2014-03-25</td>\n",
       "      <td>2014-04-02</td>\n",
       "    </tr>\n",
       "  </tbody>\n",
       "</table>\n",
       "<p>5 rows × 37 columns</p>\n",
       "</div>"
      ],
      "text/plain": [
       "   SK_ID_PREV  SK_ID_CURR NAME_CONTRACT_TYPE  AMT_ANNUITY  AMT_APPLICATION  \\\n",
       "0     1369693      100001     Consumer loans     3951.000          24835.5   \n",
       "1     1038818      100002     Consumer loans     9251.775         179055.0   \n",
       "2     1810518      100003         Cash loans    98356.995         900000.0   \n",
       "3     2396755      100003     Consumer loans     6737.310          68809.5   \n",
       "4     2636178      100003     Consumer loans    64567.665         337500.0   \n",
       "\n",
       "   AMT_CREDIT  AMT_DOWN_PAYMENT  AMT_GOODS_PRICE WEEKDAY_APPR_PROCESS_START  \\\n",
       "0     23787.0            2520.0          24835.5                     FRIDAY   \n",
       "1    179055.0               0.0         179055.0                   SATURDAY   \n",
       "2   1035882.0               NaN         900000.0                     FRIDAY   \n",
       "3     68053.5            6885.0          68809.5                   SATURDAY   \n",
       "4    348637.5               0.0         337500.0                     SUNDAY   \n",
       "\n",
       "   HOUR_APPR_PROCESS_START            ...            CNT_PAYMENT  \\\n",
       "0                       13            ...                    8.0   \n",
       "1                        9            ...                   24.0   \n",
       "2                       12            ...                   12.0   \n",
       "3                       15            ...                   12.0   \n",
       "4                       17            ...                    6.0   \n",
       "\n",
       "   NAME_YIELD_GROUP          PRODUCT_COMBINATION  NFLAG_INSURED_ON_APPROVAL  \\\n",
       "0              high     POS mobile with interest                        0.0   \n",
       "1        low_normal      POS other with interest                        0.0   \n",
       "2        low_normal             Cash X-Sell: low                        1.0   \n",
       "3            middle  POS household with interest                        1.0   \n",
       "4            middle   POS industry with interest                        0.0   \n",
       "\n",
       "   previous_decision_date previous_drawing_date previous_first_due_date  \\\n",
       "0              2011-03-28                   NaT              2011-04-28   \n",
       "1              2014-05-05                   NaT              2014-06-15   \n",
       "2              2013-12-16                   NaT              2014-01-15   \n",
       "3              2009-08-04                   NaT              2009-09-04   \n",
       "4              2013-09-25                   NaT              2013-10-26   \n",
       "\n",
       "  previous_last_duefirst_date previous_last_due_date previous_termination_date  \n",
       "0                  2011-11-24             2011-07-27                2011-08-03  \n",
       "1                  2016-05-05             2015-12-07                2015-12-15  \n",
       "2                  2014-12-11             2014-07-14                2014-07-23  \n",
       "3                  2010-07-31             2010-07-31                2010-08-04  \n",
       "4                  2014-03-25             2014-03-25                2014-04-02  \n",
       "\n",
       "[5 rows x 37 columns]"
      ]
     },
     "execution_count": 24,
     "metadata": {},
     "output_type": "execute_result"
    }
   ],
   "source": [
    "# Drop the time offset columns\n",
    "previous = previous.drop(columns = ['DAYS_DECISION', 'DAYS_FIRST_DRAWING', 'DAYS_FIRST_DUE', 'DAYS_LAST_DUE_1ST_VERSION', 'DAYS_LAST_DUE', 'DAYS_TERMINATION'])\n",
    "previous.head()"
   ]
  },
  {
   "cell_type": "code",
   "execution_count": 25,
   "metadata": {},
   "outputs": [
    {
     "data": {
      "image/png": "[encoded data removed]",
      "text/plain": [
       "<Figure size 576x432 with 1 Axes>"
      ]
     },
     "metadata": {},
     "output_type": "display_data"
    }
   ],
   "source": [
    "plt.figure(figsize = (8, 6))\n",
    "example_client = previous[previous['SK_ID_CURR'] == 100003]\n",
    "plt.plot(example_client['previous_decision_date'], example_client['AMT_CREDIT'], 'ro')\n",
    "plt.title('Client 100003 Previous Loan Amounts'); plt.xlabel('Date'); plt.ylabel('Credit Amount');"
   ]
  },
  {
   "cell_type": "code",
   "execution_count": 28,
   "metadata": {},
   "outputs": [
    {
     "data": {
      "image/png": "[encoded data removed]",
      "text/plain": [
       "<Figure size 576x432 with 1 Axes>"
      ]
     },
     "metadata": {},
     "output_type": "display_data"
    }
   ],
   "source": [
    "plt.figure(figsize = (8, 6))\n",
    "example_client = previous[previous['SK_ID_CURR'] == 100007]\n",
    "plt.plot(example_client['previous_decision_date'], example_client['AMT_CREDIT'], 'ro')\n",
    "plt.title('Client 100007 Previous Loan Amounts'); plt.xlabel('Date'); plt.ylabel('Credit Amount');"
   ]
  },
  {
   "cell_type": "markdown",
   "metadata": {},
   "source": [
    "#### Previous Credit and Cash\n",
    "\n",
    "The `credit_card_balance` and `POS_CASH_balance` each have a `MONTHS_BALANCE` column with the month offset. This is the number of months before the current application at Home Credit of the previous application record. These will be converted to timedeltas and then dates can be added."
   ]
  },
  {
   "cell_type": "code",
   "execution_count": 38,
   "metadata": {},
   "outputs": [],
   "source": [
    "# Convert to timedelta objects\n",
    "credit['MONTHS_BALANCE'] = pd.to_timedelta(credit['MONTHS_BALANCE'], 'M')\n",
    "cash['MONTHS_BALANCE'] = pd.to_timedelta(cash['MONTHS_BALANCE'], 'M')\n",
    "\n",
    "# Make a date column\n",
    "credit['credit_balance_date'] = start_date + credit['MONTHS_BALANCE']\n",
    "credit = credit.drop(columns = ['MONTHS_BALANCE'])\n",
    "\n",
    "# Make a date column\n",
    "cash['cash_balance_date'] = start_date + cash['MONTHS_BALANCE']\n",
    "cash = cash.drop(columns = ['MONTHS_BALANCE'])"
   ]
  },
  {
   "cell_type": "code",
   "execution_count": 40,
   "metadata": {},
   "outputs": [
    {
     "data": {
      "image/png": "[encoded data removed]",
      "text/plain": [
       "<Figure size 432x288 with 1 Axes>"
      ]
     },
     "metadata": {},
     "output_type": "display_data"
    }
   ],
   "source": [
    "# Select on loan and plot\n",
    "example_credit = cash[cash['SK_ID_PREV'] == 1369693]\n",
    "\n",
    "plt.plot(example_credit['cash_balance_date'], example_credit['NAME_CONTRACT_STATUS'], 'ro');\n",
    "plt.title('Loan 1369693 over Time'); plt.xlabel('Date'); plt.ylabel('Contract Status');"
   ]
  },
  {
   "cell_type": "markdown",
   "metadata": {},
   "source": [
    "#### Installments Payments \n",
    "\n",
    "The `installments_payments` data contains information on each payment made on the previous loans at Home Credit. It has two date offset columns:\n",
    "\n",
    "* `DAYS_INSTALMENT`: number of days before current application at Home Credit that previous installment was supposed to be paid\n",
    "* `DAYS_ENTRY_PAYMENT`: number of days before current application at Home Credit that previous installment was actually paid\n",
    "\n",
    "By now the process should be familiar: convert to timedeltas and then make time columns. "
   ]
  },
  {
   "cell_type": "code",
   "execution_count": 34,
   "metadata": {},
   "outputs": [],
   "source": [
    "# Conver to time delta object\n",
    "installments['DAYS_INSTALMENT'] = pd.to_timedelta(installments['DAYS_INSTALMENT'], 'D')\n",
    "installments['DAYS_ENTRY_PAYMENT'] = pd.to_timedelta(installments['DAYS_ENTRY_PAYMENT'], 'D')\n",
    "\n",
    "# Create time column and drop\n",
    "installments['installments_due_date'] = start_date + installments['DAYS_INSTALMENT']\n",
    "installments = installments.drop(columns = ['DAYS_INSTALMENT'])\n",
    "\n",
    "installments['installments_paid_date'] = start_date + installments['DAYS_ENTRY_PAYMENT']\n",
    "installments = installments.drop(columns = ['DAYS_ENTRY_PAYMENT'])"
   ]
  },
  {
   "cell_type": "code",
   "execution_count": 41,
   "metadata": {},
   "outputs": [
    {
     "data": {
      "text/html": [
       "<div>\n",
       "<style scoped>\n",
       "    .dataframe tbody tr th:only-of-type {\n",
       "        vertical-align: middle;\n",
       "    }\n",
       "\n",
       "    .dataframe tbody tr th {\n",
       "        vertical-align: top;\n",
       "    }\n",
       "\n",
       "    .dataframe thead th {\n",
       "        text-align: right;\n",
       "    }\n",
       "</style>\n",
       "<table border=\"1\" class=\"dataframe\">\n",
       "  <thead>\n",
       "    <tr style=\"text-align: right;\">\n",
       "      <th></th>\n",
       "      <th>SK_ID_PREV</th>\n",
       "      <th>SK_ID_CURR</th>\n",
       "      <th>NUM_INSTALMENT_VERSION</th>\n",
       "      <th>NUM_INSTALMENT_NUMBER</th>\n",
       "      <th>AMT_INSTALMENT</th>\n",
       "      <th>AMT_PAYMENT</th>\n",
       "      <th>installments_due_date</th>\n",
       "      <th>installments_paid_date</th>\n",
       "    </tr>\n",
       "  </thead>\n",
       "  <tbody>\n",
       "    <tr>\n",
       "      <th>0</th>\n",
       "      <td>1369693</td>\n",
       "      <td>100001</td>\n",
       "      <td>1.0</td>\n",
       "      <td>1</td>\n",
       "      <td>3951.00</td>\n",
       "      <td>3951.00</td>\n",
       "      <td>2011-04-28</td>\n",
       "      <td>2011-04-22</td>\n",
       "    </tr>\n",
       "    <tr>\n",
       "      <th>1</th>\n",
       "      <td>1369693</td>\n",
       "      <td>100001</td>\n",
       "      <td>1.0</td>\n",
       "      <td>2</td>\n",
       "      <td>3951.00</td>\n",
       "      <td>3951.00</td>\n",
       "      <td>2011-05-28</td>\n",
       "      <td>2011-04-22</td>\n",
       "    </tr>\n",
       "    <tr>\n",
       "      <th>2</th>\n",
       "      <td>1369693</td>\n",
       "      <td>100001</td>\n",
       "      <td>2.0</td>\n",
       "      <td>4</td>\n",
       "      <td>17397.90</td>\n",
       "      <td>17397.90</td>\n",
       "      <td>2011-07-27</td>\n",
       "      <td>2011-07-18</td>\n",
       "    </tr>\n",
       "    <tr>\n",
       "      <th>3</th>\n",
       "      <td>1369693</td>\n",
       "      <td>100001</td>\n",
       "      <td>1.0</td>\n",
       "      <td>3</td>\n",
       "      <td>3951.00</td>\n",
       "      <td>3951.00</td>\n",
       "      <td>2011-06-27</td>\n",
       "      <td>2011-06-16</td>\n",
       "    </tr>\n",
       "    <tr>\n",
       "      <th>4</th>\n",
       "      <td>1851984</td>\n",
       "      <td>100001</td>\n",
       "      <td>1.0</td>\n",
       "      <td>2</td>\n",
       "      <td>3982.05</td>\n",
       "      <td>3982.05</td>\n",
       "      <td>2008-01-07</td>\n",
       "      <td>2008-01-07</td>\n",
       "    </tr>\n",
       "  </tbody>\n",
       "</table>\n",
       "</div>"
      ],
      "text/plain": [
       "   SK_ID_PREV  SK_ID_CURR  NUM_INSTALMENT_VERSION  NUM_INSTALMENT_NUMBER  \\\n",
       "0     1369693      100001                     1.0                      1   \n",
       "1     1369693      100001                     1.0                      2   \n",
       "2     1369693      100001                     2.0                      4   \n",
       "3     1369693      100001                     1.0                      3   \n",
       "4     1851984      100001                     1.0                      2   \n",
       "\n",
       "   AMT_INSTALMENT  AMT_PAYMENT installments_due_date installments_paid_date  \n",
       "0         3951.00      3951.00            2011-04-28             2011-04-22  \n",
       "1         3951.00      3951.00            2011-05-28             2011-04-22  \n",
       "2        17397.90     17397.90            2011-07-27             2011-07-18  \n",
       "3         3951.00      3951.00            2011-06-27             2011-06-16  \n",
       "4         3982.05      3982.05            2008-01-07             2008-01-07  "
      ]
     },
     "execution_count": 41,
     "metadata": {},
     "output_type": "execute_result"
    }
   ],
   "source": [
    "installments.head()"
   ]
  },
  {
   "cell_type": "code",
   "execution_count": 44,
   "metadata": {},
   "outputs": [
    {
     "data": {
      "image/png": "[encoded data removed]",
      "text/plain": [
       "<Figure size 432x288 with 1 Axes>"
      ]
     },
     "metadata": {},
     "output_type": "display_data"
    }
   ],
   "source": [
    "# Select on loan and plot\n",
    "example_credit = installments[installments['SK_ID_PREV'] == 1369693]\n",
    "\n",
    "plt.plot((example_credit['installments_due_date'] - example_credit['installments_paid_date']).dt.days, example_credit['AMT_INSTALMENT'], 'ro');\n",
    "plt.title('Loan 1369693'); plt.xlabel('Days Paid Early'); plt.ylabel('Installment Amount');"
   ]
  },
  {
   "cell_type": "markdown",
   "metadata": {},
   "source": [
    "# Feature Synthesis using Featuretools\n",
    "\n",
    "We can now start making features based on the time columns. We will create an entityset named clients much as before, but now we have time variables that we can use. "
   ]
  },
  {
   "cell_type": "code",
   "execution_count": 77,
   "metadata": {},
   "outputs": [],
   "source": [
    "# Make an entityset\n",
    "es = ft.EntitySet(id = 'clients')"
   ]
  },
  {
   "cell_type": "markdown",
   "metadata": {},
   "source": [
    "## Encoding Categorical Variables\n",
    "\n",
    "There are a number of columns in the `app` dataframe that are represented as integers but are really categorical variables. These represent flags that can only take on a limited number of values (usually 2). To tell featuretools to treat these as categorical variables, we need to pass in the correct datatype. After going through the column definitions, I identified all of the categorical variables. To pass these to featuretools, we need to make a dictionary mapping {`categorical_variable`: `ft.variable_types.Categorical`}. Luckily most of the categorical column names are similar so we do not need to specify each one by hand. "
   ]
  },
  {
   "cell_type": "code",
   "execution_count": 78,
   "metadata": {},
   "outputs": [
    {
     "name": "stdout",
     "output_type": "stream",
     "text": [
      "Number of categorical variables:  37\n"
     ]
    }
   ],
   "source": [
    "app_categorical = {}\n",
    "\n",
    "# Iterate through the columns and record the categorical columns\n",
    "for col in app:\n",
    "    if ('FLAG' in col) or ('REGION' in col) or ('CITY_NOT' in col):\n",
    "        app_categorical[col] = ft.variable_types.Categorical\n",
    "\n",
    "print('Number of categorical variables: ', len(app_categorical))"
   ]
  },
  {
   "cell_type": "code",
   "execution_count": 79,
   "metadata": {},
   "outputs": [],
   "source": [
    "previous_categorical = {'FLAG_LAST_APPL_PER_CONTRACT': ft.variable_types.Categorical,\n",
    "                        'NFLAG_LAST_APPL_IN_DAY': ft.variable_types.Categorical,\n",
    "                        'NFLAG_INSURED_ON_APPROVAL': ft.variable_types.Categorical}"
   ]
  },
  {
   "cell_type": "markdown",
   "metadata": {},
   "source": [
    "### Entities\n",
    "\n",
    "When creating the entities, we specify the index, the time index (if present), and the variable types (if they need to be specified). "
   ]
  },
  {
   "cell_type": "code",
   "execution_count": 80,
   "metadata": {},
   "outputs": [],
   "source": [
    "# Entities with a unique index\n",
    "es = es.entity_from_dataframe(entity_id = 'app', dataframe = app, \n",
    "                              index = 'SK_ID_CURR', variable_types = app_categorical)\n",
    "\n",
    "es = es.entity_from_dataframe(entity_id = 'bureau', dataframe = bureau, \n",
    "                              index = 'SK_ID_BUREAU', time_index='bureau_credit_application_date')\n",
    "\n",
    "es = es.entity_from_dataframe(entity_id = 'previous', dataframe = previous, \n",
    "                              index = 'SK_ID_PREV', time_index = 'previous_decision_date',\n",
    "                              variable_types = previous_categorical)\n",
    "\n",
    "# Entities that do not have a unique index\n",
    "es = es.entity_from_dataframe(entity_id = 'bureau_balance', dataframe = bureau_balance, \n",
    "                              make_index = True, index = 'bb_index',\n",
    "                              time_index = 'bureau_balance_date')\n",
    "\n",
    "es = es.entity_from_dataframe(entity_id = 'cash', dataframe = cash, \n",
    "                              make_index = True, index = 'cash_index',\n",
    "                              time_index = 'cash_balance_date')\n",
    "\n",
    "es = es.entity_from_dataframe(entity_id = 'installments', dataframe = installments,\n",
    "                              make_index = True, index = 'installments_index',\n",
    "                              time_index = 'installments_paid_date')\n",
    "\n",
    "es = es.entity_from_dataframe(entity_id = 'credit', dataframe = credit,\n",
    "                              make_index = True, index = 'credit_index',\n",
    "                              time_index = 'credit_balance_date')"
   ]
  },
  {
   "cell_type": "markdown",
   "metadata": {},
   "source": [
    "### Relationships\n",
    "\n",
    "Not surprisingly, the relationships between tables has not changed since the previous implementation. "
   ]
  },
  {
   "cell_type": "code",
   "execution_count": 81,
   "metadata": {},
   "outputs": [],
   "source": [
    "# Relationship between app and bureau\n",
    "r_app_bureau = ft.Relationship(es['app']['SK_ID_CURR'], es['bureau']['SK_ID_CURR'])\n",
    "\n",
    "# Relationship between bureau and bureau balance\n",
    "r_bureau_balance = ft.Relationship(es['bureau']['SK_ID_BUREAU'], es['bureau_balance']['SK_ID_BUREAU'])\n",
    "\n",
    "# Relationship between current app and previous apps\n",
    "r_app_previous = ft.Relationship(es['app']['SK_ID_CURR'], es['previous']['SK_ID_CURR'])\n",
    "\n",
    "# Relationships between previous apps and cash, installments, and credit\n",
    "r_previous_cash = ft.Relationship(es['previous']['SK_ID_PREV'], es['cash']['SK_ID_PREV'])\n",
    "r_previous_installments = ft.Relationship(es['previous']['SK_ID_PREV'], es['installments']['SK_ID_PREV'])\n",
    "r_previous_credit = ft.Relationship(es['previous']['SK_ID_PREV'], es['credit']['SK_ID_PREV'])"
   ]
  },
  {
   "cell_type": "code",
   "execution_count": 82,
   "metadata": {},
   "outputs": [
    {
     "data": {
      "text/plain": [
       "Entityset: clients\n",
       "  Entities:\n",
       "    app [Rows: 1002, Columns: 123]\n",
       "    bureau [Rows: 1001, Columns: 17]\n",
       "    previous [Rows: 1001, Columns: 37]\n",
       "    bureau_balance [Rows: 1001, Columns: 4]\n",
       "    cash [Rows: 1001, Columns: 9]\n",
       "    installments [Rows: 1001, Columns: 9]\n",
       "    credit [Rows: 1001, Columns: 24]\n",
       "  Relationships:\n",
       "    bureau.SK_ID_CURR -> app.SK_ID_CURR\n",
       "    bureau_balance.SK_ID_BUREAU -> bureau.SK_ID_BUREAU\n",
       "    previous.SK_ID_CURR -> app.SK_ID_CURR\n",
       "    cash.SK_ID_PREV -> previous.SK_ID_PREV\n",
       "    installments.SK_ID_PREV -> previous.SK_ID_PREV\n",
       "    credit.SK_ID_PREV -> previous.SK_ID_PREV"
      ]
     },
     "execution_count": 82,
     "metadata": {},
     "output_type": "execute_result"
    }
   ],
   "source": [
    "# Add in the defined relationships\n",
    "es = es.add_relationships([r_app_bureau, r_bureau_balance, r_app_previous,\n",
    "                           r_previous_cash, r_previous_installments, r_previous_credit])\n",
    "# Print out the EntitySet\n",
    "es"
   ]
  },
  {
   "cell_type": "markdown",
   "metadata": {},
   "source": [
    "# Deep Feature Synthesis\n",
    "\n",
    "Now that we have time variables, we can apply deep feature synthesis and look at the generated features. In the previous notebook, we used the default aggregation and transformation primitives and then also specified a list of aggregation primitives. Here we will look at defining both aggregation and transformation primitives. \n",
    "\n",
    "At this point, having a __domain expert__ would be nice! Since we have no idea which features will actually be important, we will have to just make a bunch of features and then use some measure such as feature importances from a model to determine which should actually be kept. The primitives selected here are based on what has worked for others as well as guessing what might be important. \n",
    "\n",
    "\n",
    "## Aggregation Primitives\n",
    "\n",
    "\n",
    "The default aggregation primitives in feature tools are:\n",
    "\n",
    "`[\"sum\", \"std\", \"max\", \"skew\", \"min\", \"mean\", \"count\", \"percent_true\", \"n_unique\", \"mode\"]`\n",
    "\n",
    "To view the complete list, run the cell below."
   ]
  },
  {
   "cell_type": "code",
   "execution_count": 83,
   "metadata": {},
   "outputs": [],
   "source": [
    "# pd.options.display.max_colwidth = 200\n",
    "# primitives = ft.list_primitives()\n",
    "# primitives[primitives['type'] == 'aggregation']"
   ]
  },
  {
   "cell_type": "markdown",
   "metadata": {},
   "source": [
    "It's difficult to say which of these will actually be important. For now, we can limit the aggregations to the following list\n",
    "\n",
    "`['mean', 'max', 'min', 'trend', 'last', 'mode', 'count', 'percent_true', 'sum']`"
   ]
  },
  {
   "cell_type": "markdown",
   "metadata": {},
   "source": [
    "### Transformation Primitives \n",
    "\n",
    "The default transformation primitives in featuretools are:\n",
    "\n",
    "`[\"day\", \"year\", \"month\", \"weekday\", \"haversine\", \"num_words\", \"num_characters\"]`\n",
    "\n",
    "Since the time features we created are not actually \"exact times\" but are more important as relative times, we probably do not want to use features such as `day`, `year`, or `month`. To view the available transformation primitives, run the cell below."
   ]
  },
  {
   "cell_type": "code",
   "execution_count": 84,
   "metadata": {},
   "outputs": [],
   "source": [
    "# primitives[primitives['type'] == 'transform']"
   ]
  },
  {
   "cell_type": "markdown",
   "metadata": {},
   "source": [
    "We will use the following transformation primitives:\n",
    "\n",
    "`['diff', 'cum_sum', 'cum_mean', 'percentile']`\n",
    "\n",
    "These primarily have been selected because they seem \"interesting\". Our approach at this point is just to make as many features as possible before we start paring them down. "
   ]
  },
  {
   "cell_type": "markdown",
   "metadata": {},
   "source": [
    "### Run DFS to see Features\n",
    "\n",
    "At this point we will run Deep Feature Synthesis to look at the features which will be created. We specify `features_only=True` to only generate the feature names (and not the feature matrix). "
   ]
  },
  {
   "cell_type": "code",
   "execution_count": 60,
   "metadata": {},
   "outputs": [
    {
     "name": "stdout",
     "output_type": "stream",
     "text": [
      "There are 3038 potential features using the specified aggregations.\n"
     ]
    }
   ],
   "source": [
    "feature_names = ft.dfs(entityset = es, target_entity='app', \n",
    "                       agg_primitives = ['mean', 'max', 'min', 'trend', 'last', 'mode', 'count', 'percent_true', 'sum'],\n",
    "                       trans_primitives = ['diff', 'cum_sum', 'cum_mean', 'percentile'],\n",
    "                       max_depth = 2, features_only = True)\n",
    "\n",
    "print('There are %d potential features using the specified aggregations.' % len(feature_names))"
   ]
  },
  {
   "cell_type": "markdown",
   "metadata": {},
   "source": [
    "# Interesting Features\n",
    "\n",
    "Featuretools allows us to add in \"interesting\" features and then create new features conditioned on the interesting values of the variables. We might want to create some interesting values conditioned on specified categories of categorical variables. Let's look at one example using the `previous_applications` data."
   ]
  },
  {
   "cell_type": "code",
   "execution_count": 85,
   "metadata": {},
   "outputs": [
    {
     "data": {
      "text/plain": [
       "Approved        594\n",
       "Refused         206\n",
       "Canceled        186\n",
       "Unused offer     15\n",
       "Name: NAME_CONTRACT_STATUS, dtype: int64"
      ]
     },
     "execution_count": 85,
     "metadata": {},
     "output_type": "execute_result"
    }
   ],
   "source": [
    "previous['NAME_CONTRACT_STATUS'].value_counts()"
   ]
  },
  {
   "cell_type": "code",
   "execution_count": 86,
   "metadata": {},
   "outputs": [],
   "source": [
    "es['previous']['NAME_CONTRACT_STATUS'].interesting_values = ['Approved', 'Refused', 'Canceled', 'Unused offer']"
   ]
  },
  {
   "cell_type": "markdown",
   "metadata": {},
   "source": [
    "Now featuretools will add in new features conditioned on these values. "
   ]
  },
  {
   "cell_type": "code",
   "execution_count": 87,
   "metadata": {},
   "outputs": [
    {
     "name": "stdout",
     "output_type": "stream",
     "text": [
      "<Feature: MEAN(previous.MEAN(installments.SK_ID_CURR) WHERE NAME_CONTRACT_STATUS = Unused offer)>\n",
      "<Feature: MEAN(previous.MEAN(installments.SK_ID_CURR) WHERE NAME_CONTRACT_STATUS = Approved)>\n",
      "<Feature: MEAN(previous.MEAN(installments.SK_ID_CURR) WHERE NAME_CONTRACT_STATUS = Refused)>\n",
      "<Feature: MEAN(previous.MEAN(installments.SK_ID_CURR) WHERE NAME_CONTRACT_STATUS = Canceled)>\n",
      "<Feature: MEAN(previous.MEAN(installments.NUM_INSTALMENT_VERSION) WHERE NAME_CONTRACT_STATUS = Unused offer)>\n",
      "<Feature: MEAN(previous.MEAN(installments.NUM_INSTALMENT_VERSION) WHERE NAME_CONTRACT_STATUS = Approved)>\n",
      "<Feature: MEAN(previous.MEAN(installments.NUM_INSTALMENT_VERSION) WHERE NAME_CONTRACT_STATUS = Refused)>\n",
      "<Feature: MEAN(previous.MEAN(installments.NUM_INSTALMENT_VERSION) WHERE NAME_CONTRACT_STATUS = Canceled)>\n",
      "<Feature: MEAN(previous.MEAN(installments.NUM_INSTALMENT_NUMBER) WHERE NAME_CONTRACT_STATUS = Unused offer)>\n",
      "<Feature: MEAN(previous.MEAN(installments.NUM_INSTALMENT_NUMBER) WHERE NAME_CONTRACT_STATUS = Approved)>\n",
      "<Feature: MEAN(previous.MEAN(installments.NUM_INSTALMENT_NUMBER) WHERE NAME_CONTRACT_STATUS = Refused)>\n"
     ]
    }
   ],
   "source": [
    "feature_names = ft.dfs(entityset=es, target_entity='app', max_depth = 2, \n",
    "                       agg_primitives=['mean'], \n",
    "                       where_primitives = ['mean'], \n",
    "                       trans_primitives=[], features_only = True)\n",
    "\n",
    "i = 0\n",
    "# Examine any conditioned features\n",
    "for feature in feature_names:\n",
    "    if i > 10:\n",
    "        break\n",
    "    if 'WHERE' in str(feature):\n",
    "        print(feature)\n",
    "        i += 1"
   ]
  },
  {
   "cell_type": "markdown",
   "metadata": {},
   "source": [
    "Featuretools can add in interesting values for every categorical variables, but this might become overwhelming. For now, we will stick to using interesing values of the `NAME_CONTRACT_STATUS` from the `previous` dataframe as well as the `STATUS` column from the `bureau_balance` dataframe. "
   ]
  },
  {
   "cell_type": "code",
   "execution_count": 90,
   "metadata": {},
   "outputs": [
    {
     "data": {
      "text/plain": [
       "C    526\n",
       "X    233\n",
       "0    213\n",
       "1     29\n",
       "Name: STATUS, dtype: int64"
      ]
     },
     "execution_count": 90,
     "metadata": {},
     "output_type": "execute_result"
    }
   ],
   "source": [
    "bureau_balance['STATUS'].value_counts()"
   ]
  },
  {
   "cell_type": "code",
   "execution_count": 93,
   "metadata": {},
   "outputs": [],
   "source": [
    "es['bureau_balance']['STATUS'].interesting_values = ['X', '0']"
   ]
  },
  {
   "cell_type": "markdown",
   "metadata": {},
   "source": [
    "## Seed Features\n",
    "\n",
    "An aspect of featuretools that potentially allows us to include domain knowledge in the created features is seed features. These are manually defined features that featuretools will then build on top of where possible. We can show several examples here. A comprehensive coverage of seed features would involved examining the kernels posted to find the most useful features developed so far and then using those to build new features. For now, we will only make two seed features: whether or not an installment payment was less than the required amount, and whether or not previous loans at other institutions were paid off early. "
   ]
  },
  {
   "cell_type": "code",
   "execution_count": 103,
   "metadata": {},
   "outputs": [
    {
     "data": {
      "text/plain": [
       "Entity: bureau\n",
       "  Variables:\n",
       "    SK_ID_CURR (dtype: id)\n",
       "    CREDIT_ACTIVE (dtype: categorical)\n",
       "    CREDIT_CURRENCY (dtype: categorical)\n",
       "    CREDIT_DAY_OVERDUE (dtype: numeric)\n",
       "    AMT_CREDIT_MAX_OVERDUE (dtype: numeric)\n",
       "    CNT_CREDIT_PROLONG (dtype: numeric)\n",
       "    AMT_CREDIT_SUM (dtype: numeric)\n",
       "    AMT_CREDIT_SUM_DEBT (dtype: numeric)\n",
       "    AMT_CREDIT_SUM_LIMIT (dtype: numeric)\n",
       "    AMT_CREDIT_SUM_OVERDUE (dtype: numeric)\n",
       "    CREDIT_TYPE (dtype: categorical)\n",
       "    AMT_ANNUITY (dtype: numeric)\n",
       "    bureau_credit_application_date (dtype: datetime_time_index)\n",
       "    bureau_credit_end_date (dtype: datetime)\n",
       "    bureau_credit_close_date (dtype: datetime)\n",
       "    bureau_credit_update_date (dtype: datetime)\n",
       "    SK_ID_BUREAU (dtype: index)\n",
       "  Shape:\n",
       "    (Rows: 1001, Columns: 17)"
      ]
     },
     "execution_count": 103,
     "metadata": {},
     "output_type": "execute_result"
    }
   ],
   "source": [
    "es['bureau']"
   ]
  },
  {
   "cell_type": "code",
   "execution_count": 104,
   "metadata": {},
   "outputs": [],
   "source": [
    "late_installment = ft.primitives.Feature(es['installments']['AMT_INSTALMENT']) > ft.primitives.Feature(es['installments']['installments_due_date'])\n",
    "late_installment = late_installment.rename(\"late_installment\")\n",
    "\n",
    "paid_early_bureau = ft.primitives.Feature(es['bureau']['bureau_credit_close_date']) < ft.primitives.Feature(es['bureau']['bureau_credit_end_date'])\n",
    "paid_early_bureau = paid_early_bureau.rename(\"paid_early_bureau\")"
   ]
  },
  {
   "cell_type": "code",
   "execution_count": 108,
   "metadata": {},
   "outputs": [
    {
     "name": "stdout",
     "output_type": "stream",
     "text": [
      "<Feature: PERCENT_TRUE(bureau.paid_early_bureau)>\n",
      "<Feature: PERCENT_TRUE(installments.late_installment)>\n",
      "<Feature: SUM(previous.PERCENT_TRUE(installments.late_installment))>\n"
     ]
    }
   ],
   "source": [
    "feature_names = ft.dfs(entityset=es, target_entity='app', agg_primitives=['percent_true', 'sum'], trans_primitives=[],\n",
    "                       seed_features = [late_installment, paid_early_bureau], max_depth = 2, features_only = True)\n",
    "\n",
    "i = 0\n",
    "# Display new features built on the seed features\n",
    "for feature in feature_names:\n",
    "    if i > 10:\n",
    "        break\n",
    "    if ('late_installment' in str(feature)) or ('paid_early_bureau' in str(feature)):\n",
    "        print(feature)\n",
    "        i += 1"
   ]
  },
  {
   "cell_type": "markdown",
   "metadata": {},
   "source": [
    "We can see that featuretools built new features on top of the seed features. Again, we could go much further in depth with this functionality if we spent some time searching for features that others have developed which are helpful. "
   ]
  },
  {
   "cell_type": "markdown",
   "metadata": {},
   "source": [
    "# Putting it all Together\n",
    "\n",
    "Finally, we can run deep feature synthesis with the time variables, with the correct specified categorical variables, with the interesting features, and with the seed features. We'll only generate the feature names and then we can take the code, put it into a script, and use it to generate actual features."
   ]
  },
  {
   "cell_type": "code",
   "execution_count": 109,
   "metadata": {},
   "outputs": [
    {
     "name": "stdout",
     "output_type": "stream",
     "text": [
      "There are a total of 4834 features.\n"
     ]
    }
   ],
   "source": [
    "# DFS with agg, trans, where, and seed (only names)\n",
    "feature_names = ft.dfs(entityset = es, target_entity = 'app',\n",
    "                       agg_primitives = ['mean', 'max', 'min', 'trend', 'last', 'mode', 'count', 'sum', 'percent_true'],\n",
    "                       trans_primitives = ['diff', 'cum_sum', 'cum_mean', 'percentile'], \n",
    "                       where_primitives = ['mean', 'sum'],\n",
    "                       seed_features = [late_installment, paid_early_bureau],\n",
    "                       max_depth = 2, features_only = True)\n",
    "\n",
    "print('There are a total of %d features.' % len(feature_names))"
   ]
  },
  {
   "cell_type": "code",
   "execution_count": 111,
   "metadata": {},
   "outputs": [
    {
     "data": {
      "text/plain": [
       "[<Feature: MEAN(bureau.CUM_MEAN(AMT_CREDIT_SUM_LIMIT by SK_ID_CURR))>,\n",
       " <Feature: TREND(previous.LAST(credit.AMT_DRAWINGS_ATM_CURRENT), LAST(installments.installments_paid_date))>,\n",
       " <Feature: MIN(previous.SUM(cash.SK_ID_CURR))>,\n",
       " <Feature: SUM(previous.MIN(cash.SK_DPD))>,\n",
       " <Feature: TREND(previous.SUM(credit.AMT_CREDIT_LIMIT_ACTUAL), LAST(cash.cash_balance_date))>,\n",
       " <Feature: TREND(previous.MEAN(credit.CNT_DRAWINGS_CURRENT), LAST(cash.cash_balance_date))>,\n",
       " <Feature: PERCENTILE(MAX(previous.RATE_INTEREST_PRIVILEGED))>,\n",
       " <Feature: MAX(previous.CUM_MEAN(AMT_APPLICATION by SK_ID_CURR))>,\n",
       " <Feature: SUM(previous.MEAN(installments.AMT_INSTALMENT) WHERE NAME_CONTRACT_STATUS = Canceled)>,\n",
       " <Feature: LAST(previous.SUM(cash.CNT_INSTALMENT))>]"
      ]
     },
     "execution_count": 111,
     "metadata": {},
     "output_type": "execute_result"
    }
   ],
   "source": [
    "import random\n",
    "random.sample(feature_names, 10)"
   ]
  },
  {
   "cell_type": "markdown",
   "metadata": {},
   "source": [
    "# Conclusions \n",
    "\n",
    "In this notebook we look at some of the more advanced functionality in featuretools. We can use these methods to encode domain knowledge and try to extract as much useful information from the given data as possible. The next step is to implement this code in a script on a high-powered computer. Then we can use the features for modeling, determine which are the most important, perform feature selection, and maybe perform feature synthesis with a new set of of primitives, seed features, and interesting features. As with many aspects of machine learning, feature creation is largely an empirical and iterative procedure. "
   ]
  }
 ],
 "metadata": {
  "kernelspec": {
   "display_name": "Python 3",
   "language": "python",
   "name": "python3"
  },
  "language_info": {
   "codemirror_mode": {
    "name": "ipython",
    "version": 3
   },
   "file_extension": ".py",
   "mimetype": "text/x-python",
   "name": "python",
   "nbconvert_exporter": "python",
   "pygments_lexer": "ipython3",
   "version": "3.6.5"
  }
 },
 "nbformat": 4,
 "nbformat_minor": 2
}
